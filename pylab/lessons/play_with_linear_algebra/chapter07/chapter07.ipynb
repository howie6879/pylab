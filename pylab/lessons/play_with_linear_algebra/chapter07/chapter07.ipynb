{
 "cells": [
  {
   "cell_type": "markdown",
   "id": "626a4d4d-581a-468c-af7d-0b420e0b17b0",
   "metadata": {},
   "source": [
    "# 初等矩阵和矩阵的可逆性\n",
    "\n",
    "## 求解矩阵的逆\n",
    "\n",
    "矩阵中，如果$AB = BA = I$，则称$B$是$A$的逆矩阵，记作：$B = A^{-1}$，$A$称为可逆矩阵，或者叫非奇异矩阵(non-singular)，反之为奇异矩阵(singular)。\n",
    "\n",
    "只有方阵才有逆矩阵，那么如何求解逆矩阵？\n",
    "\n",
    "<img style=\"margin-left:25%\" src=\"https://gitee.com/howie6879/oss/raw/master/uPic/rf91nv.png\" width=\"50%\">\n",
    "\n",
    "<img style=\"margin-left:25%\" src=\"https://gitee.com/howie6879/oss/raw/master/uPic/uTTDZH.png\" width=\"50%\">"
   ]
  },
  {
   "cell_type": "code",
   "execution_count": 2,
   "id": "99717ca7-2e92-417d-8c3e-79b55f98bc43",
   "metadata": {},
   "outputs": [],
   "source": [
    "from src.linear_system import LinearSystem, inv"
   ]
  },
  {
   "cell_type": "code",
   "execution_count": 4,
   "id": "45cba8a6-8b4b-4b64-aa64-7d6dda28198d",
   "metadata": {},
   "outputs": [
    {
     "data": {
      "text/plain": [
       "Matrix([[-1.9999999999999996, 0.9999999999999998], [1.4999999999999998, -0.4999999999999999]])"
      ]
     },
     "execution_count": 4,
     "metadata": {},
     "output_type": "execute_result"
    }
   ],
   "source": [
    "A = Matrix([[1, 2], [3, 4]])\n",
    "invA = inv(A)\n",
    "invA"
   ]
  },
  {
   "cell_type": "code",
   "execution_count": 5,
   "id": "0e6699a7-5a98-4aad-9c12-f85762275714",
   "metadata": {},
   "outputs": [
    {
     "data": {
      "text/plain": [
       "Matrix([[1.0, 0.0], [8.881784197001252e-16, 0.9999999999999996]])"
      ]
     },
     "execution_count": 5,
     "metadata": {},
     "output_type": "execute_result"
    }
   ],
   "source": [
    "A.dot(invA)"
   ]
  },
  {
   "cell_type": "code",
   "execution_count": 6,
   "id": "3feee401-5f21-457c-b346-73162c93f014",
   "metadata": {},
   "outputs": [
    {
     "data": {
      "text/plain": [
       "Matrix([[0.9999999999999996, 0.0], [2.220446049250313e-16, 1.0]])"
      ]
     },
     "execution_count": 6,
     "metadata": {},
     "output_type": "execute_result"
    }
   ],
   "source": [
    "invA.dot(A)"
   ]
  },
  {
   "cell_type": "markdown",
   "id": "2052ef33-f361-4aba-8541-58884544a118",
   "metadata": {},
   "source": [
    "## 初等矩阵\n",
    "\n",
    "初等矩阵是指由单位矩阵经过一次初等变换得到的矩阵，初等矩阵的模样可以写一个3阶或者4阶的单位矩阵，通常记作$E$。\n",
    "\n",
    "其中初等变换有三种：\n",
    "\n",
    "<img style=\"margin-left:25%\" src=\"https://gitee.com/howie6879/oss/raw/master/uPic/0vKk8V.png\" width=\"50%\">\n",
    "\n",
    "其实高斯约旦消元法把矩阵转化为行最简形式的过程可以抽象成进行一系列的初等变化，也就是寻找一系列初等矩阵$E$，：\n",
    "\n",
    "$$\n",
    "E_{p} \\cdot \\ldots \\cdot E_{3} \\cdot E_{2} \\cdot E_{1} \\cdot A=\\operatorname{rref}(A) = I\n",
    "$$\n"
   ]
  },
  {
   "cell_type": "markdown",
   "id": "d03ff299-cc64-4ea2-b6cf-a2c3c2d2309a",
   "metadata": {},
   "source": [
    "## 矩阵的LU分解\n",
    "\n",
    "数的分解（质因数），如：`66 = 2*3*11`，一个矩阵也可以分解成矩阵乘积的形式，矩阵分解有不同的目的，其中`LU`分解是为了提高计算效率。\n",
    "\n",
    "`LU`分解：将矩阵$A$分解为：$A = L \\cdot U$\n",
    "\n",
    "<img style=\"margin-left:25%\" src=\"https://gitee.com/howie6879/oss/raw/master/uPic/F42BX6.png\" width=\"50%\">\n",
    "\n",
    "<img style=\"margin-left:25%\" src=\"https://gitee.com/howie6879/oss/raw/master/uPic/kiPrGZ.png\" width=\"50%\">\n"
   ]
  },
  {
   "cell_type": "code",
   "execution_count": 7,
   "id": "90f2b9a3-1523-4522-907b-f9c646e0f40a",
   "metadata": {},
   "outputs": [],
   "source": [
    "from src.lu import Matrix, Vector, lu"
   ]
  },
  {
   "cell_type": "code",
   "execution_count": 8,
   "id": "a0701af3-0269-4b43-b6bf-ddcbf72758f3",
   "metadata": {},
   "outputs": [
    {
     "data": {
      "text/plain": [
       "Matrix([[1, 2, 3], [4, 5, 6], [3, -3, 5]])"
      ]
     },
     "execution_count": 8,
     "metadata": {},
     "output_type": "execute_result"
    }
   ],
   "source": [
    "A1 = Matrix([[1, 2, 3], [4, 5, 6], [3, -3, 5]])\n",
    "A1"
   ]
  },
  {
   "cell_type": "code",
   "execution_count": 10,
   "id": "c805fd38-e7ca-4e32-b24f-da05a3fa6cdf",
   "metadata": {},
   "outputs": [
    {
     "name": "stdout",
     "output_type": "stream",
     "text": [
      "Matrix([[1.0, 0.0, 0.0], [4.0, 1.0, 0.0], [3.0, 3.0, 1.0]])\n",
      "Matrix([[1, 2, 3], [0.0, -3.0, -6.0], [0.0, 0.0, 14.0]])\n"
     ]
    }
   ],
   "source": [
    "L1, U1 = lu(A1)\n",
    "print(L1)\n",
    "print(U1)"
   ]
  },
  {
   "cell_type": "code",
   "execution_count": 11,
   "id": "391cd335-55dd-4362-ae83-a5f1d5fbd48b",
   "metadata": {},
   "outputs": [
    {
     "data": {
      "text/plain": [
       "Matrix([[1.0, 2.0, 3.0], [4.0, 5.0, 6.0], [3.0, -3.0, 5.0]])"
      ]
     },
     "execution_count": 11,
     "metadata": {},
     "output_type": "execute_result"
    }
   ],
   "source": [
    "L1.dot(U1)"
   ]
  },
  {
   "cell_type": "markdown",
   "id": "028696bf-3bba-49df-a73a-e7aee7667e1b",
   "metadata": {},
   "source": [
    "## 非方阵的LU分解，矩阵的LDU分解和PLU分解\n",
    "\n",
    "- LU分解可以用于非方阵\n",
    "- $A = L \\cdot D \\cdot U$\n",
    "- $A = P \\cdot L \\cdot U$"
   ]
  },
  {
   "cell_type": "code",
   "execution_count": null,
   "id": "0182200e-e782-49e7-a014-d5b95d0075a7",
   "metadata": {},
   "outputs": [],
   "source": []
  }
 ],
 "metadata": {
  "kernelspec": {
   "display_name": "Python 3 (ipykernel)",
   "language": "python",
   "name": "python3"
  },
  "language_info": {
   "codemirror_mode": {
    "name": "ipython",
    "version": 3
   },
   "file_extension": ".py",
   "mimetype": "text/x-python",
   "name": "python",
   "nbconvert_exporter": "python",
   "pygments_lexer": "ipython3",
   "version": "3.7.12"
  }
 },
 "nbformat": 4,
 "nbformat_minor": 5
}
