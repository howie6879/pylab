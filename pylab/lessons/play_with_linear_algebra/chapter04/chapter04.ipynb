{
 "cells": [
  {
   "cell_type": "markdown",
   "metadata": {},
   "source": [
    "# 矩阵\n",
    "\n",
    "## 什么是矩阵\n",
    "\n",
    "向量是对数的拓展，一个向量表示一组数；矩阵是对向量的拓展，一个矩阵表示一组向量：\n",
    "\n",
    "$$\n",
    "A=\\left(\\begin{array}{llll}\n",
    "a_{11} & a_{12} & a_{13} & a_{14} \\\\\n",
    "a_{21} & a_{22} & a_{23} & a_{24} \\\\\n",
    "a_{31} & a_{32} & a_{33} & a_{34}\n",
    "\\end{array}\\right)\n",
    "$$\n",
    "\n",
    "示例：\n",
    "\n",
    "$$\n",
    "A=\\left(\\begin{array}{cccc}\n",
    "1 & 2 & 3 & 4 \\\\\n",
    "5 & 6 & 7 & 8 \\\\\n",
    "9 & 10 & 11 & 12 \\\\\n",
    "13 & 14 & 15 & 16\n",
    "\\end{array}\\right)\n",
    "$$\n",
    "\n",
    "- $a_{ij}$：表示第`i`行，第`j`列\n",
    "- 方阵：矩阵的行数等于列数，（有很多特殊的性质）"
   ]
  },
  {
   "cell_type": "markdown",
   "metadata": {},
   "source": [
    "## 矩阵的基本运算"
   ]
  },
  {
   "cell_type": "code",
   "execution_count": 14,
   "metadata": {},
   "outputs": [],
   "source": [
    "from src.matrix import Matrix\n",
    "from src.vector import Vector"
   ]
  },
  {
   "cell_type": "code",
   "execution_count": 15,
   "metadata": {},
   "outputs": [
    {
     "data": {
      "text/plain": [
       "Matrix([[1, 2], [3, 4]])"
      ]
     },
     "execution_count": 15,
     "metadata": {},
     "output_type": "execute_result"
    }
   ],
   "source": [
    "matrix = Matrix([[1, 2], [3, 4]])\n",
    "matrix"
   ]
  },
  {
   "cell_type": "code",
   "execution_count": 16,
   "metadata": {},
   "outputs": [
    {
     "name": "stdout",
     "output_type": "stream",
     "text": [
      "matrix.shape = (2, 2)\n",
      "matrix.size = 4\n",
      "len(matrix) = 2\n",
      "matrix[0][0] = 1\n"
     ]
    }
   ],
   "source": [
    "print(\"matrix.shape = {}\".format(matrix.shape()))\n",
    "print(\"matrix.size = {}\".format(matrix.size()))\n",
    "print(\"len(matrix) = {}\".format(len(matrix)))\n",
    "print(\"matrix[0][0] = {}\".format(matrix[0, 0]))"
   ]
  },
  {
   "cell_type": "code",
   "execution_count": 17,
   "metadata": {},
   "outputs": [
    {
     "data": {
      "text/plain": [
       "Matrix([[5, 6], [7, 8]])"
      ]
     },
     "execution_count": 17,
     "metadata": {},
     "output_type": "execute_result"
    }
   ],
   "source": [
    "matrix2 = Matrix([[5, 6], [7, 8]])\n",
    "matrix2"
   ]
  },
  {
   "cell_type": "code",
   "execution_count": 18,
   "metadata": {},
   "outputs": [
    {
     "name": "stdout",
     "output_type": "stream",
     "text": [
      "add: Matrix([[6, 8], [10, 12]])\n"
     ]
    }
   ],
   "source": [
    "print(\"add: {}\".format(matrix + matrix2))"
   ]
  },
  {
   "cell_type": "code",
   "execution_count": 19,
   "metadata": {},
   "outputs": [
    {
     "name": "stdout",
     "output_type": "stream",
     "text": [
      "subtract: Matrix([[-4, -4], [-4, -4]])\n",
      "scalar-mul: Matrix([[2, 4], [6, 8]])\n",
      "scalar-mul: Matrix([[2, 4], [6, 8]])\n",
      "zero_2_3: Matrix([[0, 0, 0], [0, 0, 0]])\n"
     ]
    }
   ],
   "source": [
    "print(\"subtract: {}\".format(matrix - matrix2))\n",
    "print(\"scalar-mul: {}\".format(2 * matrix))\n",
    "print(\"scalar-mul: {}\".format(matrix * 2))\n",
    "print(\"zero_2_3: {}\".format(Matrix.zero(2, 3)))"
   ]
  },
  {
   "cell_type": "markdown",
   "metadata": {},
   "source": [
    "### 基本操作\n",
    "\n",
    "基本操作：\n",
    "- 加法\n",
    "- 数量乘法\n",
    "\n",
    "基本运算性质：\n",
    "- 交换律：$A+B = B+A$\n",
    "- 结合律：\n",
    "    - $(A+B) + C = A + (B+C)$\n",
    "    - $(ck)A = c(kA)$\n",
    "- 分配率：$k*(A+B) = k*A + k*B$\n",
    "- 存在矩阵 $A$，满足：$A+O=A$"
   ]
  },
  {
   "cell_type": "markdown",
   "metadata": {},
   "source": [
    "### 矩阵乘法\n",
    "\n",
    "- 矩阵和向量乘法\n",
    "- 矩阵和矩阵乘法\n",
    "\n",
    "\n",
    "#### 矩阵和向量的乘法\n",
    "\n",
    "如：$\\hat{A} \\cdot \\vec{x}=\\vec{b}$，举个数据例子如下：\n",
    "\n",
    "$$\n",
    "\\begin{gathered}\n",
    "\\left(\\begin{array}{cccc}\n",
    "1 & -0.2 & 0.1 & 0.5 \\\\\n",
    "-0.5 & -1 & 0.2 & 0.1 \\\\\n",
    "0 & -0.4 & -1 & 0.3 \\\\\n",
    "-0.2 & 0 & 0 & 1\n",
    "\\end{array}\\right)\\left(\\begin{array}{c}\n",
    "x_{i t} \\\\\n",
    "x_{e} \\\\\n",
    "x_{m} \\\\\n",
    "x_{h}\n",
    "\\end{array}\\right)=\\left(\\begin{array}{c}\n",
    "100 \\\\\n",
    "50 \\\\\n",
    "20 \\\\\n",
    "666\n",
    "\\end{array}\\right) \\\\\n",
    "\\end{gathered}\n",
    "$$\n",
    "\n",
    "计算方式：\n",
    "\n",
    "<img style=\"margin-left:25%\" src=\"https://gitee.com/howie6879/oss/raw/master/uPic/TE3mri.png\" width=\"50%\">"
   ]
  },
  {
   "cell_type": "code",
   "execution_count": 20,
   "metadata": {},
   "outputs": [],
   "source": [
    "T = Matrix([[1.5, 0], [0, 2]])\n",
    "p = Vector([5, 3])"
   ]
  },
  {
   "cell_type": "code",
   "execution_count": 21,
   "metadata": {},
   "outputs": [
    {
     "data": {
      "text/plain": [
       "Matrix([[1.5, 0], [0, 2]])"
      ]
     },
     "execution_count": 21,
     "metadata": {},
     "output_type": "execute_result"
    }
   ],
   "source": [
    "T"
   ]
  },
  {
   "cell_type": "code",
   "execution_count": 22,
   "metadata": {},
   "outputs": [
    {
     "data": {
      "text/plain": [
       "Vector([5, 3])"
      ]
     },
     "execution_count": 22,
     "metadata": {},
     "output_type": "execute_result"
    }
   ],
   "source": [
    "p"
   ]
  },
  {
   "cell_type": "code",
   "execution_count": 23,
   "metadata": {},
   "outputs": [
    {
     "name": "stdout",
     "output_type": "stream",
     "text": [
      "T.dot(p) = (7.5, 6)\n"
     ]
    }
   ],
   "source": [
    "print(\"T.dot(p) = {}\".format(T.dot(p)))"
   ]
  },
  {
   "cell_type": "markdown",
   "metadata": {},
   "source": [
    "#### 矩阵和矩阵的乘法\n",
    "\n",
    "矩阵之间乘法可以拆解成矩阵和向量的乘法：\n",
    "\n",
    "<img style=\"margin-left: 25%\" src=\"https://gitee.com/howie6879/oss/raw/master/uPic/6gNM3n.png\" width=\"50%\">\n",
    "\n",
    "[矩阵乘法的五种视角](https://blog.csdn.net/m0_37870649/article/details/118140060)，下面分别是行视角和列视角：\n",
    "\n",
    "<img style=\"margin-left: 25%\" src=\"https://gitee.com/howie6879/oss/raw/master/uPic/dkbXL9.png\" width=\"50%\">\n",
    "<img style=\"margin-left: 25%\" src=\"https://gitee.com/howie6879/oss/raw/master/uPic/zJuXLA.png\" width=\"50%\">"
   ]
  },
  {
   "cell_type": "code",
   "execution_count": 26,
   "metadata": {},
   "outputs": [
    {
     "data": {
      "text/plain": [
       "(Matrix([[0, 4, 5], [0, 0, 3]]), (2, 3))"
      ]
     },
     "execution_count": 26,
     "metadata": {},
     "output_type": "execute_result"
    }
   ],
   "source": [
    "P = Matrix([[0, 4, 5], [0, 0, 3]])\n",
    "P, P.shape()"
   ]
  },
  {
   "cell_type": "code",
   "execution_count": 27,
   "metadata": {},
   "outputs": [
    {
     "data": {
      "text/plain": [
       "(Matrix([[1.5, 0], [0, 2]]), (2, 2))"
      ]
     },
     "execution_count": 27,
     "metadata": {},
     "output_type": "execute_result"
    }
   ],
   "source": [
    "T, T.shape()"
   ]
  },
  {
   "cell_type": "code",
   "execution_count": 28,
   "metadata": {},
   "outputs": [
    {
     "data": {
      "text/plain": [
       "(Matrix([[1, 2], [3, 4]]), (2, 2))"
      ]
     },
     "execution_count": 28,
     "metadata": {},
     "output_type": "execute_result"
    }
   ],
   "source": [
    "matrix, matrix.shape()"
   ]
  },
  {
   "cell_type": "code",
   "execution_count": 29,
   "metadata": {},
   "outputs": [
    {
     "data": {
      "text/plain": [
       "(Matrix([[5, 6], [7, 8]]), (2, 2))"
      ]
     },
     "execution_count": 29,
     "metadata": {},
     "output_type": "execute_result"
    }
   ],
   "source": [
    "matrix2, matrix2.shape()"
   ]
  },
  {
   "cell_type": "code",
   "execution_count": 30,
   "metadata": {},
   "outputs": [
    {
     "name": "stdout",
     "output_type": "stream",
     "text": [
      "T.dot(P) = Matrix([[0.0, 6.0, 7.5], [0, 0, 6]])\n",
      "A.dot(B) = Matrix([[19, 22], [43, 50]])\n",
      "B.dot(A) = Matrix([[23, 34], [31, 46]])\n"
     ]
    }
   ],
   "source": [
    "print(\"T.dot(P) = {}\".format(T.dot(P)))\n",
    "\n",
    "print(\"A.dot(B) = {}\".format(matrix.dot(matrix2)))\n",
    "print(\"B.dot(A) = {}\".format(matrix2.dot(matrix)))"
   ]
  },
  {
   "cell_type": "markdown",
   "metadata": {},
   "source": [
    "#### 矩阵乘法的性质\n",
    "\n",
    "矩阵乘法遵守：\n",
    "\n",
    "$$\n",
    "\\begin{aligned}\n",
    "&(A \\cdot B) \\cdot C=A \\cdot(B \\cdot C) \\\\\n",
    "&A \\cdot(B+C)=A \\cdot B+A \\cdot C \\\\\n",
    "&(B+C) \\cdot A=B \\cdot A+C \\cdot A\n",
    "\\end{aligned}\n",
    "$$\n",
    "\n",
    "矩阵的幂（只有方阵才支持此运算）：\n",
    "\n",
    "$$\n",
    "A^{k}=\\underbrace{A \\cdot A^{*} \\ldots \\cdot A}_{k}\n",
    "$$"
   ]
  },
  {
   "cell_type": "markdown",
   "metadata": {},
   "source": [
    "### 转置\n",
    "\n",
    "转置的性质：\n",
    "\n",
    "$$\n",
    "\\begin{array}{l}\n",
    "\\left(A^{T}\\right)^{T}=A \\\\\n",
    "(A+B)^{T}=A^{T}+B^{T} \\\\\n",
    "(k \\cdot A)^{T}=k \\cdot A^{T} \\\\\n",
    "(A \\cdot B)^{T}=B^{T} \\cdot A^{T}\n",
    "\\end{array}\n",
    "$$"
   ]
  },
  {
   "cell_type": "code",
   "execution_count": null,
   "metadata": {},
   "outputs": [],
   "source": []
  }
 ],
 "metadata": {
  "kernelspec": {
   "display_name": "Python 3 (ipykernel)",
   "language": "python",
   "name": "python3"
  },
  "language_info": {
   "codemirror_mode": {
    "name": "ipython",
    "version": 3
   },
   "file_extension": ".py",
   "mimetype": "text/x-python",
   "name": "python",
   "nbconvert_exporter": "python",
   "pygments_lexer": "ipython3",
   "version": "3.7.12"
  },
  "toc-autonumbering": true,
  "toc-showtags": false
 },
 "nbformat": 4,
 "nbformat_minor": 4
}
