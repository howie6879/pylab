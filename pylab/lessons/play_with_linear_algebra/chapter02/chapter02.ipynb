{
 "cells": [
  {
   "cell_type": "markdown",
   "metadata": {},
   "source": [
    "# 一切从向量开始"
   ]
  },
  {
   "cell_type": "markdown",
   "metadata": {},
   "source": [
    "## 什么是向量"
   ]
  },
  {
   "cell_type": "markdown",
   "metadata": {},
   "source": [
    "向量(Vector)是线性代数研究的基本元素:\n",
    "\n",
    "- 可以表示方向，但如果只是表示方向，最多三维就够了\n",
    "- 更加抽象的：n维向量\n",
    "\n",
    "向量就是一组数，这组数的含义由使用者定义:\n",
    "\n",
    "- 一个数 6\n",
    "- 一组数 (6, 6)，这样就可以表示方向了\n",
    "\n",
    "<img style=\"\" src=\"https://gitee.com/howie6879/oss/raw/master/uPic/1VClx7.png\" width=\"50%\">\n",
    "\n",
    "空间中的一个点，可以看做从原点指向指向这个点的一个方向\n",
    "\n",
    "不同的视角有不同的看法：\n",
    "\n",
    "- 是一个有向线段\n",
    "- 是空间中的点，可以看做从原点指向这个点的方向\n",
    "\n",
    "向量不是简单的一组数，更加严格的定义：\n",
    "\n",
    "- 和向量相对应，一个数字，称为**标量**\n",
    "- 代数，用符号表示数。和标量相区别，向量的符号上面画一个箭头: $\\vec{v}$\n",
    "- 个别情况，尤其是几何学，我们会考虑向量的起始点\n",
    "\n",
    "<img style=\"\" src=\"https://gitee.com/howie6879/oss/raw/master/uPic/prlU5x.png\" width=\"50%\">\n",
    "\n",
    "从线性角度看，这两个向量是同样的向量。\n",
    "\n",
    "向量分**行向量**和**列向量**\n",
    "\n",
    "- 行向量：$(3,4)$\n",
    "- 列向量：$\\left(\\begin{array}{l}3 \\\\ 4\\end{array}\\right)$，通常教程论文提到的向量都是列向量，为了表示列向量，可以这么表示：$(3,4)^{T}$"
   ]
  },
  {
   "cell_type": "markdown",
   "metadata": {},
   "source": [
    "### 实现属于我们自己的向量"
   ]
  },
  {
   "cell_type": "code",
   "execution_count": 2,
   "metadata": {},
   "outputs": [],
   "source": [
    "class Vector:\n",
    "    \"\"\"实现属于我们自己的向量\"\"\"\n",
    "\n",
    "    def __init__(self, lst):\n",
    "        self._values = lst\n",
    "\n",
    "    def __getitem__(self, index):\n",
    "        \"\"\"取向量的第index个元素\"\"\"\n",
    "        return self._values[index]\n",
    "\n",
    "    def __len__(self):\n",
    "        \"\"\"返回向量长度（有多少个元素）\"\"\"\n",
    "        return len(self._values)\n",
    "\n",
    "    def __repr__(self):\n",
    "        \"\"\"针对开发，更精确\"\"\"\n",
    "        return \"Vector({})\".format(self._values)\n",
    "\n",
    "    def __str__(self):\n",
    "        \"\"\"针对用户，更直观\"\"\"\n",
    "        return \"({})\".format(\", \".join(str(e) for e in self._values))"
   ]
  },
  {
   "cell_type": "code",
   "execution_count": 7,
   "metadata": {},
   "outputs": [
    {
     "name": "stdout",
     "output_type": "stream",
     "text": [
      "(5, 2)\n"
     ]
    }
   ],
   "source": [
    "u = Vector([5, 2])\n",
    "print(u)"
   ]
  },
  {
   "cell_type": "code",
   "execution_count": 8,
   "metadata": {},
   "outputs": [
    {
     "data": {
      "text/plain": [
       "Vector([5, 2])"
      ]
     },
     "execution_count": 8,
     "metadata": {},
     "output_type": "execute_result"
    }
   ],
   "source": [
    "u"
   ]
  },
  {
   "cell_type": "code",
   "execution_count": 25,
   "metadata": {},
   "outputs": [
    {
     "data": {
      "text/plain": [
       "2"
      ]
     },
     "execution_count": 25,
     "metadata": {},
     "output_type": "execute_result"
    }
   ],
   "source": [
    "len(u)"
   ]
  },
  {
   "cell_type": "code",
   "execution_count": 6,
   "metadata": {},
   "outputs": [
    {
     "data": {
      "text/plain": [
       "(5, 2)"
      ]
     },
     "execution_count": 6,
     "metadata": {},
     "output_type": "execute_result"
    }
   ],
   "source": [
    "u[0], u[1]"
   ]
  },
  {
   "cell_type": "code",
   "execution_count": null,
   "metadata": {},
   "outputs": [],
   "source": []
  },
  {
   "cell_type": "markdown",
   "metadata": {},
   "source": [
    "## 向量基本运算\n",
    "\n",
    "向量的两个最重要的基本运算\n",
    "\n",
    "- 向量加法\n",
    "- 数量乘法"
   ]
  },
  {
   "cell_type": "markdown",
   "metadata": {},
   "source": [
    "### 实现向量的基本运算\n",
    "\n",
    "向量加法：\n",
    "\n",
    "<img style=\"\" src=\"https://gitee.com/howie6879/oss/raw/master/uPic/gzf4p7.png\" width=\"30%\">"
   ]
  },
  {
   "cell_type": "code",
   "execution_count": 27,
   "metadata": {},
   "outputs": [],
   "source": [
    "class Vector:\n",
    "    \"\"\"\n",
    "    实现向量的基本运算\n",
    "    \"\"\"\n",
    "\n",
    "    def __init__(self, lst):\n",
    "        self._values = list(lst)\n",
    "\n",
    "    def __add__(self, another):\n",
    "        \"\"\"向量加法，返回结果向量\"\"\"\n",
    "        assert len(self) == len(\n",
    "            another\n",
    "        ), \"Error in adding. Length of vectors must be same.\"\n",
    "\n",
    "        # return Vector([a + b for a, b in zip(self._values, another._values)])\n",
    "        return Vector([a + b for a, b in zip(self, another)])\n",
    "\n",
    "    def __sub__(self, another):\n",
    "        \"\"\"向量减法，返回结果向量\"\"\"\n",
    "        assert len(self) == len(\n",
    "            another\n",
    "        ), \"Error in subtracting. Length of vectors must be same.\"\n",
    "\n",
    "        return Vector([a - b for a, b in zip(self, another)])\n",
    "\n",
    "    def __mul__(self, k):\n",
    "        \"\"\"返回数量乘法的结果向量：self * k\"\"\"\n",
    "        return Vector([k * e for e in self])\n",
    "\n",
    "    def __rmul__(self, k):\n",
    "        \"\"\"返回数量乘法的结果向量：k * self\"\"\"\n",
    "        return self * k\n",
    "\n",
    "    def __pos__(self):\n",
    "        \"\"\"返回向量取正的结果向量\"\"\"\n",
    "        return 1 * self\n",
    "\n",
    "    def __neg__(self):\n",
    "        \"\"\"返回向量取负的结果向量\"\"\"\n",
    "        return -1 * self\n",
    "\n",
    "    def __iter__(self):\n",
    "        \"\"\"返回向量的迭代器\"\"\"\n",
    "        return self._values.__iter__()\n",
    "\n",
    "    def __getitem__(self, index):\n",
    "        \"\"\"取向量的第index个元素\"\"\"\n",
    "        return self._values[index]\n",
    "\n",
    "    def __len__(self):\n",
    "        \"\"\"返回向量长度（有多少个元素）\"\"\"\n",
    "        return len(self._values)\n",
    "\n",
    "    def __repr__(self):\n",
    "        return \"Vector({})\".format(self._values)\n",
    "\n",
    "    def __str__(self):\n",
    "        return \"({})\".format(\", \".join(str(e) for e in self._values))"
   ]
  },
  {
   "cell_type": "code",
   "execution_count": 28,
   "metadata": {},
   "outputs": [],
   "source": [
    "a = Vector([1, 2])\n",
    "b = Vector([3, 4])"
   ]
  },
  {
   "cell_type": "code",
   "execution_count": 29,
   "metadata": {},
   "outputs": [
    {
     "data": {
      "text/plain": [
       "Vector([4, 6])"
      ]
     },
     "execution_count": 29,
     "metadata": {},
     "output_type": "execute_result"
    }
   ],
   "source": [
    "a + b"
   ]
  },
  {
   "cell_type": "code",
   "execution_count": 30,
   "metadata": {},
   "outputs": [
    {
     "data": {
      "text/plain": [
       "Vector([-2, -2])"
      ]
     },
     "execution_count": 30,
     "metadata": {},
     "output_type": "execute_result"
    }
   ],
   "source": [
    "a - b"
   ]
  },
  {
   "cell_type": "code",
   "execution_count": 31,
   "metadata": {},
   "outputs": [
    {
     "data": {
      "text/plain": [
       "Vector([3, 6])"
      ]
     },
     "execution_count": 31,
     "metadata": {},
     "output_type": "execute_result"
    }
   ],
   "source": [
    "a * 3"
   ]
  },
  {
   "cell_type": "code",
   "execution_count": 32,
   "metadata": {},
   "outputs": [
    {
     "data": {
      "text/plain": [
       "Vector([3, 6])"
      ]
     },
     "execution_count": 32,
     "metadata": {},
     "output_type": "execute_result"
    }
   ],
   "source": [
    "3 * a"
   ]
  },
  {
   "cell_type": "code",
   "execution_count": 33,
   "metadata": {},
   "outputs": [
    {
     "data": {
      "text/plain": [
       "Vector([-1, -2])"
      ]
     },
     "execution_count": 33,
     "metadata": {},
     "output_type": "execute_result"
    }
   ],
   "source": [
    "-a"
   ]
  },
  {
   "cell_type": "code",
   "execution_count": 34,
   "metadata": {},
   "outputs": [
    {
     "data": {
      "text/plain": [
       "[1, 2]"
      ]
     },
     "execution_count": 34,
     "metadata": {},
     "output_type": "execute_result"
    }
   ],
   "source": [
    "list(iter(a))"
   ]
  },
  {
   "cell_type": "markdown",
   "metadata": {},
   "source": [
    "### 向量运算的基本性质\n",
    "\n",
    "- $\\vec{u} + \\vec{v} = \\vec{v} + \\vec{u}$\n",
    "- $(\\vec{u} + \\vec{v}) + \\vec{w} = \\vec{u} + (\\vec{v} + \\vec{w})$\n",
    "- $k(\\vec{u} + \\vec{v}) = k\\vec{u} + k\\vec{v}$\n",
    "- $1\\vec{u} = \\vec{u}$"
   ]
  },
  {
   "cell_type": "markdown",
   "metadata": {},
   "source": [
    "## 零向量\n",
    "\n",
    "> 我们不定义什么是零向量，我们从推导出一个性质出发\n",
    "\n",
    "对于任意一个向量$\\vec{u}$，都存在一个向量$O$，满足$\\vec{u}+O=\\vec{u}$\n",
    "\n",
    "坐标原点，零向量没有方向，是一个点"
   ]
  },
  {
   "cell_type": "markdown",
   "metadata": {},
   "source": [
    "### 实现零向量"
   ]
  },
  {
   "cell_type": "code",
   "execution_count": 35,
   "metadata": {},
   "outputs": [],
   "source": [
    "class Vector:\n",
    "    def __init__(self, lst):\n",
    "        self._values = list(lst)\n",
    "\n",
    "    @classmethod\n",
    "    def zero(cls, dim):\n",
    "        \"\"\"返回一个dim维的零向量\"\"\"\n",
    "        return cls([0] * dim)\n",
    "\n",
    "    def __add__(self, another):\n",
    "        \"\"\"向量加法，返回结果向量\"\"\"\n",
    "        assert len(self) == len(\n",
    "            another\n",
    "        ), \"Error in adding. Length of vectors must be same.\"\n",
    "\n",
    "        return Vector([a + b for a, b in zip(self, another)])\n",
    "\n",
    "    def __sub__(self, another):\n",
    "        \"\"\"向量减法，返回结果向量\"\"\"\n",
    "        assert len(self) == len(\n",
    "            another\n",
    "        ), \"Error in subtracting. Length of vectors must be same.\"\n",
    "\n",
    "        return Vector([a - b for a, b in zip(self, another)])\n",
    "\n",
    "    def __mul__(self, k):\n",
    "        \"\"\"返回数量乘法的结果向量：self * k\"\"\"\n",
    "        return Vector([k * e for e in self])\n",
    "\n",
    "    def __rmul__(self, k):\n",
    "        \"\"\"返回数量乘法的结果向量：k * self\"\"\"\n",
    "        return self * k\n",
    "\n",
    "    def __pos__(self):\n",
    "        \"\"\"返回向量取正的结果向量\"\"\"\n",
    "        return 1 * self\n",
    "\n",
    "    def __neg__(self):\n",
    "        \"\"\"返回向量取负的结果向量\"\"\"\n",
    "        return -1 * self\n",
    "\n",
    "    def __iter__(self):\n",
    "        \"\"\"返回向量的迭代器\"\"\"\n",
    "        return self._values.__iter__()\n",
    "\n",
    "    def __getitem__(self, index):\n",
    "        \"\"\"取向量的第index个元素\"\"\"\n",
    "        return self._values[index]\n",
    "\n",
    "    def __len__(self):\n",
    "        \"\"\"返回向量长度（有多少个元素）\"\"\"\n",
    "        return len(self._values)\n",
    "\n",
    "    def __repr__(self):\n",
    "        return \"Vector({})\".format(self._values)\n",
    "\n",
    "    def __str__(self):\n",
    "        return \"({})\".format(\", \".join(str(e) for e in self._values))"
   ]
  },
  {
   "cell_type": "code",
   "execution_count": 36,
   "metadata": {},
   "outputs": [
    {
     "data": {
      "text/plain": [
       "Vector([0, 0])"
      ]
     },
     "execution_count": 36,
     "metadata": {},
     "output_type": "execute_result"
    }
   ],
   "source": [
    "a = Vector([1, 2])\n",
    "a.zero(2)"
   ]
  },
  {
   "cell_type": "code",
   "execution_count": 37,
   "metadata": {},
   "outputs": [
    {
     "data": {
      "text/plain": [
       "Vector([1, 2])"
      ]
     },
     "execution_count": 37,
     "metadata": {},
     "output_type": "execute_result"
    }
   ],
   "source": [
    "a"
   ]
  },
  {
   "cell_type": "markdown",
   "metadata": {},
   "source": [
    "## 总结\n",
    "\n",
    "向量除了是数字，还具有相当强的几何特征，随后介绍了一些基本运算以及性质"
   ]
  }
 ],
 "metadata": {
  "interpreter": {
   "hash": "2a12674b59c88e490199216bd1c834f3d3a9ea10bb3e495a1d86faf23a65a0b1"
  },
  "kernelspec": {
   "display_name": "Python 3 (ipykernel)",
   "language": "python",
   "name": "python3"
  },
  "language_info": {
   "codemirror_mode": {
    "name": "ipython",
    "version": 3
   },
   "file_extension": ".py",
   "mimetype": "text/x-python",
   "name": "python",
   "nbconvert_exporter": "python",
   "pygments_lexer": "ipython3",
   "version": "3.7.12"
  },
  "toc-autonumbering": true,
  "toc-showmarkdowntxt": false
 },
 "nbformat": 4,
 "nbformat_minor": 4
}
