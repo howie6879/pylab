{
 "cells": [
  {
   "cell_type": "markdown",
   "id": "4779c714-ebc2-4028-af71-fb0d51991b6a",
   "metadata": {},
   "source": [
    "# 向量空间，维度，和四大子空间\n",
    "\n",
    "## 空间，向量空间和欧几里得空间\n",
    "\n",
    "- 空间是一个集合\n",
    "- 向量空间：空间的元素是`向量`\n",
    "- 欧几里得空间：\n",
    "    - 是有序实数元组的集合，比如二维空间：$R^{2}$\n",
    "    - 是点集，是起点为原点的向量集合，一个点就是一个向量\n",
    "\n",
    "关于`向量`的定义：\n",
    "\n",
    "<img style=\"margin-left:25%\" src=\"https://gitee.com/howie6879/oss/raw/master/uPic/x51Ml9.png\" width=\"50%\">"
   ]
  },
  {
   "cell_type": "markdown",
   "id": "91af09b1-2d46-4d9f-b9b1-a024b96d7144",
   "metadata": {},
   "source": [
    "## 子空间\n",
    "\n",
    "<img style=\"margin-left:25%\" src=\"https://gitee.com/howie6879/oss/raw/master/uPic/OsdXwB.png\" width=\"50%\">\n",
    "\n",
    "对于三维空间来说: \n",
    "- 过原点的一个平面，是三维空间的一个子空间 \n",
    "- 过原点的一个直线，是三维空间的一个子空间 \n",
    "- 原点本身，是三维空间的一个子空间\n",
    "\n",
    "## 维度\n",
    "\n",
    "一个空间的基中，向量的个数，称为维度。\n",
    "\n",
    "## 行空间\n",
    "\n",
    "对于一个矩阵：\n",
    "- 行向量生成的空间，称为行空间\n",
    "- m行n列，行空间是n维空间的子集\n",
    "- 一个矩阵的行最简形式的非零行数量称为矩阵的行秩(Row Rank)\n",
    "- 行空间的维度，为矩阵的行秩\n",
    "\n",
    "\n",
    "## 列空间\n",
    "  \n",
    "对于一个矩阵：\n",
    "- 列向量生成的空间，称为列空间\n",
    "- m行n列，列空间是m维空间的子集\n",
    "\n",
    "<img style=\"margin-left:25%\" src=\"https://gitee.com/howie6879/oss/raw/master/uPic/TAACiD.png\" width=\"50%\">\n",
    "\n",
    "<img style=\"margin-left:25%\" src=\"https://gitee.com/howie6879/oss/raw/master/uPic/7rUanS.png\" width=\"50%\">\n",
    "\n",
    "## 矩阵的秩\n",
    "\n",
    "矩阵的行秩=矩阵的列秩"
   ]
  },
  {
   "cell_type": "code",
   "execution_count": 1,
   "id": "d6ad9d98-3f44-478c-8ff8-585c4dc88295",
   "metadata": {},
   "outputs": [],
   "source": [
    "from src.linear_system import Matrix, rank"
   ]
  },
  {
   "cell_type": "code",
   "execution_count": 2,
   "id": "6400b7e7-8df7-48fb-a677-c22b8456f79e",
   "metadata": {},
   "outputs": [],
   "source": [
    "A = Matrix([[1, 2], [3, 4]])"
   ]
  },
  {
   "cell_type": "code",
   "execution_count": 3,
   "id": "10ee437f-da74-4ea3-be7f-fbf3e023b1b9",
   "metadata": {},
   "outputs": [
    {
     "data": {
      "text/plain": [
       "2"
      ]
     },
     "execution_count": 3,
     "metadata": {},
     "output_type": "execute_result"
    }
   ],
   "source": [
    "rank(A)"
   ]
  },
  {
   "cell_type": "code",
   "execution_count": null,
   "id": "80c8ec42-b41d-43e9-8e75-7dd6d57a3a79",
   "metadata": {},
   "outputs": [],
   "source": []
  }
 ],
 "metadata": {
  "kernelspec": {
   "display_name": "Python 3 (ipykernel)",
   "language": "python",
   "name": "python3"
  },
  "language_info": {
   "codemirror_mode": {
    "name": "ipython",
    "version": 3
   },
   "file_extension": ".py",
   "mimetype": "text/x-python",
   "name": "python",
   "nbconvert_exporter": "python",
   "pygments_lexer": "ipython3",
   "version": "3.7.12"
  }
 },
 "nbformat": 4,
 "nbformat_minor": 5
}
