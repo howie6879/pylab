{
 "cells": [
  {
   "cell_type": "markdown",
   "metadata": {},
   "source": [
    "# 向量的高级话题"
   ]
  },
  {
   "cell_type": "markdown",
   "metadata": {},
   "source": [
    "## 规范化和单位向量\n",
    "\n",
    "向量的长度，用双竖线包围向量称为向量的模\n",
    "\n",
    "### 向量的长度\n",
    "\n",
    "**$\\vec{u} = (3,4)$，其大小是多少？**\n",
    "\n",
    "向量的模：||$\\vec{u}||=\\sqrt{3^{2}+4^{2}}=5$，实际上求的也是欧拉距离，二范数\n",
    "\n",
    "推广来看的话，`n`维向量的模：\n",
    "\n",
    "$$\n",
    "\\|\\vec{u}\\|=\\sqrt{u_{1}^{2}+u_{2}^{2}+\\ldots+u_{n}^{2}}\n",
    "$$\n",
    "\n",
    "### 单位向量\n",
    "\n",
    "单位向量只表示**方向**，且$||\\hat{u}||=1$：\n",
    "\n",
    "$$\n",
    "\\hat{u}=\\frac{1}{\\|\\vec{u}\\|} \\cdot \\vec{u}=\\left(\\frac{u_{1}}{\\mid \\vec{u} \\|}, \\frac{u_{2}}{\\|\\vec{u}\\|}, \\ldots, \\frac{u_{n}}{\\|\\vec{u}\\|}\\right)\n",
    "$$\n",
    "\n",
    "**那么根据$\\vec{u}求出\\hat{u}$的过程就是：归一化，规范化（normalize）**\n",
    "\n",
    "**标准单位向量**：\n",
    "\n",
    "单位向量有无数个，但二维空间标准单位向量有两个：\n",
    "- $\\vec{e}_1 = (1,0)$\n",
    "- $\\vec{e}_2 = (0,1)$\n",
    "\n",
    "二维中有两个标准单位向量，三维中有三个标准单位向量，n为中，有n个标准单位向量"
   ]
  },
  {
   "cell_type": "code",
   "execution_count": 1,
   "metadata": {},
   "outputs": [],
   "source": [
    "# 实现向量规范化\n",
    "from vector import Vector"
   ]
  },
  {
   "cell_type": "code",
   "execution_count": 2,
   "metadata": {},
   "outputs": [],
   "source": [
    "vec = Vector([3, 4])"
   ]
  },
  {
   "cell_type": "code",
   "execution_count": 3,
   "metadata": {},
   "outputs": [
    {
     "data": {
      "text/plain": [
       "5.0"
      ]
     },
     "execution_count": 3,
     "metadata": {},
     "output_type": "execute_result"
    }
   ],
   "source": [
    "vec.norm()"
   ]
  },
  {
   "cell_type": "code",
   "execution_count": 4,
   "metadata": {},
   "outputs": [
    {
     "data": {
      "text/plain": [
       "Vector([0.6000000000000001, 0.8])"
      ]
     },
     "execution_count": 4,
     "metadata": {},
     "output_type": "execute_result"
    }
   ],
   "source": [
    "vec.normalize()"
   ]
  },
  {
   "cell_type": "code",
   "execution_count": 5,
   "metadata": {},
   "outputs": [
    {
     "data": {
      "text/plain": [
       "1.0"
      ]
     },
     "execution_count": 5,
     "metadata": {},
     "output_type": "execute_result"
    }
   ],
   "source": [
    "vec.normalize().norm()"
   ]
  },
  {
   "cell_type": "code",
   "execution_count": 8,
   "metadata": {},
   "outputs": [
    {
     "data": {
      "text/plain": [
       "13"
      ]
     },
     "execution_count": 8,
     "metadata": {},
     "output_type": "execute_result"
    }
   ],
   "source": [
    "vec_a = Vector([3, 4])\n",
    "vec_b = Vector([3, 1])\n",
    "\n",
    "vec_a.dot(vec_b)"
   ]
  },
  {
   "cell_type": "markdown",
   "metadata": {},
   "source": [
    "## 向量的点乘（内积）\n",
    "\n",
    "\n",
    "<img style=\"\" src=\"https://gitee.com/howie6879/oss/raw/master/uPic/ZWWitY.png\" width=\"30%\">\n",
    "\n",
    "两个向量的点乘，结果是一个标量"
   ]
  },
  {
   "cell_type": "markdown",
   "metadata": {},
   "source": [
    "### 向量点乘的应用\n",
    "\n",
    "根据点乘公式，可以很方便地求出夹角，然后可以得出以下结论：\n",
    "\n",
    "- 如果结果等于0：表示两个向量垂直\n",
    "- 如果结果大于0：表示两个向量夹角为锐角\n",
    "- 如果结果小于0：表示两个向量夹角为钝角\n",
    "\n",
    "$$\n",
    "\\cos \\theta=\\frac{\\vec{u} \\cdot \\vec{v}}{\\|\\vec{u}\\| \\cdot\\|\\vec{v}\\|}\n",
    "$$\n",
    "\n",
    "一些应用方向，比如根据余弦相似度计算两个向量的相似程度，比如根据相似程度做搜索，结果越匹配，就说明越相似\n"
   ]
  },
  {
   "cell_type": "code",
   "execution_count": null,
   "metadata": {},
   "outputs": [],
   "source": []
  },
  {
   "cell_type": "code",
   "execution_count": null,
   "metadata": {},
   "outputs": [],
   "source": []
  },
  {
   "cell_type": "markdown",
   "metadata": {},
   "source": []
  }
 ],
 "metadata": {
  "kernelspec": {
   "display_name": "Python 3 (ipykernel)",
   "language": "python",
   "name": "python3"
  },
  "language_info": {
   "codemirror_mode": {
    "name": "ipython",
    "version": 3
   },
   "file_extension": ".py",
   "mimetype": "text/x-python",
   "name": "python",
   "nbconvert_exporter": "python",
   "pygments_lexer": "ipython3",
   "version": "3.7.12"
  },
  "toc-autonumbering": true,
  "toc-showmarkdowntxt": false
 },
 "nbformat": 4,
 "nbformat_minor": 4
}
