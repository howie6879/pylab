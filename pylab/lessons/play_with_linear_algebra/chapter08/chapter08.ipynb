{
 "cells": [
  {
   "cell_type": "markdown",
   "id": "d982b21f-9229-4fa7-b535-97d4b225110c",
   "metadata": {},
   "source": [
    "# 线性相关，线性无关与生成空间\n",
    "\n",
    "## 线性组合\n",
    "\n",
    "对于若干个`n`维向量$\\vec{v}_{1}, \\vec{v}_{2}, \\vec{v}_{3}, \\ldots, \\vec{v}_{p}$，则：\n",
    "\n",
    "$$\n",
    "k_{1} \\cdot \\vec{v}_{1}+k_{2} \\cdot \\vec{v}_{2}+k_{3} \\cdot \\vec{v}_{3}+\\ldots+k_{p} \\cdot \\vec{v}_{p}\n",
    "$$\n",
    "\n",
    "称为这些向量的一个线性组合，三维空间的一个实际例子如下：\n",
    "\n",
    "$$\n",
    "\\begin{aligned}\n",
    "\\vec{v}=(x, y, z) &=x \\cdot(1,0,0)^{T}+y \\cdot(0,1,0)^{T}+z \\cdot(0,0,1)^{T} \\\\\n",
    "&=x \\cdot \\vec{e_{1}}+y \\cdot \\vec{e_{2}}+z \\cdot \\vec{e_{3}}\n",
    "\\end{aligned}\n",
    "$$\n",
    "\n",
    "Gauss-Jordan消元法的结果的每ー行，是原来矩阵各行的线性组合\n",
    "\n",
    "## 线性相关\n",
    "\n",
    "### 定义\n",
    "\n",
    "对于若干个n维向量$\\vec{v}_{1}, \\vec{v}_{2}, \\vec{v}_{3}, \\ldots, \\vec{v}_{p}$，存在一组k不全为0，使得：\n",
    "\n",
    "$$\n",
    "k_{1} \\cdot \\vec{v}_{1}+k_{2} \\cdot \\vec{v}_{2}+k_{3} \\cdot \\vec{v}_{3}+\\ldots+k_{p} \\cdot \\vec{v}_{p}=0\n",
    "$$\n",
    "\n",
    "则称：$\\vec{v}_{1}, \\vec{v}_{2}, \\vec{v}_{3}, \\ldots, \\vec{v}_{p}$ 线性相关，其中一个向量可以写成其他向量的线性组合。\n",
    "\n",
    "### 性质\n",
    "\n",
    "- m个n维向量$\\vec{v}_{1}, \\vec{v}_{2}, \\vec{v}_{3}, \\ldots, \\vec{v}_{m}$，若m>n，则$\\vec{v}_{1}, \\vec{v}_{2}, \\vec{v}_{3}, \\ldots, \\vec{v}_{m}$线性相关\n",
    "\n",
    "\n",
    "## 线性无关\n",
    "\n",
    "### 定义\n",
    "\n",
    "对于若干个n维向量$\\vec{v}_{1}, \\vec{v}_{2}, \\vec{v}_{3}, \\ldots, \\vec{v}_{p}$，只有k前全部为0时，才有：\n",
    "\n",
    "$$\n",
    "k_{1} \\cdot \\vec{v}_{1}+k_{2} \\cdot \\vec{v}_{2}+k_{3} \\cdot \\vec{v}_{3}+\\ldots+k_{p} \\cdot \\vec{v}_{p}=0\n",
    "$$\n",
    "\n",
    "则称：$\\vec{v}_{1}, \\vec{v}_{2}, \\vec{v}_{3}, \\ldots, \\vec{v}_{p}$ 线性无关\n",
    "\n",
    "### 性质\n",
    "\n",
    "<img style=\"margin-left:25%\" src=\"https://gitee.com/howie6879/oss/raw/master/uPic/gysFFa.png\" width=\"50%\">"
   ]
  },
  {
   "cell_type": "markdown",
   "id": "f261e824-2605-4519-ac85-e09d9ad4eb0b",
   "metadata": {},
   "source": [
    "## 空间的基\n",
    "\n",
    "### 定义\n",
    "\n",
    "若m个向量生成n维空间，则m最小为n，若一组向量可以生成整个n空间，且线性无关，这组向量一定有n个。\n",
    "\n",
    "<img style=\"margin-left:25%\" src=\"https://gitee.com/howie6879/oss/raw/master/uPic/GDjxdM.png\" width=\"50%\">\n",
    "\n",
    "### 性质\n",
    "\n",
    "在n维空间，如果给定一组基，任何一个向量(或者是点)都可以表示成这组基的线性组合，且表示方法唯一。\n",
    "\n",
    "<img style=\"margin-left:25%\" src=\"https://gitee.com/howie6879/oss/raw/master/uPic/Q3XC25.png\" width=\"50%\">\n",
    "\n",
    "<img style=\"margin-left:25%\" src=\"https://gitee.com/howie6879/oss/raw/master/uPic/lj5Mqd.png\" width=\"50%\">"
   ]
  },
  {
   "cell_type": "code",
   "execution_count": null,
   "id": "b36261ac-28b5-4ce9-a817-ddba6167f3bc",
   "metadata": {},
   "outputs": [],
   "source": []
  }
 ],
 "metadata": {
  "kernelspec": {
   "display_name": "Python 3 (ipykernel)",
   "language": "python",
   "name": "python3"
  },
  "language_info": {
   "codemirror_mode": {
    "name": "ipython",
    "version": 3
   },
   "file_extension": ".py",
   "mimetype": "text/x-python",
   "name": "python",
   "nbconvert_exporter": "python",
   "pygments_lexer": "ipython3",
   "version": "3.7.12"
  }
 },
 "nbformat": 4,
 "nbformat_minor": 5
}
