{
 "cells": [
  {
   "cell_type": "markdown",
   "id": "58c4510b-a713-49c1-8753-33c5f2cc6123",
   "metadata": {},
   "source": [
    "# 矩阵的应用"
   ]
  },
  {
   "cell_type": "markdown",
   "id": "626ce2ca-1d64-44ec-8894-930df4090a34",
   "metadata": {},
   "source": [
    "## 矩阵表示变换\n",
    "\n",
    "### 旋转\n",
    "\n",
    "若\n",
    "\n",
    "$$\n",
    "T \\cdot\\left(\\begin{array}{c}\n",
    "x \\\\\n",
    "y\n",
    "\\end{array}\\right) = \\left(\\begin{array}{c}\n",
    "\\cos \\theta \\cdot x+\\sin \\theta \\cdot y \\\\\n",
    "-\\sin \\theta \\cdot x+\\cos \\theta \\cdot y\n",
    "\\end{array}\\right)\n",
    "$$\n",
    "\n",
    "则有$T$：\n",
    "\n",
    "$$\n",
    "T=\\left(\\begin{array}{cc}\n",
    "\\cos \\theta & \\sin \\theta \\\\\n",
    "-\\sin \\theta & \\cos \\theta\n",
    "\\end{array}\\right)\n",
    "$$"
   ]
  },
  {
   "cell_type": "code",
   "execution_count": 2,
   "id": "9e662e47-9a29-4ead-8a0e-60b9f44dc52a",
   "metadata": {},
   "outputs": [],
   "source": [
    "import math\n",
    "\n",
    "import matplotlib.pyplot as plt\n",
    "from src.matrix import Matrix\n",
    "from src.vector import Vector"
   ]
  },
  {
   "cell_type": "code",
   "execution_count": 5,
   "id": "cbca9de6-f61d-4357-8f4a-174517e9f166",
   "metadata": {},
   "outputs": [],
   "source": [
    "points = [\n",
    "    [0, 0],\n",
    "    [0, 5],\n",
    "    [3, 5],\n",
    "    [3, 4],\n",
    "    [1, 4],\n",
    "    [1, 3],\n",
    "    [2, 3],\n",
    "    [2, 2],\n",
    "    [1, 2],\n",
    "    [1, 0],\n",
    "]"
   ]
  },
  {
   "cell_type": "code",
   "execution_count": 6,
   "id": "584d5f3c-6c64-4af1-9407-f7016cd5a83a",
   "metadata": {},
   "outputs": [],
   "source": [
    "x = [point[0] for point in points]\n",
    "y = [point[1] for point in points]"
   ]
  },
  {
   "cell_type": "code",
   "execution_count": 10,
   "id": "13802da8-91e0-4f26-8cd3-086f119af2b0",
   "metadata": {},
   "outputs": [
    {
     "data": {
      "image/png": "[encoded data removed]",
      "text/plain": [
       "<Figure size 360x360 with 1 Axes>"
      ]
     },
     "metadata": {
      "needs_background": "light"
     },
     "output_type": "display_data"
    }
   ],
   "source": [
    "# 图像绘制\n",
    "plt.figure(figsize=(5, 5))\n",
    "# 定义 x,y 轴范围\n",
    "plt.xlim(-10, 10)\n",
    "plt.ylim(-10, 10)\n",
    "plt.plot(x, y)\n",
    "plt.show()"
   ]
  },
  {
   "cell_type": "code",
   "execution_count": 11,
   "id": "28fb9f22-ae89-4d0b-86d4-afb0974b3697",
   "metadata": {},
   "outputs": [
    {
     "data": {
      "text/plain": [
       "Matrix([[0, 0], [0, 5], [3, 5], [3, 4], [1, 4], [1, 3], [2, 3], [2, 2], [1, 2], [1, 0]])"
      ]
     },
     "execution_count": 11,
     "metadata": {},
     "output_type": "execute_result"
    }
   ],
   "source": [
    "P = Matrix(points)\n",
    "P"
   ]
  },
  {
   "cell_type": "code",
   "execution_count": 13,
   "id": "29ad13e9-46dc-4c93-baca-50eb14e35ff4",
   "metadata": {},
   "outputs": [
    {
     "data": {
      "text/plain": [
       "(10, 2)"
      ]
     },
     "execution_count": 13,
     "metadata": {},
     "output_type": "execute_result"
    }
   ],
   "source": [
    "P.shape()"
   ]
  },
  {
   "cell_type": "code",
   "execution_count": 16,
   "id": "dace30c9-0ab1-4683-a88f-384c7ac9b17d",
   "metadata": {},
   "outputs": [
    {
     "data": {
      "text/plain": [
       "Matrix([[0, 0, 3, 3, 1, 1, 2, 2, 1, 1], [0, 5, 5, 4, 4, 3, 3, 2, 2, 0]])"
      ]
     },
     "execution_count": 16,
     "metadata": {},
     "output_type": "execute_result"
    }
   ],
   "source": [
    "P.T()"
   ]
  },
  {
   "cell_type": "code",
   "execution_count": 33,
   "id": "fd0b8619-a161-4c82-880a-bf1c6bf0dae8",
   "metadata": {},
   "outputs": [],
   "source": [
    "# T * P 表示\n",
    "# 横坐标扩大两倍，纵坐标扩大1.5倍\n",
    "T = Matrix([[2, 0], [0, 1.5]])\n",
    "# 逆时针旋转90度\n",
    "theta = math.pi / -2\n",
    "T = Matrix([[math.cos(theta), math.sin(theta)], [-math.sin(theta), math.cos(theta)]])"
   ]
  },
  {
   "cell_type": "code",
   "execution_count": 34,
   "id": "3c414372-8dd3-4b72-bcd2-4f915e2f72e6",
   "metadata": {},
   "outputs": [],
   "source": [
    "P2 = T.dot(P.T())"
   ]
  },
  {
   "cell_type": "code",
   "execution_count": 35,
   "id": "1ee35304-8954-4eed-a3b3-b78eb6e43ee5",
   "metadata": {},
   "outputs": [
    {
     "data": {
      "text/plain": [
       "Matrix([[0.0, -5.0, -5.0, -4.0, -4.0, -3.0, -3.0, -1.9999999999999998, -2.0, 6.123233995736766e-17], [0.0, 3.061616997868383e-16, 3.0000000000000004, 3.0000000000000004, 1.0000000000000002, 1.0000000000000002, 2.0, 2.0, 1.0000000000000002, 1.0]])"
      ]
     },
     "execution_count": 35,
     "metadata": {},
     "output_type": "execute_result"
    }
   ],
   "source": [
    "P2"
   ]
  },
  {
   "cell_type": "code",
   "execution_count": 36,
   "id": "7ff8d880-2a73-4539-af9f-b1f121210294",
   "metadata": {},
   "outputs": [
    {
     "data": {
      "image/png": "[encoded data removed]",
      "text/plain": [
       "<Figure size 360x360 with 1 Axes>"
      ]
     },
     "metadata": {
      "needs_background": "light"
     },
     "output_type": "display_data"
    }
   ],
   "source": [
    "# 图像绘制\n",
    "plt.figure(figsize=(5, 5))\n",
    "# 定义 x,y 轴范围\n",
    "plt.xlim(-10, 10)\n",
    "plt.ylim(-10, 10)\n",
    "plt.plot(\n",
    "    [P2.col_vector(i)[0] for i in range(P2.col_num())],\n",
    "    [P2.col_vector(i)[1] for i in range(P2.col_num())],\n",
    ")\n",
    "plt.show()"
   ]
  },
  {
   "cell_type": "markdown",
   "id": "b5a00029-c5df-466d-9d33-fd9e3b964569",
   "metadata": {},
   "source": [
    "## 单位矩阵\n",
    "\n",
    "当$T$等于：\n",
    "\n",
    "$$\n",
    "T=\\left(\\begin{array}{ll}\n",
    "1 & 0 \\\\\n",
    "0 & 1\n",
    "\\end{array}\\right) \n",
    "$$\n",
    "\n",
    "有：\n",
    "\n",
    "$$\n",
    "\\quad T \\cdot\\left(\\begin{array}{l}\n",
    "x \\\\\n",
    "y\n",
    "\\end{array}\\right)=\\left(\\begin{array}{ll}\n",
    "1 & 0 \\\\\n",
    "0 & 1\n",
    "\\end{array}\\right) \\cdot\\left(\\begin{array}{l}\n",
    "x \\\\\n",
    "y\n",
    "\\end{array}\\right)=\\left(\\begin{array}{l}\n",
    "x \\\\\n",
    "y\n",
    "\\end{array}\\right)\n",
    "$$\n",
    "\n",
    "则称之为单位矩阵，一般表示如下：\n",
    "\n",
    "$$\n",
    "I_{2}=\\left(\\begin{array}{ll}\n",
    "1 & 0 \\\\\n",
    "0 & 1\n",
    "\\end{array}\\right)\n",
    "$$\n",
    "\n",
    "主对角线为`1`，其余为`0`，表示如下：\n",
    "\n",
    "$$\n",
    "I_{n}=\\left(i_{k j}\\right)\\left\\{\\begin{array}{lll}\n",
    "1 & \\text { if } & k=j \\\\\n",
    "0 & \\text { if } & k \\neq j\n",
    "\\end{array}\\right.\n",
    "$$\n",
    "\n",
    "单位矩阵一定是方阵（矩阵的行数等于列数）。"
   ]
  },
  {
   "cell_type": "code",
   "execution_count": 51,
   "id": "0477c150-7ecc-42a2-9b00-5acf8a7a6efc",
   "metadata": {},
   "outputs": [
    {
     "data": {
      "text/plain": [
       "Matrix([[1, 0], [0, 1]])"
      ]
     },
     "execution_count": 51,
     "metadata": {},
     "output_type": "execute_result"
    }
   ],
   "source": [
    "I = Matrix.identity(2)\n",
    "I"
   ]
  },
  {
   "cell_type": "code",
   "execution_count": 52,
   "id": "5f63c77d-90ee-4f79-9a04-017cab797cac",
   "metadata": {},
   "outputs": [
    {
     "data": {
      "text/plain": [
       "Matrix([[0, -1], [1, 0]])"
      ]
     },
     "execution_count": 52,
     "metadata": {},
     "output_type": "execute_result"
    }
   ],
   "source": [
    "A = Matrix([[0, -1], [1, 0]])\n",
    "A"
   ]
  },
  {
   "cell_type": "code",
   "execution_count": 53,
   "id": "fea99007-f518-4cf6-9868-d79a315a4a84",
   "metadata": {},
   "outputs": [
    {
     "data": {
      "text/plain": [
       "Matrix([[0, -1], [1, 0]])"
      ]
     },
     "execution_count": 53,
     "metadata": {},
     "output_type": "execute_result"
    }
   ],
   "source": [
    "A.dot(I)"
   ]
  },
  {
   "cell_type": "code",
   "execution_count": 54,
   "id": "0f5fbd45-5b71-47c4-8bc6-42613a77ed3e",
   "metadata": {},
   "outputs": [
    {
     "data": {
      "text/plain": [
       "Matrix([[0, -1], [1, 0]])"
      ]
     },
     "execution_count": 54,
     "metadata": {},
     "output_type": "execute_result"
    }
   ],
   "source": [
    "I.dot(A)"
   ]
  },
  {
   "cell_type": "markdown",
   "id": "826cc109-4e87-4cd9-8bff-81d0ae059b79",
   "metadata": {},
   "source": [
    "## 矩阵的逆\n",
    "\n",
    "### 逆矩阵\n",
    "\n",
    "矩阵中，如果$AB = BA = I$，则称$B$是$A$的逆矩阵，记作：$B = A^{-1}$，$A$称为可逆矩阵，或者叫非奇异矩阵(non-singular)，反之为奇异矩阵(singular)。"
   ]
  },
  {
   "cell_type": "code",
   "execution_count": 40,
   "id": "f16f9d14-1974-4fe8-995e-f12127de0c2e",
   "metadata": {},
   "outputs": [],
   "source": [
    "# 尝试使用NumPy\n",
    "import numpy as np"
   ]
  },
  {
   "cell_type": "code",
   "execution_count": 45,
   "id": "543745a5-2c3b-4045-8547-3106283bbb95",
   "metadata": {},
   "outputs": [
    {
     "data": {
      "text/plain": [
       "array([[1., 0.],\n",
       "       [0., 1.]])"
      ]
     },
     "execution_count": 45,
     "metadata": {},
     "output_type": "execute_result"
    }
   ],
   "source": [
    "I = np.identity(2)\n",
    "A = np.array([[1, 2], [3, 4]])\n",
    "I"
   ]
  },
  {
   "cell_type": "code",
   "execution_count": 46,
   "id": "8adc7e3f-bdbb-4617-8eee-9f0c684e1d0c",
   "metadata": {},
   "outputs": [
    {
     "data": {
      "text/plain": [
       "array([[1., 2.],\n",
       "       [3., 4.]])"
      ]
     },
     "execution_count": 46,
     "metadata": {},
     "output_type": "execute_result"
    }
   ],
   "source": [
    "A.dot(I)"
   ]
  },
  {
   "cell_type": "code",
   "execution_count": 47,
   "id": "0bcad93e-a381-4f98-91d2-0522b88fe6d7",
   "metadata": {},
   "outputs": [
    {
     "data": {
      "text/plain": [
       "array([[-2. ,  1. ],\n",
       "       [ 1.5, -0.5]])"
      ]
     },
     "execution_count": 47,
     "metadata": {},
     "output_type": "execute_result"
    }
   ],
   "source": [
    "invA = np.linalg.inv(A)\n",
    "\n",
    "invA"
   ]
  },
  {
   "cell_type": "code",
   "execution_count": 48,
   "id": "6382b29d-2311-4f98-95cb-1098c99c9cee",
   "metadata": {},
   "outputs": [
    {
     "data": {
      "text/plain": [
       "array([[1.00000000e+00, 0.00000000e+00],\n",
       "       [1.11022302e-16, 1.00000000e+00]])"
      ]
     },
     "execution_count": 48,
     "metadata": {},
     "output_type": "execute_result"
    }
   ],
   "source": [
    "invA.dot(A)"
   ]
  },
  {
   "cell_type": "code",
   "execution_count": 49,
   "id": "9f0d6a11-8315-49b7-bb6c-5bfc0e17c6c4",
   "metadata": {},
   "outputs": [
    {
     "data": {
      "text/plain": [
       "array([[1.0000000e+00, 0.0000000e+00],\n",
       "       [8.8817842e-16, 1.0000000e+00]])"
      ]
     },
     "execution_count": 49,
     "metadata": {},
     "output_type": "execute_result"
    }
   ],
   "source": [
    "A.dot(invA)"
   ]
  },
  {
   "cell_type": "markdown",
   "id": "41515df5-32cb-4440-8e7b-7859cfc369fc",
   "metadata": {},
   "source": [
    "### 矩阵的逆的性质\n",
    "\n",
    "如下：\n",
    "- $\\left(A^{-1}\\right)^{-1}=A$\n",
    "- $(A \\cdot B)^{-1}=B^{-1} A^{-1}$\n",
    "- $\\left(A^{T}\\right)^{-1}=\\left(A^{-1}\\right)^{T}$"
   ]
  },
  {
   "cell_type": "markdown",
   "id": "7facb306-0799-40ba-bfc2-ed4f3f83fbee",
   "metadata": {},
   "source": [
    "## 总结\n",
    "\n",
    "看待矩阵的四个视角：\n",
    "\n",
    "- 数据角度：数据表\n",
    "- 线性系统：方程组\n",
    "- 变换（向量的函数）：$T \\cdot \\vec{a}=\\vec{b}$\n",
    "- 空间：用矩阵表示空间\n"
   ]
  },
  {
   "cell_type": "code",
   "execution_count": null,
   "id": "72041632-3f5d-41d9-aaee-836e9e1077a9",
   "metadata": {},
   "outputs": [],
   "source": []
  }
 ],
 "metadata": {
  "kernelspec": {
   "display_name": "Python 3 (ipykernel)",
   "language": "python",
   "name": "python3"
  },
  "language_info": {
   "codemirror_mode": {
    "name": "ipython",
    "version": 3
   },
   "file_extension": ".py",
   "mimetype": "text/x-python",
   "name": "python",
   "nbconvert_exporter": "python",
   "pygments_lexer": "ipython3",
   "version": "3.7.12"
  },
  "toc-autonumbering": true,
  "toc-showmarkdowntxt": false
 },
 "nbformat": 4,
 "nbformat_minor": 5
}
