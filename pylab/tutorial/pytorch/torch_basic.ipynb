{
 "cells": [
  {
   "cell_type": "markdown",
   "id": "4d1725aa-3c93-4202-ac31-8e0388787d2a",
   "metadata": {},
   "source": [
    "## Pytorch 使用记录\n",
    "\n",
    "对于机器学习问题，`PyTorch`提供了很优雅的解决方案，得益于庞大的社区支持，我们可以很轻松地使用以及部署前沿模型。\n",
    "\n",
    "资料参考主体：\n",
    "- [Getting-Things-Done-with-Pytorch](https://github.com/curiousily/Getting-Things-Done-with-Pytorch)\n",
    "- [Pytorch基础](http://www.feiguyunai.com/index.php/2019/09/11/pytorch-char02/#24_NumpyTensor)\n",
    "- [d2l-预备知识-数据操作](https://zh-v2.d2l.ai/chapter_preliminaries/ndarray.html)"
   ]
  },
  {
   "cell_type": "code",
   "execution_count": 1,
   "id": "165ad99a-b995-4162-a485-a2bbb040c689",
   "metadata": {},
   "outputs": [
    {
     "name": "stdout",
     "output_type": "stream",
     "text": [
      "\u001b[33mWARNING: Running pip as the 'root' user can result in broken permissions and conflicting behaviour with the system package manager. It is recommended to use a virtual environment instead: https://pip.pypa.io/warnings/venv\u001b[0m\n"
     ]
    }
   ],
   "source": [
    "!pip install -q -U torch watermark torchvision tensorboardX"
   ]
  },
  {
   "cell_type": "code",
   "execution_count": 1,
   "id": "ab2ef28e-b88d-4133-b062-7ee69b5ebe43",
   "metadata": {},
   "outputs": [
    {
     "name": "stdout",
     "output_type": "stream",
     "text": [
      "Python implementation: CPython\n",
      "Python version       : 3.7.12\n",
      "IPython version      : 7.27.0\n",
      "\n",
      "numpy: 1.21.2\n",
      "torch: 1.9.0\n",
      "\n"
     ]
    }
   ],
   "source": [
    "%load_ext watermark\n",
    "%watermark -v -p numpy,torch"
   ]
  },
  {
   "cell_type": "code",
   "execution_count": 3,
   "id": "559d6993-628e-4dc9-ae3b-4c3f33e1ea43",
   "metadata": {},
   "outputs": [],
   "source": [
    "import os\n",
    "\n",
    "import numpy as np\n",
    "import pandas as pd\n",
    "import torch"
   ]
  },
  {
   "cell_type": "markdown",
   "id": "c7754ee5-58b4-4c32-a453-b3ef1c62fbf7",
   "metadata": {},
   "source": [
    "### 引入\n",
    "\n",
    "从numpy开始（建议先熟悉numpy的基础操作），进行类似的运算操作，其和pytorch可以相互转化，并且不会有额外的性能负担。\n",
    "\n",
    "关于[TENSOR](https://pytorch.org/docs/stable/tensors.html)，相关入门教程参考如下：\n",
    "\n",
    "- [Pytorch之Tensor简单入门](https://zhuanlan.zhihu.com/p/69499953)"
   ]
  },
  {
   "cell_type": "code",
   "execution_count": 4,
   "id": "1d3e667c-39ec-44df-acb9-7c1bdae7d6cf",
   "metadata": {},
   "outputs": [
    {
     "data": {
      "text/plain": [
       "array([ 9, 11])"
      ]
     },
     "execution_count": 4,
     "metadata": {},
     "output_type": "execute_result"
    }
   ],
   "source": [
    "a = np.array([1, 2])\n",
    "b = np.array([8, 9])\n",
    "\n",
    "c = a + b\n",
    "c"
   ]
  },
  {
   "cell_type": "code",
   "execution_count": 5,
   "id": "f8a01a61-1e4e-45c9-bd6e-091ede65ca48",
   "metadata": {},
   "outputs": [
    {
     "data": {
      "text/plain": [
       "tensor([ 9, 11])"
      ]
     },
     "execution_count": 5,
     "metadata": {},
     "output_type": "execute_result"
    }
   ],
   "source": [
    "a = torch.tensor([1, 2])\n",
    "b = torch.tensor([8, 9])\n",
    "\n",
    "c = a + b\n",
    "c"
   ]
  },
  {
   "cell_type": "code",
   "execution_count": 12,
   "id": "e558022b-52a9-4fd1-b8d0-084ac08dd138",
   "metadata": {},
   "outputs": [
    {
     "data": {
      "text/plain": [
       "tensor([[0.5462, 0.4484, 0.1724, 0.4579],\n",
       "        [0.1716, 0.8310, 0.2609, 0.2923],\n",
       "        [0.9541, 0.5630, 0.7253, 0.8349]])"
      ]
     },
     "execution_count": 12,
     "metadata": {},
     "output_type": "execute_result"
    }
   ],
   "source": [
    "# 改变形状\n",
    "# [0, 1] 均匀分布随机初始化 Tensor\n",
    "x = torch.rand([3, 4])\n",
    "x"
   ]
  },
  {
   "cell_type": "code",
   "execution_count": 13,
   "id": "4438c05d-b81b-4505-ad45-18dab122d7f1",
   "metadata": {},
   "outputs": [
    {
     "data": {
      "text/plain": [
       "tensor([[0.5462, 0.4484, 0.1724],\n",
       "        [0.4579, 0.1716, 0.8310],\n",
       "        [0.2609, 0.2923, 0.9541],\n",
       "        [0.5630, 0.7253, 0.8349]])"
      ]
     },
     "execution_count": 13,
     "metadata": {},
     "output_type": "execute_result"
    }
   ],
   "source": [
    "x_view = x.view([4, -1])\n",
    "x_view"
   ]
  },
  {
   "cell_type": "markdown",
   "id": "b14a4e73-aae0-4bd1-973a-0a1a09c3818f",
   "metadata": {},
   "source": [
    "### 创建Tensor\n",
    "\n",
    "常见的构建tensor的方法，如下：\n",
    "- Tensor\n",
    "- eye\n",
    "- linespace\n",
    "- logspace\n",
    "- rand\n",
    "- ones\n",
    "- zeros\n",
    "- ones_like\n",
    "- zeros_like\n",
    "- arange\n",
    "- from_numpy"
   ]
  },
  {
   "cell_type": "code",
   "execution_count": 14,
   "id": "58bf0e56-b838-47c6-8bf0-9c87a9314c47",
   "metadata": {},
   "outputs": [
    {
     "data": {
      "text/plain": [
       "tensor([1., 2., 3., 4., 5., 6.])"
      ]
     },
     "execution_count": 14,
     "metadata": {},
     "output_type": "execute_result"
    }
   ],
   "source": [
    "# 根据list数据生成tensor\n",
    "torch.Tensor([1, 2, 3, 4, 5, 6])"
   ]
  },
  {
   "cell_type": "code",
   "execution_count": 15,
   "id": "bac8a8b2-4c24-4e0d-b415-9b66f8c3b19d",
   "metadata": {},
   "outputs": [
    {
     "data": {
      "text/plain": [
       "tensor([[8.8766e-29, 4.5726e-41, 3.8228e+03],\n",
       "        [3.0721e-41, 4.4842e-44, 0.0000e+00]])"
      ]
     },
     "execution_count": 15,
     "metadata": {},
     "output_type": "execute_result"
    }
   ],
   "source": [
    "# 根据指定形状生成tensor\n",
    "torch.Tensor(2, 3)"
   ]
  },
  {
   "cell_type": "code",
   "execution_count": 18,
   "id": "e14ba950-0353-4e63-817f-832f4429203e",
   "metadata": {},
   "outputs": [
    {
     "data": {
      "text/plain": [
       "(torch.Size([2, 3]), torch.Size([2, 3]))"
      ]
     },
     "execution_count": 18,
     "metadata": {},
     "output_type": "execute_result"
    }
   ],
   "source": [
    "# 根据给定的tensor的形状\n",
    "t = torch.Tensor([[1, 2, 3], [4, 5, 6]])\n",
    "# 查看tensor的形状\n",
    "t.size(), t.shape"
   ]
  },
  {
   "cell_type": "code",
   "execution_count": 19,
   "id": "d69f32f7-47dc-4437-a6fa-9d3eb8cb712b",
   "metadata": {},
   "outputs": [
    {
     "data": {
      "text/plain": [
       "tensor([[8.8766e-29, 4.5726e-41, 8.8766e-29],\n",
       "        [4.5726e-41, 5.0000e+00, 6.0000e+00]])"
      ]
     },
     "execution_count": 19,
     "metadata": {},
     "output_type": "execute_result"
    }
   ],
   "source": [
    "# 根据已有形状创建tensor\n",
    "torch.Tensor(t.size())"
   ]
  },
  {
   "cell_type": "code",
   "execution_count": 20,
   "id": "6a1e6963-c8e9-4c78-88cf-d907f3677b90",
   "metadata": {},
   "outputs": [
    {
     "data": {
      "text/plain": [
       "tensor([[1., 0.],\n",
       "        [0., 1.]])"
      ]
     },
     "execution_count": 20,
     "metadata": {},
     "output_type": "execute_result"
    }
   ],
   "source": [
    "# 生成一个单位矩阵\n",
    "torch.eye(2, 2)"
   ]
  },
  {
   "cell_type": "code",
   "execution_count": 23,
   "id": "03c36824-66d8-42c0-aa40-7bc64093c21a",
   "metadata": {},
   "outputs": [
    {
     "data": {
      "text/plain": [
       "tensor([[0., 0., 0.],\n",
       "        [0., 0., 0.]])"
      ]
     },
     "execution_count": 23,
     "metadata": {},
     "output_type": "execute_result"
    }
   ],
   "source": [
    "# 自动生成全是0的矩阵\n",
    "torch.zeros(2, 3)"
   ]
  },
  {
   "cell_type": "code",
   "execution_count": 24,
   "id": "035bcd9f-d762-4811-8751-b39ef2b29fc1",
   "metadata": {},
   "outputs": [
    {
     "data": {
      "text/plain": [
       "tensor([ 1.,  4.,  7., 10.])"
      ]
     },
     "execution_count": 24,
     "metadata": {},
     "output_type": "execute_result"
    }
   ],
   "source": [
    "# 根据规则生成数据\n",
    "torch.linspace(1, 10, 4)"
   ]
  },
  {
   "cell_type": "code",
   "execution_count": 25,
   "id": "93ff52b8-0809-49e1-bb0a-e889a00cac97",
   "metadata": {},
   "outputs": [
    {
     "data": {
      "text/plain": [
       "tensor([[0.0879, 0.0195, 0.1620],\n",
       "        [0.2268, 0.7040, 0.7683]])"
      ]
     },
     "execution_count": 25,
     "metadata": {},
     "output_type": "execute_result"
    }
   ],
   "source": [
    "# 生成满足均匀分布随机数\n",
    "torch.rand(2, 3)"
   ]
  },
  {
   "cell_type": "code",
   "execution_count": 26,
   "id": "0d3c6b94-773a-4355-828a-d1971207b1bd",
   "metadata": {},
   "outputs": [
    {
     "data": {
      "text/plain": [
       "tensor([[-0.9170, -0.2158, -0.1832],\n",
       "        [ 0.8921,  0.4182, -2.2238]])"
      ]
     },
     "execution_count": 26,
     "metadata": {},
     "output_type": "execute_result"
    }
   ],
   "source": [
    "# 生成满足标准分布随机数\n",
    "torch.randn(2, 3)"
   ]
  },
  {
   "cell_type": "code",
   "execution_count": 27,
   "id": "1c636020-f88c-4fc8-ac7d-943ee497d3d0",
   "metadata": {},
   "outputs": [
    {
     "data": {
      "text/plain": [
       "tensor([[0., 0., 0.],\n",
       "        [0., 0., 0.]])"
      ]
     },
     "execution_count": 27,
     "metadata": {},
     "output_type": "execute_result"
    }
   ],
   "source": [
    "# 返回所给数据形状相同，值全为0的张量\n",
    "torch.zeros_like(torch.rand(2, 3))"
   ]
  },
  {
   "cell_type": "markdown",
   "id": "0d552fb2-1581-4dbb-acb3-7e1cea4c3f5b",
   "metadata": {},
   "source": [
    "### 修改Tensor\n",
    "\n",
    "在处理数据、构建网络层等过程中，经常需要了解Tensor的形状、修改Tensor的形状。相关处理函数如下：\n",
    "- size，和 shape 一样\n",
    "- numel：计算tensor元素个数\n",
    "- view：和 reshape 类似\n",
    "- resize：类似 view，不同在于 size 超出时候会重新分配内存空间\n",
    "- item\n",
    "- unsqueeze：在指定维度增加一个 `1`\n",
    "- squeeze：在指定维度压缩一个 `1`"
   ]
  },
  {
   "cell_type": "code",
   "execution_count": 28,
   "id": "644e9f7b-47f6-456c-af6e-47d4329ca74d",
   "metadata": {},
   "outputs": [],
   "source": [
    "# 生成一个形状为2x3的矩阵\n",
    "x = torch.randn(2, 3)"
   ]
  },
  {
   "cell_type": "code",
   "execution_count": 29,
   "id": "4543087f-0439-42e8-9cef-62193562af4c",
   "metadata": {},
   "outputs": [
    {
     "data": {
      "text/plain": [
       "(torch.Size([2, 3]), torch.Size([2, 3]))"
      ]
     },
     "execution_count": 29,
     "metadata": {},
     "output_type": "execute_result"
    }
   ],
   "source": [
    "x.size(), x.shape"
   ]
  },
  {
   "cell_type": "code",
   "execution_count": 30,
   "id": "7b043974-8e5f-4ab5-8360-c89953402b1f",
   "metadata": {},
   "outputs": [
    {
     "data": {
      "text/plain": [
       "2"
      ]
     },
     "execution_count": 30,
     "metadata": {},
     "output_type": "execute_result"
    }
   ],
   "source": [
    "# 查看x的维度\n",
    "x.dim()"
   ]
  },
  {
   "cell_type": "code",
   "execution_count": 31,
   "id": "8e54dadc-3a09-4666-bc9f-9defe2a0dfef",
   "metadata": {},
   "outputs": [
    {
     "data": {
      "text/plain": [
       "tensor([[ 0.1062, -2.6887,  0.2993],\n",
       "        [ 0.1608, -0.6922,  0.6646]])"
      ]
     },
     "execution_count": 31,
     "metadata": {},
     "output_type": "execute_result"
    }
   ],
   "source": [
    "# 把x变为3x2的矩阵\n",
    "x.view(3, 2)\n",
    "x"
   ]
  },
  {
   "cell_type": "code",
   "execution_count": 32,
   "id": "f6664837-1608-4925-bc37-1987281034ff",
   "metadata": {},
   "outputs": [
    {
     "data": {
      "text/plain": [
       "(tensor([ 0.1062, -2.6887,  0.2993,  0.1608, -0.6922,  0.6646]),\n",
       " torch.Size([6]))"
      ]
     },
     "execution_count": 32,
     "metadata": {},
     "output_type": "execute_result"
    }
   ],
   "source": [
    "# 把x展平为1维向量\n",
    "y = x.view(-1)\n",
    "y, y.shape"
   ]
  },
  {
   "cell_type": "code",
   "execution_count": 35,
   "id": "b9ca235a-5f9f-4e8d-b98d-d349ebf9ff25",
   "metadata": {},
   "outputs": [
    {
     "data": {
      "text/plain": [
       "(tensor([[ 0.1062, -2.6887,  0.2993,  0.1608, -0.6922,  0.6646]]), 2)"
      ]
     },
     "execution_count": 35,
     "metadata": {},
     "output_type": "execute_result"
    }
   ],
   "source": [
    "# 添加一个维度\n",
    "z = torch.unsqueeze(y, 0)\n",
    "z, z.dim()"
   ]
  },
  {
   "cell_type": "code",
   "execution_count": 36,
   "id": "1a010fd9-d46f-4f06-a4d0-7404a7dde734",
   "metadata": {},
   "outputs": [
    {
     "data": {
      "text/plain": [
       "6"
      ]
     },
     "execution_count": 36,
     "metadata": {},
     "output_type": "execute_result"
    }
   ],
   "source": [
    "# 计算Z的元素个数\n",
    "z.numel()"
   ]
  },
  {
   "cell_type": "markdown",
   "id": "cc35e30c-d62e-4ca0-99d2-99b99df2f0a4",
   "metadata": {},
   "source": [
    "### 索引操作\n",
    "\n",
    "相关操作函数如下：\n",
    "- index_select：制定维度选择行或者列\n",
    "- nonzero：获取非0元素下标\n",
    "- masked_select：使用二元值进行选择\n",
    "- gather：在指定维度上选择数据，输出的形状与index一致\n",
    "- scatter_：gather的反操作，根据指定元素索引补充数据"
   ]
  },
  {
   "cell_type": "code",
   "execution_count": 38,
   "id": "bd5f633e-d85b-47a7-808f-e20c8b7f9a20",
   "metadata": {},
   "outputs": [
    {
     "data": {
      "text/plain": [
       "tensor([[ 0.3607, -0.2859, -0.3938],\n",
       "        [ 0.2429, -1.3833, -2.3134]])"
      ]
     },
     "execution_count": 38,
     "metadata": {},
     "output_type": "execute_result"
    }
   ],
   "source": [
    "# 设置一个随机种子\n",
    "torch.manual_seed(100)\n",
    "# 生成一个形状为2x3的矩阵\n",
    "x = torch.randn(2, 3)\n",
    "x"
   ]
  },
  {
   "cell_type": "code",
   "execution_count": 39,
   "id": "5e4b212b-0c4e-49d6-8248-79d8ea0a9dc7",
   "metadata": {},
   "outputs": [
    {
     "data": {
      "text/plain": [
       "tensor([ 0.3607, -0.2859, -0.3938])"
      ]
     },
     "execution_count": 39,
     "metadata": {},
     "output_type": "execute_result"
    }
   ],
   "source": [
    "# 根据索引获取第1行，所有数据\n",
    "x[0, :]"
   ]
  },
  {
   "cell_type": "code",
   "execution_count": 40,
   "id": "136188c7-d9c7-4002-810c-e064a239f682",
   "metadata": {},
   "outputs": [
    {
     "data": {
      "text/plain": [
       "tensor([-0.3938, -2.3134])"
      ]
     },
     "execution_count": 40,
     "metadata": {},
     "output_type": "execute_result"
    }
   ],
   "source": [
    "# 获取最后一列数据\n",
    "x[:, -1]"
   ]
  },
  {
   "cell_type": "code",
   "execution_count": 41,
   "id": "88eb8ac4-fabe-4cec-9469-f68bf82b2297",
   "metadata": {},
   "outputs": [
    {
     "data": {
      "text/plain": [
       "tensor([0.3607, 0.2429])"
      ]
     },
     "execution_count": 41,
     "metadata": {},
     "output_type": "execute_result"
    }
   ],
   "source": [
    "mask = x > 0\n",
    "# 获取大于0的值\n",
    "torch.masked_select(x, mask)"
   ]
  },
  {
   "cell_type": "code",
   "execution_count": 42,
   "id": "50ddfee0-b4ee-48c6-ab72-ebf20a997c29",
   "metadata": {},
   "outputs": [
    {
     "data": {
      "text/plain": [
       "tensor([[0, 0],\n",
       "        [1, 0]])"
      ]
     },
     "execution_count": 42,
     "metadata": {},
     "output_type": "execute_result"
    }
   ],
   "source": [
    "# 获取非0下标,即行，列索引\n",
    "torch.nonzero(mask)"
   ]
  },
  {
   "cell_type": "code",
   "execution_count": 51,
   "id": "c21cddd3-1ebd-468e-8c60-0b150a296fd7",
   "metadata": {},
   "outputs": [
    {
     "data": {
      "text/plain": [
       "tensor([[0, 1, 1]])"
      ]
     },
     "execution_count": 51,
     "metadata": {},
     "output_type": "execute_result"
    }
   ],
   "source": [
    "index = torch.LongTensor([[0, 1, 1]])\n",
    "index"
   ]
  },
  {
   "cell_type": "code",
   "execution_count": 52,
   "id": "de27bb01-4028-4b4d-bc78-9fc1213bf8ba",
   "metadata": {},
   "outputs": [
    {
     "data": {
      "text/plain": [
       "tensor([[ 0.3607, -1.3833, -2.3134]])"
      ]
     },
     "execution_count": 52,
     "metadata": {},
     "output_type": "execute_result"
    }
   ],
   "source": [
    "torch.gather(x, 0, index)"
   ]
  },
  {
   "cell_type": "code",
   "execution_count": 53,
   "id": "dceb074c-c1ea-4b18-94e2-a09d2766f82e",
   "metadata": {},
   "outputs": [
    {
     "data": {
      "text/plain": [
       "tensor([[ 0.3607, -0.2859, -0.2859],\n",
       "        [-1.3833, -1.3833, -1.3833]])"
      ]
     },
     "execution_count": 53,
     "metadata": {},
     "output_type": "execute_result"
    }
   ],
   "source": [
    "index = torch.LongTensor([[0, 1, 1], [1, 1, 1]])\n",
    "a = torch.gather(x, 1, index)\n",
    "a"
   ]
  },
  {
   "cell_type": "code",
   "execution_count": 54,
   "id": "15950f4a-3817-4ce0-b5db-d064e57aedca",
   "metadata": {},
   "outputs": [
    {
     "data": {
      "text/plain": [
       "tensor([[ 0.3607, -0.2859,  0.0000],\n",
       "        [ 0.0000, -1.3833,  0.0000]])"
      ]
     },
     "execution_count": 54,
     "metadata": {},
     "output_type": "execute_result"
    }
   ],
   "source": [
    "z = torch.zeros(2, 3)\n",
    "z.scatter_(1, index, a)"
   ]
  },
  {
   "cell_type": "code",
   "execution_count": 2,
   "id": "0494575e-ccab-4707-bc71-691eb73266d9",
   "metadata": {},
   "outputs": [
    {
     "data": {
      "text/plain": [
       "tensor([ 0,  1,  2,  3,  4,  5,  6,  7,  8,  9, 10, 11])"
      ]
     },
     "execution_count": 2,
     "metadata": {},
     "output_type": "execute_result"
    }
   ],
   "source": [
    "x = torch.arange(12)\n",
    "x"
   ]
  },
  {
   "cell_type": "code",
   "execution_count": 3,
   "id": "c383e053-ca22-475c-8279-f0a8878d5077",
   "metadata": {},
   "outputs": [
    {
     "data": {
      "text/plain": [
       "(torch.Size([12]), torch.Size([12]))"
      ]
     },
     "execution_count": 3,
     "metadata": {},
     "output_type": "execute_result"
    }
   ],
   "source": [
    "x.shape, torch.Size([12])"
   ]
  },
  {
   "cell_type": "markdown",
   "id": "e22f48d4-5e42-49b1-89ce-7a161da93e53",
   "metadata": {},
   "source": [
    "### 广播机制"
   ]
  },
  {
   "cell_type": "code",
   "execution_count": 56,
   "id": "6a99752d-22be-4dc0-a315-8df1f4d597cf",
   "metadata": {},
   "outputs": [],
   "source": [
    "A = np.arange(0, 40, 10).reshape(4, 1)\n",
    "B = np.arange(0, 3)"
   ]
  },
  {
   "cell_type": "code",
   "execution_count": 57,
   "id": "a277b3ca-348e-4f59-a405-065dd7572692",
   "metadata": {},
   "outputs": [
    {
     "data": {
      "text/plain": [
       "(array([[ 0],\n",
       "        [10],\n",
       "        [20],\n",
       "        [30]]),\n",
       " array([0, 1, 2]))"
      ]
     },
     "execution_count": 57,
     "metadata": {},
     "output_type": "execute_result"
    }
   ],
   "source": [
    "A, B"
   ]
  },
  {
   "cell_type": "code",
   "execution_count": 58,
   "id": "3278dfe2-b55c-4d4e-8929-6520c79dcba1",
   "metadata": {},
   "outputs": [],
   "source": [
    "# 把ndarray转换为Tensor\n",
    "A1 = torch.from_numpy(A)  # 形状为4x1\n",
    "B1 = torch.from_numpy(B)  # 形状为3"
   ]
  },
  {
   "cell_type": "code",
   "execution_count": 59,
   "id": "96501d08-955b-4589-9c17-380b4fafb6d0",
   "metadata": {},
   "outputs": [
    {
     "data": {
      "text/plain": [
       "(tensor([[ 0],\n",
       "         [10],\n",
       "         [20],\n",
       "         [30]]),\n",
       " tensor([0, 1, 2]))"
      ]
     },
     "execution_count": 59,
     "metadata": {},
     "output_type": "execute_result"
    }
   ],
   "source": [
    "A1, B1"
   ]
  },
  {
   "cell_type": "code",
   "execution_count": 60,
   "id": "597254da-cd43-4e09-aa95-bb6234662e31",
   "metadata": {},
   "outputs": [
    {
     "data": {
      "text/plain": [
       "tensor([[ 0,  1,  2],\n",
       "        [10, 11, 12],\n",
       "        [20, 21, 22],\n",
       "        [30, 31, 32]])"
      ]
     },
     "execution_count": 60,
     "metadata": {},
     "output_type": "execute_result"
    }
   ],
   "source": [
    "A1 + B1"
   ]
  },
  {
   "cell_type": "code",
   "execution_count": 62,
   "id": "b8c13f02-d349-4a5a-9711-87bbcba3c4ea",
   "metadata": {},
   "outputs": [],
   "source": [
    "B2 = B1.unsqueeze(0)"
   ]
  },
  {
   "cell_type": "code",
   "execution_count": 64,
   "id": "18e758ad-9819-4c50-bfc7-dd73dee5f433",
   "metadata": {},
   "outputs": [
    {
     "data": {
      "text/plain": [
       "(tensor([0, 1, 2]), tensor([[0, 1, 2]]))"
      ]
     },
     "execution_count": 64,
     "metadata": {},
     "output_type": "execute_result"
    }
   ],
   "source": [
    "B1, B2"
   ]
  },
  {
   "cell_type": "code",
   "execution_count": 65,
   "id": "5fe2d947-d602-4ab3-a230-49df30b2f4cd",
   "metadata": {},
   "outputs": [
    {
     "data": {
      "text/plain": [
       "tensor([[ 0,  0,  0],\n",
       "        [10, 10, 10],\n",
       "        [20, 20, 20],\n",
       "        [30, 30, 30]])"
      ]
     },
     "execution_count": 65,
     "metadata": {},
     "output_type": "execute_result"
    }
   ],
   "source": [
    "A1.expand(4, 3)"
   ]
  },
  {
   "cell_type": "code",
   "execution_count": 66,
   "id": "aa51a001-a934-495b-bdea-7bfc3ee90bf1",
   "metadata": {},
   "outputs": [],
   "source": [
    "A2 = A1.expand(4, 3)\n",
    "B3 = B2.expand(4, 3)"
   ]
  },
  {
   "cell_type": "code",
   "execution_count": 70,
   "id": "6b311d84-e8b2-4b44-8ef3-8ca59d35517b",
   "metadata": {},
   "outputs": [
    {
     "data": {
      "text/plain": [
       "tensor([[ 0,  1,  2],\n",
       "        [10, 11, 12],\n",
       "        [20, 21, 22],\n",
       "        [30, 31, 32]])"
      ]
     },
     "execution_count": 70,
     "metadata": {},
     "output_type": "execute_result"
    }
   ],
   "source": [
    "A2 + B3"
   ]
  },
  {
   "cell_type": "markdown",
   "id": "9c7b6c67-09aa-4588-81c1-27060a95d343",
   "metadata": {},
   "source": [
    "### 逐元素操作\n",
    "\n",
    "大部分数学运算都属于逐元操作，逐元素操作输入与输出的形状相同，常见的逐元素操作如下：\n",
    "- abs/add\n",
    "- addcmul\n",
    "- ceil/floor\n",
    "- clamp\n",
    "- exp\n",
    "- exp/log/pow\n",
    "- mul/neg\n",
    "- sigmoid/tanh/softmax\n",
    "- sign/sqrt\n",
    "\n",
    "这些操作均创建新的tensor，如果需要就地操作，可以使用这些方法的下划线版本，例如abs_"
   ]
  },
  {
   "cell_type": "code",
   "execution_count": 71,
   "id": "2b39c000-979a-4f07-9097-29232dc372c1",
   "metadata": {},
   "outputs": [
    {
     "data": {
      "text/plain": [
       "tensor([[-0.3172, -0.8660,  1.7482]])"
      ]
     },
     "execution_count": 71,
     "metadata": {},
     "output_type": "execute_result"
    }
   ],
   "source": [
    "t = torch.randn(1, 3)\n",
    "t1 = torch.randn(3, 1)\n",
    "t2 = torch.randn(1, 3)\n",
    "t"
   ]
  },
  {
   "cell_type": "code",
   "execution_count": 82,
   "id": "7ed5c0f8-35e4-45bf-a17e-b6e16be61cd6",
   "metadata": {},
   "outputs": [
    {
     "data": {
      "text/plain": [
       "tensor([[0.4214, 0.2961, 0.8517]])"
      ]
     },
     "execution_count": 82,
     "metadata": {},
     "output_type": "execute_result"
    }
   ],
   "source": [
    "# 计算sigmoid\n",
    "torch.sigmoid(t)"
   ]
  },
  {
   "cell_type": "code",
   "execution_count": 72,
   "id": "f86761d8-d931-412f-b48c-849fdf5662ab",
   "metadata": {},
   "outputs": [
    {
     "data": {
      "text/plain": [
       "tensor([[-0.2759],\n",
       "        [-0.9755],\n",
       "        [ 0.4790]])"
      ]
     },
     "execution_count": 72,
     "metadata": {},
     "output_type": "execute_result"
    }
   ],
   "source": [
    "t1"
   ]
  },
  {
   "cell_type": "code",
   "execution_count": 73,
   "id": "b0f95dd9-d30a-4890-b590-e5c093f5f35c",
   "metadata": {},
   "outputs": [
    {
     "data": {
      "text/plain": [
       "tensor([[-2.3652, -0.8047,  0.6587]])"
      ]
     },
     "execution_count": 73,
     "metadata": {},
     "output_type": "execute_result"
    }
   ],
   "source": [
    "t2"
   ]
  },
  {
   "cell_type": "code",
   "execution_count": 81,
   "id": "6b04f604-334a-41e5-9876-9b76e5e4dad1",
   "metadata": {},
   "outputs": [
    {
     "data": {
      "text/plain": [
       "tensor([[ 0.0117,  0.0343, -0.0419],\n",
       "        [ 0.0412,  0.1212, -0.1481],\n",
       "        [-0.0203, -0.0595,  0.0727]])"
      ]
     },
     "execution_count": 81,
     "metadata": {},
     "output_type": "execute_result"
    }
   ],
   "source": [
    "0.1 * (t1 / t2)"
   ]
  },
  {
   "cell_type": "code",
   "execution_count": 79,
   "id": "c8d96f3c-e11f-4e1d-a822-25b4c1f2f28f",
   "metadata": {},
   "outputs": [
    {
     "data": {
      "text/plain": [
       "(0.11664975477760864, 0.3428606934261215, -0.41885532108698953)"
      ]
     },
     "execution_count": 79,
     "metadata": {},
     "output_type": "execute_result"
    }
   ],
   "source": [
    "-0.2759 / -2.3652, -0.2759 / -0.8047, -0.2759 / 0.6587"
   ]
  },
  {
   "cell_type": "code",
   "execution_count": 80,
   "id": "2efdb335-6993-4157-bd84-b7e44743ecf7",
   "metadata": {},
   "outputs": [
    {
     "name": "stderr",
     "output_type": "stream",
     "text": [
      "/usr/local/lib/python3.7/site-packages/ipykernel_launcher.py:2: UserWarning: This overload of addcdiv is deprecated:\n",
      "\taddcdiv(Tensor input, Number value, Tensor tensor1, Tensor tensor2, *, Tensor out)\n",
      "Consider using one of the following signatures instead:\n",
      "\taddcdiv(Tensor input, Tensor tensor1, Tensor tensor2, *, Number value, Tensor out) (Triggered internally at  /pytorch/torch/csrc/utils/python_arg_parser.cpp:1025.)\n",
      "  \n"
     ]
    },
    {
     "data": {
      "text/plain": [
       "tensor([[-0.3055, -0.8318,  1.7063],\n",
       "        [-0.2760, -0.7448,  1.6001],\n",
       "        [-0.3374, -0.9256,  1.8209]])"
      ]
     },
     "execution_count": 80,
     "metadata": {},
     "output_type": "execute_result"
    }
   ],
   "source": [
    "# t+0.1*(t1/t2)\n",
    "torch.addcdiv(t, 0.1, t1, t2)"
   ]
  },
  {
   "cell_type": "code",
   "execution_count": 83,
   "id": "cd37f796-dd0f-477b-8be7-b49e0ecf0189",
   "metadata": {},
   "outputs": [
    {
     "data": {
      "text/plain": [
       "tensor([[0., 0., 1.]])"
      ]
     },
     "execution_count": 83,
     "metadata": {},
     "output_type": "execute_result"
    }
   ],
   "source": [
    "# 将t限制在[0,1]之间\n",
    "torch.clamp(t, 0, 1)"
   ]
  },
  {
   "cell_type": "code",
   "execution_count": 84,
   "id": "352eb215-d6a6-4ac1-8e63-9d955c1a1179",
   "metadata": {},
   "outputs": [
    {
     "data": {
      "text/plain": [
       "tensor([[1.6828, 1.1340, 3.7482]])"
      ]
     },
     "execution_count": 84,
     "metadata": {},
     "output_type": "execute_result"
    }
   ],
   "source": [
    "# t+2进行就地运算\n",
    "t.add_(2)"
   ]
  },
  {
   "cell_type": "markdown",
   "id": "f6b9a023-690d-4c81-ba7a-e5b7876649eb",
   "metadata": {},
   "source": [
    "### 归并操作\n",
    "\n",
    "归并操作顾名思义，就是对输入进行归并或合计等操作，这类操作的输入输出形状一般不相同，而且往往是输入大于输出形状。归并操作可以对整个tensor，也可以沿着某个维度进行归并。\n",
    "\n",
    "常见的归并操作如下：\n",
    "- cumprod：在指定维度对t进行累积\n",
    "- cumsum：在指定维度对t进行累加\n",
    "- dist：返回a,b之间的p阶范数\n",
    "- mean/median：均值/中位数\n",
    "- std/var：标准差/方差\n",
    "- norm：返回t的p阶范数\n",
    "- prod/sum：返回所有元素的积/和"
   ]
  },
  {
   "cell_type": "code",
   "execution_count": 86,
   "id": "cb9a7a58-927f-46ec-ad5d-85f72798ac26",
   "metadata": {},
   "outputs": [
    {
     "data": {
      "text/plain": [
       "tensor([ 0.,  2.,  4.,  6.,  8., 10.])"
      ]
     },
     "execution_count": 86,
     "metadata": {},
     "output_type": "execute_result"
    }
   ],
   "source": [
    "a = torch.linspace(0, 10, 6)\n",
    "a"
   ]
  },
  {
   "cell_type": "code",
   "execution_count": 87,
   "id": "314dde6c-447a-4149-b378-0e066c7c4dba",
   "metadata": {},
   "outputs": [
    {
     "data": {
      "text/plain": [
       "tensor([[ 0.,  2.,  4.],\n",
       "        [ 6.,  8., 10.]])"
      ]
     },
     "execution_count": 87,
     "metadata": {},
     "output_type": "execute_result"
    }
   ],
   "source": [
    "# 使用view方法，把a变为2x3矩阵\n",
    "a = a.view((2, 3))\n",
    "a"
   ]
  },
  {
   "cell_type": "code",
   "execution_count": 88,
   "id": "d483e43e-0a89-4fc0-b9c8-6bdaea3b6437",
   "metadata": {},
   "outputs": [
    {
     "data": {
      "text/plain": [
       "tensor([ 6., 10., 14.])"
      ]
     },
     "execution_count": 88,
     "metadata": {},
     "output_type": "execute_result"
    }
   ],
   "source": [
    "# 沿y轴方向累加，即dim=0\n",
    "b = a.sum(dim=0)  # b的形状为[3]\n",
    "b"
   ]
  },
  {
   "cell_type": "code",
   "execution_count": 89,
   "id": "eaca92d5-9dc4-4443-8877-c0d9677db243",
   "metadata": {},
   "outputs": [
    {
     "data": {
      "text/plain": [
       "tensor([[ 6., 10., 14.]])"
      ]
     },
     "execution_count": 89,
     "metadata": {},
     "output_type": "execute_result"
    }
   ],
   "source": [
    "# 沿y轴方向累加，即dim=0,并保留含1的维度\n",
    "b = a.sum(dim=0, keepdim=True)  # b的形状为[1,3]\n",
    "b"
   ]
  },
  {
   "cell_type": "markdown",
   "id": "78a87988-fbec-4553-8146-5c4ab21309f6",
   "metadata": {},
   "source": [
    "### 比较操作\n",
    "\n",
    "比较操作一般进行逐元素比较，有些是按指定方向比较。常用的比较函数可参考如下：\n",
    "- eq：比较tensor是否相等\n",
    "- equal：比较tensor是否有相同的shape和值\n",
    "- ge/le/gt/lt：大于/小于/大于等于/小于等于\n",
    "- max/min\n",
    "- topk：在指定的axis维上取最高K个值"
   ]
  },
  {
   "cell_type": "code",
   "execution_count": 90,
   "id": "030a40d0-14e6-48c7-878e-146558cb968a",
   "metadata": {},
   "outputs": [
    {
     "data": {
      "text/plain": [
       "tensor([[ 0.,  2.,  4.],\n",
       "        [ 6.,  8., 10.]])"
      ]
     },
     "execution_count": 90,
     "metadata": {},
     "output_type": "execute_result"
    }
   ],
   "source": [
    "import torch\n",
    "\n",
    "x = torch.linspace(0, 10, 6).view(2, 3)\n",
    "\n",
    "x"
   ]
  },
  {
   "cell_type": "code",
   "execution_count": 91,
   "id": "e6fac4cc-1f81-4848-b472-162a1a11b536",
   "metadata": {},
   "outputs": [
    {
     "data": {
      "text/plain": [
       "tensor(10.)"
      ]
     },
     "execution_count": 91,
     "metadata": {},
     "output_type": "execute_result"
    }
   ],
   "source": [
    "# 求所有元素的最大值\n",
    "torch.max(x)  # 结果为10"
   ]
  },
  {
   "cell_type": "code",
   "execution_count": 92,
   "id": "ff9a9903-9017-4a28-ac34-7c2a3a7013b1",
   "metadata": {},
   "outputs": [
    {
     "data": {
      "text/plain": [
       "torch.return_types.max(\n",
       "values=tensor([ 6.,  8., 10.]),\n",
       "indices=tensor([1, 1, 1]))"
      ]
     },
     "execution_count": 92,
     "metadata": {},
     "output_type": "execute_result"
    }
   ],
   "source": [
    "# 求y轴方向的最大值\n",
    "torch.max(x, dim=0)  # 结果为[6,8,10]"
   ]
  },
  {
   "cell_type": "code",
   "execution_count": 95,
   "id": "ddb435b6-8991-4823-8da9-51d066f5b10f",
   "metadata": {},
   "outputs": [
    {
     "data": {
      "text/plain": [
       "torch.return_types.topk(\n",
       "values=tensor([[ 6.,  8., 10.]]),\n",
       "indices=tensor([[1, 1, 1]]))"
      ]
     },
     "execution_count": 95,
     "metadata": {},
     "output_type": "execute_result"
    }
   ],
   "source": [
    "# 求最大的2个元素\n",
    "torch.topk(x, 1, dim=0)  # 结果为[6,8,10],对应索引为tensor([[1, 1, 1]"
   ]
  },
  {
   "cell_type": "markdown",
   "id": "7528cd99-3e61-4c1c-9c54-ddd387097b0a",
   "metadata": {},
   "source": [
    "### 矩阵操作\n",
    "\n",
    "主要是逐元素乘法和点积乘法，常用矩阵函数如下：\n",
    "- dot(t1, t2)：计算张量(1D)的内积或者点积\n",
    "- mm：矩阵乘法\n",
    "- mv：转置\n",
    "- svd：计算t的SVD分解"
   ]
  },
  {
   "cell_type": "code",
   "execution_count": 96,
   "id": "7475d5bb-398c-4496-b1e5-73fee7c83bfb",
   "metadata": {},
   "outputs": [
    {
     "data": {
      "text/plain": [
       "tensor(18)"
      ]
     },
     "execution_count": 96,
     "metadata": {},
     "output_type": "execute_result"
    }
   ],
   "source": [
    "a = torch.tensor([2, 3])\n",
    "b = torch.tensor([3, 4])\n",
    "\n",
    "torch.dot(a, b)"
   ]
  },
  {
   "cell_type": "code",
   "execution_count": 98,
   "id": "7f197993-da26-46f3-af29-4736ade29b90",
   "metadata": {},
   "outputs": [
    {
     "data": {
      "text/plain": [
       "(tensor([[4, 0, 5],\n",
       "         [7, 5, 9]]),\n",
       " tensor([[3, 3, 1, 3],\n",
       "         [0, 1, 3, 3],\n",
       "         [0, 2, 5, 5]]))"
      ]
     },
     "execution_count": 98,
     "metadata": {},
     "output_type": "execute_result"
    }
   ],
   "source": [
    "x = torch.randint(10, (2, 3))\n",
    "y = torch.randint(6, (3, 4))\n",
    "x, y"
   ]
  },
  {
   "cell_type": "code",
   "execution_count": 99,
   "id": "772de200-b1fa-4891-ada9-7d1efa2557a2",
   "metadata": {},
   "outputs": [
    {
     "data": {
      "text/plain": [
       "tensor([[12, 22, 29, 37],\n",
       "        [21, 44, 67, 81]])"
      ]
     },
     "execution_count": 99,
     "metadata": {},
     "output_type": "execute_result"
    }
   ],
   "source": [
    "torch.mm(x, y)"
   ]
  },
  {
   "cell_type": "code",
   "execution_count": 100,
   "id": "2bac3a23-ebe6-4bc5-9ebe-a247edd9bf89",
   "metadata": {},
   "outputs": [
    {
     "data": {
      "text/plain": [
       "(tensor([[[8, 3, 6],\n",
       "          [1, 5, 5]],\n",
       " \n",
       "         [[0, 4, 3],\n",
       "          [8, 8, 3]]]),\n",
       " tensor([[[1, 3, 0, 2],\n",
       "          [0, 0, 0, 4],\n",
       "          [3, 0, 5, 2]],\n",
       " \n",
       "         [[5, 2, 0, 5],\n",
       "          [3, 0, 0, 0],\n",
       "          [3, 5, 5, 3]]]))"
      ]
     },
     "execution_count": 100,
     "metadata": {},
     "output_type": "execute_result"
    }
   ],
   "source": [
    "x = torch.randint(10, (2, 2, 3))\n",
    "y = torch.randint(6, (2, 3, 4))\n",
    "x, y"
   ]
  },
  {
   "cell_type": "code",
   "execution_count": 101,
   "id": "7e3b1c65-6ed5-4413-abdb-5a0d4de870ce",
   "metadata": {},
   "outputs": [
    {
     "data": {
      "text/plain": [
       "(torch.Size([2, 2, 3]), torch.Size([2, 3, 4]))"
      ]
     },
     "execution_count": 101,
     "metadata": {},
     "output_type": "execute_result"
    }
   ],
   "source": [
    "x.shape, y.shape"
   ]
  },
  {
   "cell_type": "code",
   "execution_count": 102,
   "id": "243719e8-266f-4052-9e13-256c49528901",
   "metadata": {},
   "outputs": [
    {
     "data": {
      "text/plain": [
       "tensor([[[26, 24, 30, 40],\n",
       "         [16,  3, 25, 32]],\n",
       "\n",
       "        [[21, 15, 15,  9],\n",
       "         [73, 31, 15, 49]]])"
      ]
     },
     "execution_count": 102,
     "metadata": {},
     "output_type": "execute_result"
    }
   ],
   "source": [
    "torch.bmm(x, y)"
   ]
  },
  {
   "cell_type": "markdown",
   "id": "684f5494-4801-4c66-b153-e60178ce373e",
   "metadata": {},
   "source": [
    "### CUDA 计算"
   ]
  },
  {
   "cell_type": "code",
   "execution_count": 104,
   "id": "650a43f5-3df3-4b9e-9ca6-e33cde1d416f",
   "metadata": {},
   "outputs": [],
   "source": [
    "if torch.cuda.is_available():\n",
    "    x = x.cuda()\n",
    "    y = y.cuda()\n",
    "    x + y"
   ]
  },
  {
   "cell_type": "markdown",
   "id": "c898a4e3-55dc-431c-865a-619101917bd1",
   "metadata": {},
   "source": [
    "### 数据操作"
   ]
  },
  {
   "cell_type": "code",
   "execution_count": 4,
   "id": "54064753-4aac-4090-a0bd-062539ae1808",
   "metadata": {},
   "outputs": [],
   "source": [
    "os.makedirs(os.path.join(\"./\", \"data\"), exist_ok=True)\n",
    "data_file = os.path.join(\"./\", \"data\", \"house_tiny.csv\")\n",
    "with open(data_file, \"w\") as f:\n",
    "    f.write(\"NumRooms,Alley,Price\\n\")  # 列名\n",
    "    f.write(\"NA,Pave,127500\\n\")  # 每行表示一个数据样本\n",
    "    f.write(\"2,NA,106000\\n\")\n",
    "    f.write(\"4,NA,178100\\n\")\n",
    "    f.write(\"NA,NA,140000\\n\")"
   ]
  },
  {
   "cell_type": "code",
   "execution_count": 5,
   "id": "2a285ae7-6336-4352-910a-96f90875eb54",
   "metadata": {},
   "outputs": [
    {
     "data": {
      "text/html": [
       "<div>\n",
       "<style scoped>\n",
       "    .dataframe tbody tr th:only-of-type {\n",
       "        vertical-align: middle;\n",
       "    }\n",
       "\n",
       "    .dataframe tbody tr th {\n",
       "        vertical-align: top;\n",
       "    }\n",
       "\n",
       "    .dataframe thead th {\n",
       "        text-align: right;\n",
       "    }\n",
       "</style>\n",
       "<table border=\"1\" class=\"dataframe\">\n",
       "  <thead>\n",
       "    <tr style=\"text-align: right;\">\n",
       "      <th></th>\n",
       "      <th>NumRooms</th>\n",
       "      <th>Alley</th>\n",
       "      <th>Price</th>\n",
       "    </tr>\n",
       "  </thead>\n",
       "  <tbody>\n",
       "    <tr>\n",
       "      <th>0</th>\n",
       "      <td>NaN</td>\n",
       "      <td>Pave</td>\n",
       "      <td>127500</td>\n",
       "    </tr>\n",
       "    <tr>\n",
       "      <th>1</th>\n",
       "      <td>2.0</td>\n",
       "      <td>NaN</td>\n",
       "      <td>106000</td>\n",
       "    </tr>\n",
       "    <tr>\n",
       "      <th>2</th>\n",
       "      <td>4.0</td>\n",
       "      <td>NaN</td>\n",
       "      <td>178100</td>\n",
       "    </tr>\n",
       "    <tr>\n",
       "      <th>3</th>\n",
       "      <td>NaN</td>\n",
       "      <td>NaN</td>\n",
       "      <td>140000</td>\n",
       "    </tr>\n",
       "  </tbody>\n",
       "</table>\n",
       "</div>"
      ],
      "text/plain": [
       "   NumRooms Alley   Price\n",
       "0       NaN  Pave  127500\n",
       "1       2.0   NaN  106000\n",
       "2       4.0   NaN  178100\n",
       "3       NaN   NaN  140000"
      ]
     },
     "execution_count": 5,
     "metadata": {},
     "output_type": "execute_result"
    }
   ],
   "source": [
    "data = pd.read_csv(data_file)\n",
    "data"
   ]
  },
  {
   "cell_type": "code",
   "execution_count": 6,
   "id": "b72cb6b2-ee5c-43f6-9edf-4d4b2719c9c5",
   "metadata": {},
   "outputs": [],
   "source": [
    "inputs, outputs = data.iloc[:, 0:2], data.iloc[:, -1]"
   ]
  },
  {
   "cell_type": "code",
   "execution_count": 7,
   "id": "10ff24f3-81aa-40ff-901e-29dbd987c0d1",
   "metadata": {},
   "outputs": [
    {
     "data": {
      "text/html": [
       "<div>\n",
       "<style scoped>\n",
       "    .dataframe tbody tr th:only-of-type {\n",
       "        vertical-align: middle;\n",
       "    }\n",
       "\n",
       "    .dataframe tbody tr th {\n",
       "        vertical-align: top;\n",
       "    }\n",
       "\n",
       "    .dataframe thead th {\n",
       "        text-align: right;\n",
       "    }\n",
       "</style>\n",
       "<table border=\"1\" class=\"dataframe\">\n",
       "  <thead>\n",
       "    <tr style=\"text-align: right;\">\n",
       "      <th></th>\n",
       "      <th>NumRooms</th>\n",
       "      <th>Alley</th>\n",
       "    </tr>\n",
       "  </thead>\n",
       "  <tbody>\n",
       "    <tr>\n",
       "      <th>0</th>\n",
       "      <td>NaN</td>\n",
       "      <td>Pave</td>\n",
       "    </tr>\n",
       "    <tr>\n",
       "      <th>1</th>\n",
       "      <td>2.0</td>\n",
       "      <td>NaN</td>\n",
       "    </tr>\n",
       "    <tr>\n",
       "      <th>2</th>\n",
       "      <td>4.0</td>\n",
       "      <td>NaN</td>\n",
       "    </tr>\n",
       "    <tr>\n",
       "      <th>3</th>\n",
       "      <td>NaN</td>\n",
       "      <td>NaN</td>\n",
       "    </tr>\n",
       "  </tbody>\n",
       "</table>\n",
       "</div>"
      ],
      "text/plain": [
       "   NumRooms Alley\n",
       "0       NaN  Pave\n",
       "1       2.0   NaN\n",
       "2       4.0   NaN\n",
       "3       NaN   NaN"
      ]
     },
     "execution_count": 7,
     "metadata": {},
     "output_type": "execute_result"
    }
   ],
   "source": [
    "inputs"
   ]
  },
  {
   "cell_type": "code",
   "execution_count": 8,
   "id": "a172b3f0-efdd-4312-8f3c-f0a2e8f4ac47",
   "metadata": {},
   "outputs": [
    {
     "data": {
      "text/plain": [
       "0    127500\n",
       "1    106000\n",
       "2    178100\n",
       "3    140000\n",
       "Name: Price, dtype: int64"
      ]
     },
     "execution_count": 8,
     "metadata": {},
     "output_type": "execute_result"
    }
   ],
   "source": [
    "outputs"
   ]
  },
  {
   "cell_type": "code",
   "execution_count": 9,
   "id": "152a96fe-aaf7-47d7-95e3-4498749c35f5",
   "metadata": {},
   "outputs": [
    {
     "name": "stderr",
     "output_type": "stream",
     "text": [
      "/usr/local/lib/python3.7/site-packages/ipykernel_launcher.py:1: FutureWarning: Dropping of nuisance columns in DataFrame reductions (with 'numeric_only=None') is deprecated; in a future version this will raise TypeError.  Select only valid columns before calling the reduction.\n",
      "  \"\"\"Entry point for launching an IPython kernel.\n"
     ]
    },
    {
     "data": {
      "text/html": [
       "<div>\n",
       "<style scoped>\n",
       "    .dataframe tbody tr th:only-of-type {\n",
       "        vertical-align: middle;\n",
       "    }\n",
       "\n",
       "    .dataframe tbody tr th {\n",
       "        vertical-align: top;\n",
       "    }\n",
       "\n",
       "    .dataframe thead th {\n",
       "        text-align: right;\n",
       "    }\n",
       "</style>\n",
       "<table border=\"1\" class=\"dataframe\">\n",
       "  <thead>\n",
       "    <tr style=\"text-align: right;\">\n",
       "      <th></th>\n",
       "      <th>NumRooms</th>\n",
       "      <th>Alley</th>\n",
       "    </tr>\n",
       "  </thead>\n",
       "  <tbody>\n",
       "    <tr>\n",
       "      <th>0</th>\n",
       "      <td>3.0</td>\n",
       "      <td>Pave</td>\n",
       "    </tr>\n",
       "    <tr>\n",
       "      <th>1</th>\n",
       "      <td>2.0</td>\n",
       "      <td>NaN</td>\n",
       "    </tr>\n",
       "    <tr>\n",
       "      <th>2</th>\n",
       "      <td>4.0</td>\n",
       "      <td>NaN</td>\n",
       "    </tr>\n",
       "    <tr>\n",
       "      <th>3</th>\n",
       "      <td>3.0</td>\n",
       "      <td>NaN</td>\n",
       "    </tr>\n",
       "  </tbody>\n",
       "</table>\n",
       "</div>"
      ],
      "text/plain": [
       "   NumRooms Alley\n",
       "0       3.0  Pave\n",
       "1       2.0   NaN\n",
       "2       4.0   NaN\n",
       "3       3.0   NaN"
      ]
     },
     "execution_count": 9,
     "metadata": {},
     "output_type": "execute_result"
    }
   ],
   "source": [
    "inputs = inputs.fillna(inputs.mean())\n",
    "inputs"
   ]
  },
  {
   "cell_type": "code",
   "execution_count": 26,
   "id": "551ac995-b8e9-4d8b-96fc-e4a80cc8936e",
   "metadata": {},
   "outputs": [
    {
     "data": {
      "text/html": [
       "<div>\n",
       "<style scoped>\n",
       "    .dataframe tbody tr th:only-of-type {\n",
       "        vertical-align: middle;\n",
       "    }\n",
       "\n",
       "    .dataframe tbody tr th {\n",
       "        vertical-align: top;\n",
       "    }\n",
       "\n",
       "    .dataframe thead th {\n",
       "        text-align: right;\n",
       "    }\n",
       "</style>\n",
       "<table border=\"1\" class=\"dataframe\">\n",
       "  <thead>\n",
       "    <tr style=\"text-align: right;\">\n",
       "      <th></th>\n",
       "      <th>NumRooms</th>\n",
       "      <th>Alley_Pave</th>\n",
       "      <th>Alley_nan</th>\n",
       "    </tr>\n",
       "  </thead>\n",
       "  <tbody>\n",
       "    <tr>\n",
       "      <th>0</th>\n",
       "      <td>3.0</td>\n",
       "      <td>1</td>\n",
       "      <td>0</td>\n",
       "    </tr>\n",
       "    <tr>\n",
       "      <th>1</th>\n",
       "      <td>2.0</td>\n",
       "      <td>0</td>\n",
       "      <td>1</td>\n",
       "    </tr>\n",
       "    <tr>\n",
       "      <th>2</th>\n",
       "      <td>4.0</td>\n",
       "      <td>0</td>\n",
       "      <td>1</td>\n",
       "    </tr>\n",
       "    <tr>\n",
       "      <th>3</th>\n",
       "      <td>3.0</td>\n",
       "      <td>0</td>\n",
       "      <td>1</td>\n",
       "    </tr>\n",
       "  </tbody>\n",
       "</table>\n",
       "</div>"
      ],
      "text/plain": [
       "   NumRooms  Alley_Pave  Alley_nan\n",
       "0       3.0           1          0\n",
       "1       2.0           0          1\n",
       "2       4.0           0          1\n",
       "3       3.0           0          1"
      ]
     },
     "execution_count": 26,
     "metadata": {},
     "output_type": "execute_result"
    }
   ],
   "source": [
    "inputs = pd.get_dummies(inputs, dummy_na=True)\n",
    "inputs"
   ]
  },
  {
   "cell_type": "code",
   "execution_count": 27,
   "id": "1915abeb-e3a8-4fc0-bced-3865233c879c",
   "metadata": {},
   "outputs": [
    {
     "data": {
      "text/plain": [
       "(tensor([[3., 1., 0.],\n",
       "         [2., 0., 1.],\n",
       "         [4., 0., 1.],\n",
       "         [3., 0., 1.]], dtype=torch.float64),\n",
       " tensor([127500, 106000, 178100, 140000]))"
      ]
     },
     "execution_count": 27,
     "metadata": {},
     "output_type": "execute_result"
    }
   ],
   "source": [
    "X, y = torch.tensor(inputs.values), torch.tensor(outputs.values)\n",
    "X, y"
   ]
  },
  {
   "cell_type": "code",
   "execution_count": null,
   "id": "d6c03204-4481-4c24-bc69-936e1c91226d",
   "metadata": {},
   "outputs": [],
   "source": []
  },
  {
   "cell_type": "code",
   "execution_count": null,
   "id": "4ad7006d-0c98-4b76-8dba-cb0b4d050538",
   "metadata": {},
   "outputs": [],
   "source": []
  }
 ],
 "metadata": {
  "kernelspec": {
   "display_name": "Python 3 (ipykernel)",
   "language": "python",
   "name": "python3"
  },
  "language_info": {
   "codemirror_mode": {
    "name": "ipython",
    "version": 3
   },
   "file_extension": ".py",
   "mimetype": "text/x-python",
   "name": "python",
   "nbconvert_exporter": "python",
   "pygments_lexer": "ipython3",
   "version": "3.8.11"
  }
 },
 "nbformat": 4,
 "nbformat_minor": 5
}
