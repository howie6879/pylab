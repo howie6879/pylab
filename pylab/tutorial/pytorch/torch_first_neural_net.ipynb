{
 "cells": [
  {
   "cell_type": "markdown",
   "id": "ee0bda4d-de8a-4b14-b3a6-37c072a7f20d",
   "metadata": {},
   "source": [
    "# 基于PyTorch构建神经网络\n",
    "\n",
    "主要学习内容：\n",
    "- 处理CSV且转化成Tensor\n",
    "- 自建神经网络模型：使用现实世界的天气数据来预测明天是否会下雨\n",
    "- 使用损失函数和优化器来训练模型\n",
    "- 验证模型且论证不平衡分类器模型的危险\n",
    "\n",
    "来源：\n",
    "- 文章：[Build Your First Neural Network with PyTorch](https://curiousily.com/posts/build-your-first-neural-network-with-pytorch/)\n",
    "- 代码示例：[colab](https://colab.research.google.com/drive/1lDXVkdt7GC8jK_nGmOMKeDywXse-DY-u)\n",
    "- 关于样本不均衡文章--[Practical Guide to Handling Imbalanced Datasets](https://curiousily.com/posts/practical-guide-to-handling-imbalanced-datasets/)"
   ]
  },
  {
   "cell_type": "code",
   "execution_count": 1,
   "id": "78f326fe-c86a-4121-bfec-9b080d1a184d",
   "metadata": {},
   "outputs": [
    {
     "name": "stdout",
     "output_type": "stream",
     "text": [
      "Python implementation: CPython\n",
      "Python version       : 3.8.11\n",
      "IPython version      : 7.27.0\n",
      "\n",
      "numpy : 1.21.2\n",
      "pandas: 1.3.1\n",
      "torch : 1.8.2\n",
      "\n"
     ]
    }
   ],
   "source": [
    "%reload_ext watermark\n",
    "%watermark -v -p numpy,pandas,torch"
   ]
  },
  {
   "cell_type": "code",
   "execution_count": 9,
   "id": "ec8461ce-776c-43e5-a9b2-9367ce5482ea",
   "metadata": {},
   "outputs": [],
   "source": [
    "# 下载数据\n",
    "# !wget https://raw.githubusercontent.com/gchoi/Dataset/master/weatherAUS.csv\n",
    "# 路径"
   ]
  },
  {
   "cell_type": "code",
   "execution_count": 4,
   "id": "0bc3a0af-0a6c-4e44-9c42-f026881b82b1",
   "metadata": {},
   "outputs": [],
   "source": [
    "import os\n",
    "\n",
    "import matplotlib.pyplot as plt\n",
    "import numpy as np\n",
    "import pandas as pd\n",
    "import seaborn as sns\n",
    "import torch\n",
    "import torch.nn.functional as F\n",
    "from matplotlib import rc\n",
    "from sklearn.metrics import classification_report, confusion_matrix\n",
    "from sklearn.model_selection import train_test_split\n",
    "from torch import nn, optim\n",
    "from tqdm import tqdm"
   ]
  },
  {
   "cell_type": "code",
   "execution_count": 5,
   "id": "67ffd37a-fef8-460e-b47f-2908633264a7",
   "metadata": {},
   "outputs": [],
   "source": [
    "%matplotlib inline\n",
    "%config InlineBackend.figure_format='retina'\n",
    "sns.set(style=\"whitegrid\", palette=\"muted\", font_scale=1.2)\n",
    "HAPPY_COLORS_PALETTE = [\n",
    "    \"#01BEFE\",\n",
    "    \"#FFDD00\",\n",
    "    \"#FF7D00\",\n",
    "    \"#FF006D\",\n",
    "    \"#93D30C\",\n",
    "    \"#8F00FF\",\n",
    "]\n",
    "sns.set_palette(sns.color_palette(HAPPY_COLORS_PALETTE))\n",
    "plt.rcParams[\"figure.figsize\"] = 12, 8"
   ]
  },
  {
   "cell_type": "code",
   "execution_count": 7,
   "id": "15ecbea0-1a29-4c93-bfa9-c82bb7b59509",
   "metadata": {},
   "outputs": [
    {
     "data": {
      "text/plain": [
       "<torch._C.Generator at 0x7f3629852430>"
      ]
     },
     "execution_count": 7,
     "metadata": {},
     "output_type": "execute_result"
    }
   ],
   "source": [
    "RANDOM_SEED = 42\n",
    "np.random.seed(RANDOM_SEED)\n",
    "torch.manual_seed(RANDOM_SEED)"
   ]
  },
  {
   "cell_type": "markdown",
   "id": "7f305ebf-ec8f-4f84-bfdb-535234f2d1f3",
   "metadata": {},
   "source": [
    "## 数据处理"
   ]
  },
  {
   "cell_type": "code",
   "execution_count": 10,
   "id": "1f8450f4-3a9f-4d32-92f1-3366468d6247",
   "metadata": {},
   "outputs": [],
   "source": [
    "df = pd.read_csv(\"./data/weatherAUS.csv\")"
   ]
  },
  {
   "cell_type": "code",
   "execution_count": 11,
   "id": "7f930592-ffe0-4c41-84af-d021c9be6ce6",
   "metadata": {},
   "outputs": [
    {
     "data": {
      "text/plain": [
       "(36881, 24)"
      ]
     },
     "execution_count": 11,
     "metadata": {},
     "output_type": "execute_result"
    }
   ],
   "source": [
    "df.shape"
   ]
  },
  {
   "cell_type": "code",
   "execution_count": 12,
   "id": "8d6699ce-ec5d-4d7e-abd5-b224be118298",
   "metadata": {},
   "outputs": [
    {
     "data": {
      "text/html": [
       "<div>\n",
       "<style scoped>\n",
       "    .dataframe tbody tr th:only-of-type {\n",
       "        vertical-align: middle;\n",
       "    }\n",
       "\n",
       "    .dataframe tbody tr th {\n",
       "        vertical-align: top;\n",
       "    }\n",
       "\n",
       "    .dataframe thead th {\n",
       "        text-align: right;\n",
       "    }\n",
       "</style>\n",
       "<table border=\"1\" class=\"dataframe\">\n",
       "  <thead>\n",
       "    <tr style=\"text-align: right;\">\n",
       "      <th></th>\n",
       "      <th>Date</th>\n",
       "      <th>Location</th>\n",
       "      <th>MinTemp</th>\n",
       "      <th>MaxTemp</th>\n",
       "      <th>Rainfall</th>\n",
       "      <th>Evaporation</th>\n",
       "      <th>Sunshine</th>\n",
       "      <th>WindGustDir</th>\n",
       "      <th>WindGustSpeed</th>\n",
       "      <th>WindDir9am</th>\n",
       "      <th>...</th>\n",
       "      <th>Humidity3pm</th>\n",
       "      <th>Pressure9am</th>\n",
       "      <th>Pressure3pm</th>\n",
       "      <th>Cloud9am</th>\n",
       "      <th>Cloud3pm</th>\n",
       "      <th>Temp9am</th>\n",
       "      <th>Temp3pm</th>\n",
       "      <th>RainToday</th>\n",
       "      <th>RISK_MM</th>\n",
       "      <th>RainTomorrow</th>\n",
       "    </tr>\n",
       "  </thead>\n",
       "  <tbody>\n",
       "    <tr>\n",
       "      <th>0</th>\n",
       "      <td>5/18/2009</td>\n",
       "      <td>Hobart</td>\n",
       "      <td>5.1</td>\n",
       "      <td>14.3</td>\n",
       "      <td>0.0</td>\n",
       "      <td>1.8</td>\n",
       "      <td>8.9</td>\n",
       "      <td>NW</td>\n",
       "      <td>30.0</td>\n",
       "      <td>WSW</td>\n",
       "      <td>...</td>\n",
       "      <td>47.0</td>\n",
       "      <td>1023.1</td>\n",
       "      <td>1022.2</td>\n",
       "      <td>1.0</td>\n",
       "      <td>1.0</td>\n",
       "      <td>9.1</td>\n",
       "      <td>13.3</td>\n",
       "      <td>No</td>\n",
       "      <td>0.0</td>\n",
       "      <td>No</td>\n",
       "    </tr>\n",
       "    <tr>\n",
       "      <th>1</th>\n",
       "      <td>7/3/2009</td>\n",
       "      <td>Launceston</td>\n",
       "      <td>1.1</td>\n",
       "      <td>14.5</td>\n",
       "      <td>0.4</td>\n",
       "      <td>NaN</td>\n",
       "      <td>NaN</td>\n",
       "      <td>SSW</td>\n",
       "      <td>50.0</td>\n",
       "      <td>E</td>\n",
       "      <td>...</td>\n",
       "      <td>46.0</td>\n",
       "      <td>1001.5</td>\n",
       "      <td>1002.4</td>\n",
       "      <td>NaN</td>\n",
       "      <td>NaN</td>\n",
       "      <td>1.3</td>\n",
       "      <td>13.7</td>\n",
       "      <td>No</td>\n",
       "      <td>0.0</td>\n",
       "      <td>No</td>\n",
       "    </tr>\n",
       "    <tr>\n",
       "      <th>2</th>\n",
       "      <td>2/18/2010</td>\n",
       "      <td>Williamtown</td>\n",
       "      <td>19.7</td>\n",
       "      <td>26.2</td>\n",
       "      <td>0.0</td>\n",
       "      <td>7.2</td>\n",
       "      <td>7.2</td>\n",
       "      <td>SSE</td>\n",
       "      <td>41.0</td>\n",
       "      <td>SSE</td>\n",
       "      <td>...</td>\n",
       "      <td>50.0</td>\n",
       "      <td>1020.9</td>\n",
       "      <td>1021.9</td>\n",
       "      <td>6.0</td>\n",
       "      <td>4.0</td>\n",
       "      <td>22.7</td>\n",
       "      <td>24.4</td>\n",
       "      <td>No</td>\n",
       "      <td>0.2</td>\n",
       "      <td>No</td>\n",
       "    </tr>\n",
       "    <tr>\n",
       "      <th>3</th>\n",
       "      <td>3/4/2010</td>\n",
       "      <td>PerthAirport</td>\n",
       "      <td>16.6</td>\n",
       "      <td>28.0</td>\n",
       "      <td>0.0</td>\n",
       "      <td>9.0</td>\n",
       "      <td>11.3</td>\n",
       "      <td>SW</td>\n",
       "      <td>54.0</td>\n",
       "      <td>SSE</td>\n",
       "      <td>...</td>\n",
       "      <td>41.0</td>\n",
       "      <td>1018.3</td>\n",
       "      <td>1014.9</td>\n",
       "      <td>6.0</td>\n",
       "      <td>1.0</td>\n",
       "      <td>20.0</td>\n",
       "      <td>26.1</td>\n",
       "      <td>No</td>\n",
       "      <td>0.0</td>\n",
       "      <td>No</td>\n",
       "    </tr>\n",
       "    <tr>\n",
       "      <th>4</th>\n",
       "      <td>9/9/2010</td>\n",
       "      <td>GoldCoast</td>\n",
       "      <td>14.6</td>\n",
       "      <td>25.3</td>\n",
       "      <td>0.0</td>\n",
       "      <td>NaN</td>\n",
       "      <td>NaN</td>\n",
       "      <td>NNW</td>\n",
       "      <td>43.0</td>\n",
       "      <td>WNW</td>\n",
       "      <td>...</td>\n",
       "      <td>67.0</td>\n",
       "      <td>1020.3</td>\n",
       "      <td>1015.0</td>\n",
       "      <td>NaN</td>\n",
       "      <td>NaN</td>\n",
       "      <td>22.2</td>\n",
       "      <td>22.6</td>\n",
       "      <td>No</td>\n",
       "      <td>0.4</td>\n",
       "      <td>No</td>\n",
       "    </tr>\n",
       "  </tbody>\n",
       "</table>\n",
       "<p>5 rows × 24 columns</p>\n",
       "</div>"
      ],
      "text/plain": [
       "        Date      Location  MinTemp  MaxTemp  Rainfall  Evaporation  Sunshine  \\\n",
       "0  5/18/2009        Hobart      5.1     14.3       0.0          1.8       8.9   \n",
       "1   7/3/2009    Launceston      1.1     14.5       0.4          NaN       NaN   \n",
       "2  2/18/2010   Williamtown     19.7     26.2       0.0          7.2       7.2   \n",
       "3   3/4/2010  PerthAirport     16.6     28.0       0.0          9.0      11.3   \n",
       "4   9/9/2010     GoldCoast     14.6     25.3       0.0          NaN       NaN   \n",
       "\n",
       "  WindGustDir  WindGustSpeed WindDir9am  ... Humidity3pm  Pressure9am  \\\n",
       "0          NW           30.0        WSW  ...        47.0       1023.1   \n",
       "1         SSW           50.0          E  ...        46.0       1001.5   \n",
       "2         SSE           41.0        SSE  ...        50.0       1020.9   \n",
       "3          SW           54.0        SSE  ...        41.0       1018.3   \n",
       "4         NNW           43.0        WNW  ...        67.0       1020.3   \n",
       "\n",
       "   Pressure3pm  Cloud9am  Cloud3pm  Temp9am  Temp3pm  RainToday  RISK_MM  \\\n",
       "0       1022.2       1.0       1.0      9.1     13.3         No      0.0   \n",
       "1       1002.4       NaN       NaN      1.3     13.7         No      0.0   \n",
       "2       1021.9       6.0       4.0     22.7     24.4         No      0.2   \n",
       "3       1014.9       6.0       1.0     20.0     26.1         No      0.0   \n",
       "4       1015.0       NaN       NaN     22.2     22.6         No      0.4   \n",
       "\n",
       "   RainTomorrow  \n",
       "0            No  \n",
       "1            No  \n",
       "2            No  \n",
       "3            No  \n",
       "4            No  \n",
       "\n",
       "[5 rows x 24 columns]"
      ]
     },
     "execution_count": 12,
     "metadata": {},
     "output_type": "execute_result"
    }
   ],
   "source": [
    "df.head()"
   ]
  },
  {
   "cell_type": "code",
   "execution_count": 13,
   "id": "ca1712a0-8ede-46ed-97b3-3c0995c7c23f",
   "metadata": {},
   "outputs": [],
   "source": [
    "cols = [\"Rainfall\", \"Humidity3pm\", \"Pressure9am\", \"RainToday\", \"RainTomorrow\"]\n",
    "df = df[cols]"
   ]
  },
  {
   "cell_type": "code",
   "execution_count": 14,
   "id": "4a61da25-92f4-4864-93b8-15ec56296ffc",
   "metadata": {},
   "outputs": [
    {
     "data": {
      "text/html": [
       "<div>\n",
       "<style scoped>\n",
       "    .dataframe tbody tr th:only-of-type {\n",
       "        vertical-align: middle;\n",
       "    }\n",
       "\n",
       "    .dataframe tbody tr th {\n",
       "        vertical-align: top;\n",
       "    }\n",
       "\n",
       "    .dataframe thead th {\n",
       "        text-align: right;\n",
       "    }\n",
       "</style>\n",
       "<table border=\"1\" class=\"dataframe\">\n",
       "  <thead>\n",
       "    <tr style=\"text-align: right;\">\n",
       "      <th></th>\n",
       "      <th>Rainfall</th>\n",
       "      <th>Humidity3pm</th>\n",
       "      <th>Pressure9am</th>\n",
       "      <th>RainToday</th>\n",
       "      <th>RainTomorrow</th>\n",
       "    </tr>\n",
       "  </thead>\n",
       "  <tbody>\n",
       "    <tr>\n",
       "      <th>0</th>\n",
       "      <td>0.0</td>\n",
       "      <td>47.0</td>\n",
       "      <td>1023.1</td>\n",
       "      <td>No</td>\n",
       "      <td>No</td>\n",
       "    </tr>\n",
       "    <tr>\n",
       "      <th>1</th>\n",
       "      <td>0.4</td>\n",
       "      <td>46.0</td>\n",
       "      <td>1001.5</td>\n",
       "      <td>No</td>\n",
       "      <td>No</td>\n",
       "    </tr>\n",
       "    <tr>\n",
       "      <th>2</th>\n",
       "      <td>0.0</td>\n",
       "      <td>50.0</td>\n",
       "      <td>1020.9</td>\n",
       "      <td>No</td>\n",
       "      <td>No</td>\n",
       "    </tr>\n",
       "    <tr>\n",
       "      <th>3</th>\n",
       "      <td>0.0</td>\n",
       "      <td>41.0</td>\n",
       "      <td>1018.3</td>\n",
       "      <td>No</td>\n",
       "      <td>No</td>\n",
       "    </tr>\n",
       "    <tr>\n",
       "      <th>4</th>\n",
       "      <td>0.0</td>\n",
       "      <td>67.0</td>\n",
       "      <td>1020.3</td>\n",
       "      <td>No</td>\n",
       "      <td>No</td>\n",
       "    </tr>\n",
       "  </tbody>\n",
       "</table>\n",
       "</div>"
      ],
      "text/plain": [
       "   Rainfall  Humidity3pm  Pressure9am RainToday RainTomorrow\n",
       "0       0.0         47.0       1023.1        No           No\n",
       "1       0.4         46.0       1001.5        No           No\n",
       "2       0.0         50.0       1020.9        No           No\n",
       "3       0.0         41.0       1018.3        No           No\n",
       "4       0.0         67.0       1020.3        No           No"
      ]
     },
     "execution_count": 14,
     "metadata": {},
     "output_type": "execute_result"
    }
   ],
   "source": [
    "df.head()"
   ]
  },
  {
   "cell_type": "code",
   "execution_count": 15,
   "id": "d193fe68-1de9-48b2-8ee4-fbb26bce11c9",
   "metadata": {},
   "outputs": [
    {
     "name": "stderr",
     "output_type": "stream",
     "text": [
      "/home/howie/anaconda3/envs/gpu_env38/lib/python3.8/site-packages/pandas/core/generic.py:6610: SettingWithCopyWarning: \n",
      "A value is trying to be set on a copy of a slice from a DataFrame\n",
      "\n",
      "See the caveats in the documentation: https://pandas.pydata.org/pandas-docs/stable/user_guide/indexing.html#returning-a-view-versus-a-copy\n",
      "  return self._update_inplace(result)\n"
     ]
    }
   ],
   "source": [
    "df[\"RainToday\"].replace({\"No\": 0, \"Yes\": 1}, inplace=True)\n",
    "df[\"RainTomorrow\"].replace({\"No\": 0, \"Yes\": 1}, inplace=True)"
   ]
  },
  {
   "cell_type": "code",
   "execution_count": 16,
   "id": "de6d6576-6acd-4cca-923c-124649ddd904",
   "metadata": {},
   "outputs": [
    {
     "data": {
      "text/html": [
       "<div>\n",
       "<style scoped>\n",
       "    .dataframe tbody tr th:only-of-type {\n",
       "        vertical-align: middle;\n",
       "    }\n",
       "\n",
       "    .dataframe tbody tr th {\n",
       "        vertical-align: top;\n",
       "    }\n",
       "\n",
       "    .dataframe thead th {\n",
       "        text-align: right;\n",
       "    }\n",
       "</style>\n",
       "<table border=\"1\" class=\"dataframe\">\n",
       "  <thead>\n",
       "    <tr style=\"text-align: right;\">\n",
       "      <th></th>\n",
       "      <th>Rainfall</th>\n",
       "      <th>Humidity3pm</th>\n",
       "      <th>Pressure9am</th>\n",
       "      <th>RainToday</th>\n",
       "      <th>RainTomorrow</th>\n",
       "    </tr>\n",
       "  </thead>\n",
       "  <tbody>\n",
       "    <tr>\n",
       "      <th>0</th>\n",
       "      <td>0.0</td>\n",
       "      <td>47.0</td>\n",
       "      <td>1023.1</td>\n",
       "      <td>0.0</td>\n",
       "      <td>0.0</td>\n",
       "    </tr>\n",
       "    <tr>\n",
       "      <th>1</th>\n",
       "      <td>0.4</td>\n",
       "      <td>46.0</td>\n",
       "      <td>1001.5</td>\n",
       "      <td>0.0</td>\n",
       "      <td>0.0</td>\n",
       "    </tr>\n",
       "    <tr>\n",
       "      <th>2</th>\n",
       "      <td>0.0</td>\n",
       "      <td>50.0</td>\n",
       "      <td>1020.9</td>\n",
       "      <td>0.0</td>\n",
       "      <td>0.0</td>\n",
       "    </tr>\n",
       "    <tr>\n",
       "      <th>3</th>\n",
       "      <td>0.0</td>\n",
       "      <td>41.0</td>\n",
       "      <td>1018.3</td>\n",
       "      <td>0.0</td>\n",
       "      <td>0.0</td>\n",
       "    </tr>\n",
       "    <tr>\n",
       "      <th>4</th>\n",
       "      <td>0.0</td>\n",
       "      <td>67.0</td>\n",
       "      <td>1020.3</td>\n",
       "      <td>0.0</td>\n",
       "      <td>0.0</td>\n",
       "    </tr>\n",
       "  </tbody>\n",
       "</table>\n",
       "</div>"
      ],
      "text/plain": [
       "   Rainfall  Humidity3pm  Pressure9am  RainToday  RainTomorrow\n",
       "0       0.0         47.0       1023.1        0.0           0.0\n",
       "1       0.4         46.0       1001.5        0.0           0.0\n",
       "2       0.0         50.0       1020.9        0.0           0.0\n",
       "3       0.0         41.0       1018.3        0.0           0.0\n",
       "4       0.0         67.0       1020.3        0.0           0.0"
      ]
     },
     "execution_count": 16,
     "metadata": {},
     "output_type": "execute_result"
    }
   ],
   "source": [
    "df.head()"
   ]
  },
  {
   "cell_type": "code",
   "execution_count": 17,
   "id": "010e06ee-3b1a-4253-9afe-26393deb8423",
   "metadata": {},
   "outputs": [],
   "source": [
    "# 直接删除空值行\n",
    "df = df.dropna(how=\"any\")"
   ]
  },
  {
   "cell_type": "code",
   "execution_count": 18,
   "id": "83c19531-439b-437b-8e45-d84948ff8a12",
   "metadata": {},
   "outputs": [
    {
     "name": "stderr",
     "output_type": "stream",
     "text": [
      "/home/howie/anaconda3/envs/gpu_env38/lib/python3.8/site-packages/seaborn/_decorators.py:36: FutureWarning: Pass the following variable as a keyword arg: x. From version 0.12, the only valid positional argument will be `data`, and passing other arguments without an explicit keyword will result in an error or misinterpretation.\n",
      "  warnings.warn(\n"
     ]
    },
    {
     "data": {
      "text/plain": [
       "<AxesSubplot:xlabel='RainTomorrow', ylabel='count'>"
      ]
     },
     "execution_count": 18,
     "metadata": {},
     "output_type": "execute_result"
    },
    {
     "data": {
      "image/png": "[encoded data removed]",
      "text/plain": [
       "<Figure size 864x576 with 1 Axes>"
      ]
     },
     "metadata": {
      "image/png": {
       "height": 489,
       "width": 753
      }
     },
     "output_type": "display_data"
    }
   ],
   "source": [
    "sns.countplot(df.RainTomorrow)"
   ]
  },
  {
   "cell_type": "code",
   "execution_count": 19,
   "id": "ec76076a-af88-49df-bd8f-e4bc8217b88f",
   "metadata": {},
   "outputs": [
    {
     "data": {
      "text/plain": [
       "(32545, 5)"
      ]
     },
     "execution_count": 19,
     "metadata": {},
     "output_type": "execute_result"
    }
   ],
   "source": [
    "df.shape"
   ]
  },
  {
   "cell_type": "code",
   "execution_count": 21,
   "id": "49676e7c-4fbd-44a0-9a1f-627222244287",
   "metadata": {},
   "outputs": [
    {
     "data": {
      "text/plain": [
       "0.0    0.766108\n",
       "1.0    0.233892\n",
       "Name: RainTomorrow, dtype: float64"
      ]
     },
     "execution_count": 21,
     "metadata": {},
     "output_type": "execute_result"
    }
   ],
   "source": [
    "df.RainTomorrow.value_counts() / df.shape[0]"
   ]
  },
  {
   "cell_type": "code",
   "execution_count": 43,
   "id": "d9530600-1553-4d36-aab1-b9d73eaeffbe",
   "metadata": {},
   "outputs": [],
   "source": [
    "# 选取样本\n",
    "X = df[[\"Rainfall\", \"Humidity3pm\", \"RainToday\", \"Pressure9am\"]]\n",
    "y = df[[\"RainTomorrow\"]]\n",
    "X_train, X_test, y_train, y_test = train_test_split(\n",
    "    X, y, test_size=0.2, random_state=RANDOM_SEED\n",
    ")"
   ]
  },
  {
   "cell_type": "code",
   "execution_count": 44,
   "id": "eea06f17-92f4-4426-8596-76ed6d1b0db5",
   "metadata": {},
   "outputs": [],
   "source": [
    "X_train = torch.from_numpy(X_train.to_numpy()).float()\n",
    "y_train = torch.squeeze(torch.from_numpy(y_train.to_numpy()).float())"
   ]
  },
  {
   "cell_type": "code",
   "execution_count": 45,
   "id": "dd55e74f-f1b6-40ab-b401-0188c5ceb2e0",
   "metadata": {},
   "outputs": [
    {
     "data": {
      "text/plain": [
       "(torch.Size([26036, 4]), torch.Size([26036]))"
      ]
     },
     "execution_count": 45,
     "metadata": {},
     "output_type": "execute_result"
    }
   ],
   "source": [
    "X_train.shape, y_train.shape"
   ]
  },
  {
   "cell_type": "code",
   "execution_count": 46,
   "id": "7b235f4f-7027-47db-9d1e-ed015b8188ed",
   "metadata": {},
   "outputs": [],
   "source": [
    "X_test = torch.from_numpy(X_test.to_numpy()).float()\n",
    "y_test = torch.squeeze(torch.from_numpy(y_test.to_numpy()).float())"
   ]
  },
  {
   "cell_type": "code",
   "execution_count": 47,
   "id": "ed7ad37a-794f-4c01-8ca0-848140e3aecf",
   "metadata": {},
   "outputs": [
    {
     "data": {
      "text/plain": [
       "(torch.Size([6509, 4]), torch.Size([6509]))"
      ]
     },
     "execution_count": 47,
     "metadata": {},
     "output_type": "execute_result"
    }
   ],
   "source": [
    "X_test.shape, y_test.shape"
   ]
  },
  {
   "cell_type": "markdown",
   "id": "46b3a1a0-dc3a-46a3-97d2-0523d9afabed",
   "metadata": {},
   "source": [
    "## 构建网络"
   ]
  },
  {
   "cell_type": "code",
   "execution_count": 48,
   "id": "32165b76-7256-4c37-bf1f-b0b0400b851d",
   "metadata": {},
   "outputs": [],
   "source": [
    "class Net(nn.Module):\n",
    "    def __init__(self, n_features):\n",
    "        super(Net, self).__init__()\n",
    "        self.fc1 = nn.Linear(n_features, 5)\n",
    "        self.fc2 = nn.Linear(5, 3)\n",
    "        self.fc3 = nn.Linear(3, 1)\n",
    "\n",
    "    def forward(self, x):\n",
    "        x = F.relu(self.fc1(x))\n",
    "        x = F.relu(self.fc2(x))\n",
    "        return torch.sigmoid(self.fc3(x))"
   ]
  },
  {
   "cell_type": "code",
   "execution_count": 49,
   "id": "1489684c-7ab2-42af-94e8-994fc1947eb9",
   "metadata": {},
   "outputs": [],
   "source": [
    "net = Net(X_train.shape[1])"
   ]
  },
  {
   "cell_type": "code",
   "execution_count": 50,
   "id": "9db9c9ff-09a4-4409-beb5-5f72afa58b26",
   "metadata": {},
   "outputs": [
    {
     "data": {
      "text/plain": [
       "Net(\n",
       "  (fc1): Linear(in_features=4, out_features=5, bias=True)\n",
       "  (fc2): Linear(in_features=5, out_features=3, bias=True)\n",
       "  (fc3): Linear(in_features=3, out_features=1, bias=True)\n",
       ")"
      ]
     },
     "execution_count": 50,
     "metadata": {},
     "output_type": "execute_result"
    }
   ],
   "source": [
    "net"
   ]
  },
  {
   "cell_type": "code",
   "execution_count": 54,
   "id": "b766366d-345e-4c49-a5c6-fbbacc092c60",
   "metadata": {},
   "outputs": [],
   "source": [
    "# 二分类的交叉熵作为损失函数\n",
    "criterion = nn.BCELoss()\n",
    "# 优化器\n",
    "optimizer = optim.Adam(net.parameters(), lr=0.001)"
   ]
  },
  {
   "cell_type": "code",
   "execution_count": 57,
   "id": "f8676c24-119b-4947-bce7-e184b33811dc",
   "metadata": {},
   "outputs": [],
   "source": [
    "# 传送数据到GPU\n",
    "device = torch.device(\"cuda:0\" if torch.cuda.is_available() else \"cpu\")\n",
    "X_train = X_train.to(device)\n",
    "y_train = y_train.to(device)\n",
    "\n",
    "X_test = X_test.to(device)\n",
    "y_test = y_test.to(device)"
   ]
  },
  {
   "cell_type": "code",
   "execution_count": 61,
   "id": "f240d05c-dc45-4e1f-a7b8-86be5c5c209c",
   "metadata": {},
   "outputs": [],
   "source": [
    "net = net.to(device)\n",
    "criterion = criterion.to(device)"
   ]
  },
  {
   "cell_type": "code",
   "execution_count": 62,
   "id": "aa5e5710-8f6f-4ad7-a2d4-093605f9a373",
   "metadata": {},
   "outputs": [],
   "source": [
    "def calculate_accuracy(y_true, y_pred):\n",
    "    predicted = y_pred.ge(0.5).view(-1)\n",
    "    return (y_true == predicted).sum().float() / len(y_true)"
   ]
  },
  {
   "cell_type": "markdown",
   "id": "ce7cad82-c2e8-4eaf-b61b-2f49c6b9f5d7",
   "metadata": {},
   "source": [
    "## 模型训练"
   ]
  },
  {
   "cell_type": "code",
   "execution_count": 68,
   "id": "4f419956-4337-4122-b6c5-12e6f432dc14",
   "metadata": {
    "scrolled": true,
    "tags": []
   },
   "outputs": [
    {
     "name": "stdout",
     "output_type": "stream",
     "text": [
      "epoch 0\n",
      "Train set - loss: 2.656, accuracy: 0.766\n",
      "Test  set - loss: 2.672, accuracy: 0.765\n",
      "\n",
      "epoch 100\n",
      "Train set - loss: 0.467, accuracy: 0.784\n",
      "Test  set - loss: 0.472, accuracy: 0.782\n",
      "\n",
      "epoch 200\n",
      "Train set - loss: 0.444, accuracy: 0.794\n",
      "Test  set - loss: 0.449, accuracy: 0.789\n",
      "\n",
      "epoch 300\n",
      "Train set - loss: 0.429, accuracy: 0.812\n",
      "Test  set - loss: 0.435, accuracy: 0.807\n",
      "\n",
      "epoch 400\n",
      "Train set - loss: 0.42, accuracy: 0.82\n",
      "Test  set - loss: 0.426, accuracy: 0.817\n",
      "\n",
      "epoch 500\n",
      "Train set - loss: 0.415, accuracy: 0.828\n",
      "Test  set - loss: 0.421, accuracy: 0.822\n",
      "\n",
      "epoch 600\n",
      "Train set - loss: 0.413, accuracy: 0.829\n",
      "Test  set - loss: 0.418, accuracy: 0.827\n",
      "\n",
      "epoch 700\n",
      "Train set - loss: 0.411, accuracy: 0.829\n",
      "Test  set - loss: 0.417, accuracy: 0.827\n",
      "\n",
      "epoch 800\n",
      "Train set - loss: 0.41, accuracy: 0.83\n",
      "Test  set - loss: 0.416, accuracy: 0.826\n",
      "\n",
      "epoch 900\n",
      "Train set - loss: 0.41, accuracy: 0.83\n",
      "Test  set - loss: 0.416, accuracy: 0.827\n",
      "\n"
     ]
    }
   ],
   "source": [
    "def round_tensor(t, decimal_places=3):\n",
    "    return round(t.item(), decimal_places)\n",
    "\n",
    "\n",
    "for epoch in range(1000):\n",
    "    y_pred = net(X_train)\n",
    "    # 降维\n",
    "    y_pred = torch.squeeze(y_pred)\n",
    "    train_loss = criterion(y_pred, y_train)\n",
    "\n",
    "    # 每一百次校验一次模型效果\n",
    "    if epoch % 100 == 0:\n",
    "        train_acc = calculate_accuracy(y_train, y_pred)\n",
    "\n",
    "        y_test_pred = net(X_test)\n",
    "        y_test_pred = torch.squeeze(y_test_pred)\n",
    "\n",
    "        test_loss = criterion(y_test_pred, y_test)\n",
    "        test_acc = calculate_accuracy(y_test, y_test_pred)\n",
    "        print(\n",
    "            f\"\"\"epoch {epoch}\n",
    "Train set - loss: {round_tensor(train_loss)}, accuracy: {round_tensor(train_acc)}\n",
    "Test  set - loss: {round_tensor(test_loss)}, accuracy: {round_tensor(test_acc)}\n",
    "\"\"\"\n",
    "        )\n",
    "\n",
    "    optimizer.zero_grad()\n",
    "    train_loss.backward()\n",
    "    optimizer.step()"
   ]
  },
  {
   "cell_type": "code",
   "execution_count": 67,
   "id": "6290e35b-e99e-44d9-b71b-8eadf8059481",
   "metadata": {},
   "outputs": [
    {
     "name": "stdout",
     "output_type": "stream",
     "text": [
      "tensor([[8.2222e-06],\n",
      "        [7.9753e-06],\n",
      "        [7.2318e-06],\n",
      "        ...,\n",
      "        [7.3056e-06],\n",
      "        [7.2978e-06],\n",
      "        [8.5816e-06]], device='cuda:0', grad_fn=<SigmoidBackward>)\n",
      "tensor([8.2222e-06, 7.9753e-06, 7.2318e-06,  ..., 7.3056e-06, 7.2978e-06,\n",
      "        8.5816e-06], device='cuda:0', grad_fn=<SqueezeBackward0>)\n"
     ]
    }
   ],
   "source": [
    "for epoch in range(1):\n",
    "    y_pred = net(X_train)\n",
    "    print(y_pred)\n",
    "    print(torch.squeeze(y_pred))"
   ]
  },
  {
   "cell_type": "markdown",
   "id": "9471c799-83d0-46b5-9fe0-8324e0277719",
   "metadata": {},
   "source": [
    "## 持久化模型"
   ]
  },
  {
   "cell_type": "code",
   "execution_count": 69,
   "id": "9cee9feb-66ae-4f8d-aba4-9c887e52f8c3",
   "metadata": {},
   "outputs": [],
   "source": [
    "MODEL_PATH = \"./data/weather.pth\"\n",
    "torch.save(net, MODEL_PATH)"
   ]
  },
  {
   "cell_type": "markdown",
   "id": "189df5b0-f0bc-4a78-9560-f60dfd891e7c",
   "metadata": {},
   "source": [
    "## 加载模型"
   ]
  },
  {
   "cell_type": "code",
   "execution_count": 70,
   "id": "ddfab286-0b2c-4aa1-99bf-f8b1708536db",
   "metadata": {},
   "outputs": [],
   "source": [
    "net = torch.load(MODEL_PATH)"
   ]
  },
  {
   "cell_type": "code",
   "execution_count": 72,
   "id": "bfb4c1ed-78d4-4320-8a8c-56b6ef814215",
   "metadata": {},
   "outputs": [],
   "source": [
    "classes = [\"No rain\", \"Raining\"]\n",
    "y_pred = net(X_test)"
   ]
  },
  {
   "cell_type": "code",
   "execution_count": 73,
   "id": "cac99e97-2b85-460b-bc43-57590943f782",
   "metadata": {},
   "outputs": [
    {
     "data": {
      "text/plain": [
       "tensor([[0.3898],\n",
       "        [0.0647],\n",
       "        [0.1335],\n",
       "        ...,\n",
       "        [0.3351],\n",
       "        [0.0430],\n",
       "        [0.2635]], device='cuda:0', grad_fn=<SigmoidBackward>)"
      ]
     },
     "execution_count": 73,
     "metadata": {},
     "output_type": "execute_result"
    }
   ],
   "source": [
    "y_pred"
   ]
  },
  {
   "cell_type": "code",
   "execution_count": 76,
   "id": "42f41f99-c810-496d-baf6-e65d6b43fea5",
   "metadata": {},
   "outputs": [],
   "source": [
    "y_pred = y_pred.ge(0.5).view(-1).cpu()\n",
    "y_test = y_test.cpu()"
   ]
  },
  {
   "cell_type": "code",
   "execution_count": 77,
   "id": "da515676-f29a-4036-b6c3-98f184d6bd01",
   "metadata": {},
   "outputs": [
    {
     "name": "stdout",
     "output_type": "stream",
     "text": [
      "              precision    recall  f1-score   support\n",
      "\n",
      "     No rain       0.84      0.95      0.89      4979\n",
      "     Raining       0.74      0.42      0.53      1530\n",
      "\n",
      "    accuracy                           0.83      6509\n",
      "   macro avg       0.79      0.68      0.71      6509\n",
      "weighted avg       0.82      0.83      0.81      6509\n",
      "\n"
     ]
    }
   ],
   "source": [
    "# precision  精确度\n",
    "# recall     召回率\n",
    "# f1-score   F1分值\n",
    "# support    各个标签次数\n",
    "print(classification_report(y_test, y_pred, target_names=classes))"
   ]
  },
  {
   "cell_type": "code",
   "execution_count": 79,
   "id": "eb1ff910-a67d-4f1f-88cc-2a037eefba54",
   "metadata": {},
   "outputs": [
    {
     "data": {
      "text/plain": [
       "array([[4753,  226],\n",
       "       [ 895,  635]])"
      ]
     },
     "execution_count": 79,
     "metadata": {},
     "output_type": "execute_result"
    }
   ],
   "source": [
    "cm = confusion_matrix(y_test, y_pred)\n",
    "df_cm = pd.DataFrame(cm, index=classes, columns=classes)\n",
    "\n",
    "cm"
   ]
  },
  {
   "cell_type": "code",
   "execution_count": 80,
   "id": "d93b7105-4b50-4979-ba8f-02ce2da2fe3c",
   "metadata": {},
   "outputs": [
    {
     "data": {
      "text/html": [
       "<div>\n",
       "<style scoped>\n",
       "    .dataframe tbody tr th:only-of-type {\n",
       "        vertical-align: middle;\n",
       "    }\n",
       "\n",
       "    .dataframe tbody tr th {\n",
       "        vertical-align: top;\n",
       "    }\n",
       "\n",
       "    .dataframe thead th {\n",
       "        text-align: right;\n",
       "    }\n",
       "</style>\n",
       "<table border=\"1\" class=\"dataframe\">\n",
       "  <thead>\n",
       "    <tr style=\"text-align: right;\">\n",
       "      <th></th>\n",
       "      <th>No rain</th>\n",
       "      <th>Raining</th>\n",
       "    </tr>\n",
       "  </thead>\n",
       "  <tbody>\n",
       "    <tr>\n",
       "      <th>No rain</th>\n",
       "      <td>4753</td>\n",
       "      <td>226</td>\n",
       "    </tr>\n",
       "    <tr>\n",
       "      <th>Raining</th>\n",
       "      <td>895</td>\n",
       "      <td>635</td>\n",
       "    </tr>\n",
       "  </tbody>\n",
       "</table>\n",
       "</div>"
      ],
      "text/plain": [
       "         No rain  Raining\n",
       "No rain     4753      226\n",
       "Raining      895      635"
      ]
     },
     "execution_count": 80,
     "metadata": {},
     "output_type": "execute_result"
    }
   ],
   "source": [
    "df_cm"
   ]
  },
  {
   "cell_type": "code",
   "execution_count": 87,
   "id": "3f586558-f20e-4c92-953f-51db6534cf9e",
   "metadata": {},
   "outputs": [
    {
     "data": {
      "text/plain": [
       "Text(0.5, 45.5, 'Predicted label')"
      ]
     },
     "execution_count": 87,
     "metadata": {},
     "output_type": "execute_result"
    },
    {
     "data": {
      "image/png": "[encoded data removed]",
      "text/plain": [
       "<Figure size 864x576 with 2 Axes>"
      ]
     },
     "metadata": {
      "image/png": {
       "height": 512,
       "width": 725
      }
     },
     "output_type": "display_data"
    }
   ],
   "source": [
    "hmap = sns.heatmap(df_cm, annot=True, fmt=\"d\")\n",
    "hmap.yaxis.set_ticklabels(hmap.yaxis.get_ticklabels(), rotation=0, ha=\"right\")\n",
    "hmap.xaxis.set_ticklabels(hmap.xaxis.get_ticklabels(), rotation=30, ha=\"right\")\n",
    "plt.ylabel(\"True label\")\n",
    "plt.xlabel(\"Predicted label\")"
   ]
  },
  {
   "cell_type": "markdown",
   "id": "def94e41-fc18-4e68-a95d-86ae629513c1",
   "metadata": {},
   "source": [
    "## 预测"
   ]
  },
  {
   "cell_type": "code",
   "execution_count": 89,
   "id": "9bd66068-021b-4b53-9511-5b66b4a7e8be",
   "metadata": {},
   "outputs": [],
   "source": [
    "def will_it_rain(rainfall, humidity, rain_today, pressure):\n",
    "    t = torch.as_tensor([rainfall, humidity, rain_today, pressure]).float().to(device)\n",
    "    output = net(t)\n",
    "    return output.ge(0.5).item()"
   ]
  },
  {
   "cell_type": "code",
   "execution_count": 90,
   "id": "8b324b34-529e-429e-bcdd-aec006f55296",
   "metadata": {},
   "outputs": [
    {
     "data": {
      "text/plain": [
       "True"
      ]
     },
     "execution_count": 90,
     "metadata": {},
     "output_type": "execute_result"
    }
   ],
   "source": [
    "will_it_rain(rainfall=10, humidity=10, rain_today=True, pressure=2)"
   ]
  },
  {
   "cell_type": "code",
   "execution_count": null,
   "id": "fab9fa46-af0f-4455-bb93-62f71dee2097",
   "metadata": {},
   "outputs": [],
   "source": []
  }
 ],
 "metadata": {
  "kernelspec": {
   "display_name": "Python 3 (ipykernel)",
   "language": "python",
   "name": "python3"
  },
  "language_info": {
   "codemirror_mode": {
    "name": "ipython",
    "version": 3
   },
   "file_extension": ".py",
   "mimetype": "text/x-python",
   "name": "python",
   "nbconvert_exporter": "python",
   "pygments_lexer": "ipython3",
   "version": "3.8.11"
  }
 },
 "nbformat": 4,
 "nbformat_minor": 5
}
