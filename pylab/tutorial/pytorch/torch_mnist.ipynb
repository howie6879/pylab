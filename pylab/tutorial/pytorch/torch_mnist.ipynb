{
 "cells": [
  {
   "cell_type": "markdown",
   "id": "6abbbe52-3dd5-4b4d-bbc6-2824e00f0d17",
   "metadata": {},
   "source": [
    "## Pytorch 手写字识别\n",
    "\n",
    "通过对`MNIST`手写字识别来熟悉`Pytorch`用法，参考：\n",
    "\n",
    "- [Pytorch神经网络工具箱](http://www.feiguyunai.com/index.php/2019/09/11/pytorch-char03/)\n",
    "- [nndl_note: 识别手写字](https://www.howie6879.cn/p/nndl_note-%E8%AF%86%E5%88%AB%E6%89%8B%E5%86%99%E5%AD%97/)\n",
    "\n",
    "流程图：\n",
    "\n",
    "![FCRQrO](https://gitee.com/howie6879/oss/raw/master/uPic/FCRQrO.jpg)\n",
    "\n",
    "> 👉 图来源自上述：Pytorch神经网络工具箱"
   ]
  },
  {
   "cell_type": "code",
   "execution_count": 1,
   "id": "30186173-be5b-4998-8ed6-5b23786407c2",
   "metadata": {},
   "outputs": [
    {
     "name": "stdout",
     "output_type": "stream",
     "text": [
      "Python implementation: CPython\n",
      "Python version       : 3.8.11\n",
      "IPython version      : 7.27.0\n",
      "\n",
      "numpy: 1.21.2\n",
      "torch: 1.8.2\n",
      "\n"
     ]
    }
   ],
   "source": [
    "%load_ext watermark\n",
    "%watermark -v -p numpy,torch"
   ]
  },
  {
   "cell_type": "code",
   "execution_count": 5,
   "id": "35874c77-0fb8-4807-ad69-e7cd7b9e6a71",
   "metadata": {},
   "outputs": [],
   "source": [
    "# 可视化模块\n",
    "import matplotlib.pyplot as plt\n",
    "import numpy as np\n",
    "import torch\n",
    "\n",
    "# 导入nn及优化器\n",
    "import torch.nn.functional as F\n",
    "import torch.optim as optim\n",
    "from torch import nn\n",
    "from torch.utils import data\n",
    "from torch.utils.data import DataLoader\n",
    "from torchvision import transforms\n",
    "\n",
    "# 导入 pytorch 内置的 mnist 数据\n",
    "from torchvision.datasets import mnist\n",
    "\n",
    "%matplotlib inline"
   ]
  },
  {
   "cell_type": "code",
   "execution_count": 6,
   "id": "4ceeb1d1-9cbc-4e4d-83e9-b80c081ea509",
   "metadata": {},
   "outputs": [],
   "source": [
    "# 模块 torchvision 库包含了计算机视觉中一些常用的数据集, 模型架构以及图像变换方法"
   ]
  },
  {
   "cell_type": "markdown",
   "id": "e9fda58d-c54b-4c9e-9527-54ec7287526e",
   "metadata": {},
   "source": [
    "### 获取数据"
   ]
  },
  {
   "cell_type": "code",
   "execution_count": 55,
   "id": "375bd619-66c6-480e-a6b1-2a57fc70ad56",
   "metadata": {},
   "outputs": [],
   "source": [
    "# 定义一些超参数\n",
    "\n",
    "# 训练测试集批量大小\n",
    "train_batch_size = 64\n",
    "test_batch_size = 128\n",
    "\n",
    "learning_rate = 0.01\n",
    "num_epoches = 20\n",
    "lr = 0.01\n",
    "momentum = 0.5"
   ]
  },
  {
   "cell_type": "code",
   "execution_count": 8,
   "id": "658b06d1-a246-451d-87ae-eef8f790a760",
   "metadata": {
    "scrolled": true,
    "tags": []
   },
   "outputs": [],
   "source": [
    "# 定义预处理函数，这些预处理依次放在Compose函数中\n",
    "# ToTensor()能够把灰度范围从0-255变换到0-1之间\n",
    "# 后面的transform.Normalize()则把0-1变换到(-1,1)\n",
    "transform = transforms.Compose(\n",
    "    [transforms.ToTensor(), transforms.Normalize([0.5], [0.5])]\n",
    ")\n",
    "# 下载数据，并对数据进行预处理\n",
    "train_dataset = mnist.MNIST(\"./data\", train=True, transform=transform, download=True)\n",
    "test_dataset = mnist.MNIST(\"./data\", train=False, transform=transform)\n",
    "# dataloader是一个可迭代对象，可以使用迭代器一样使用。\n",
    "train_loader = DataLoader(train_dataset, batch_size=train_batch_size, shuffle=True)\n",
    "test_loader = DataLoader(test_dataset, batch_size=test_batch_size, shuffle=False)"
   ]
  },
  {
   "cell_type": "code",
   "execution_count": null,
   "id": "54304078-ba01-4d38-8f2a-cd1bae6e8050",
   "metadata": {},
   "outputs": [],
   "source": []
  },
  {
   "cell_type": "markdown",
   "id": "d45e3059-7571-4c3c-b625-711aa6996c86",
   "metadata": {},
   "source": [
    "### utils.data 简介\n",
    "\n",
    "允许开发者自定义数据集"
   ]
  },
  {
   "cell_type": "code",
   "execution_count": 5,
   "id": "bc372c44-d96c-4d4f-b788-7f9352375d88",
   "metadata": {},
   "outputs": [],
   "source": [
    "# 继承Dataset\n",
    "class TestDataset(data.Dataset):\n",
    "    def __init__(self):\n",
    "        self.Data = np.asarray(\n",
    "            [[1, 2], [3, 4], [2, 1], [3, 4], [4, 5]]\n",
    "        )  # 一些由2维向量表示的数据集\n",
    "        self.Label = np.asarray([0, 1, 0, 1, 2])  # 这是数据集对应的标签\n",
    "\n",
    "    def __getitem__(self, index):\n",
    "        # 把numpy转换为Tensor\n",
    "        txt = torch.from_numpy(self.Data[index])\n",
    "        label = torch.tensor(self.Label[index])\n",
    "        return txt, label\n",
    "\n",
    "    def __len__(self):\n",
    "        return len(self.Data)"
   ]
  },
  {
   "cell_type": "code",
   "execution_count": 6,
   "id": "a6f18396-d289-4482-8162-fb080f4bd81f",
   "metadata": {},
   "outputs": [
    {
     "data": {
      "text/plain": [
       "<__main__.TestDataset at 0x7fc16f076110>"
      ]
     },
     "execution_count": 6,
     "metadata": {},
     "output_type": "execute_result"
    }
   ],
   "source": [
    "Test = TestDataset()\n",
    "Test"
   ]
  },
  {
   "cell_type": "code",
   "execution_count": 7,
   "id": "4d743886-f835-4e02-9060-ca8b0d64524e",
   "metadata": {},
   "outputs": [
    {
     "data": {
      "text/plain": [
       "(tensor([1, 2]), tensor(0))"
      ]
     },
     "execution_count": 7,
     "metadata": {},
     "output_type": "execute_result"
    }
   ],
   "source": [
    "Test[0]"
   ]
  },
  {
   "cell_type": "code",
   "execution_count": 8,
   "id": "7af72a2e-4d43-45ca-92b6-43f4e883a1d2",
   "metadata": {},
   "outputs": [
    {
     "name": "stdout",
     "output_type": "stream",
     "text": [
      "i: 0\n",
      "data: tensor([[1, 2],\n",
      "        [3, 4],\n",
      "        [2, 1]])\n",
      "Label: tensor([0, 1, 0])\n",
      "i: 1\n",
      "data: tensor([[3, 4],\n",
      "        [4, 5]])\n",
      "Label: tensor([1, 2])\n"
     ]
    }
   ],
   "source": [
    "# 以上数据以tuple返回，每次只返回一个样本\n",
    "# 如果要对 Dataset 做一些批量提取、随机化等操作\n",
    "# 此时可以引入 DataLoader\n",
    "\n",
    "test_loader_demo = data.DataLoader(Test, batch_size=3, shuffle=False, num_workers=2)\n",
    "for i, traindata in enumerate(test_loader_demo):\n",
    "    print(\"i:\", i)\n",
    "    Data, Label = traindata\n",
    "    print(\"data:\", Data)\n",
    "    print(\"Label:\", Label)"
   ]
  },
  {
   "cell_type": "code",
   "execution_count": null,
   "id": "4c7cb7e2-0d60-4acf-b49c-da649ad5111c",
   "metadata": {},
   "outputs": [],
   "source": []
  },
  {
   "cell_type": "markdown",
   "id": "48315748-3643-4691-ac0f-6ad62207a4dd",
   "metadata": {},
   "source": [
    "### 数据可视化"
   ]
  },
  {
   "cell_type": "code",
   "execution_count": 19,
   "id": "cdf6d9df-1507-49aa-8df6-5f38f6c32111",
   "metadata": {
    "scrolled": true,
    "tags": []
   },
   "outputs": [
    {
     "data": {
      "text/plain": [
       "(0,\n",
       " (tensor([[[[-1., -1., -1.,  ..., -1., -1., -1.],\n",
       "            [-1., -1., -1.,  ..., -1., -1., -1.],\n",
       "            [-1., -1., -1.,  ..., -1., -1., -1.],\n",
       "            ...,\n",
       "            [-1., -1., -1.,  ..., -1., -1., -1.],\n",
       "            [-1., -1., -1.,  ..., -1., -1., -1.],\n",
       "            [-1., -1., -1.,  ..., -1., -1., -1.]]],\n",
       "  \n",
       "  \n",
       "          [[[-1., -1., -1.,  ..., -1., -1., -1.],\n",
       "            [-1., -1., -1.,  ..., -1., -1., -1.],\n",
       "            [-1., -1., -1.,  ..., -1., -1., -1.],\n",
       "            ...,\n",
       "            [-1., -1., -1.,  ..., -1., -1., -1.],\n",
       "            [-1., -1., -1.,  ..., -1., -1., -1.],\n",
       "            [-1., -1., -1.,  ..., -1., -1., -1.]]],\n",
       "  \n",
       "  \n",
       "          [[[-1., -1., -1.,  ..., -1., -1., -1.],\n",
       "            [-1., -1., -1.,  ..., -1., -1., -1.],\n",
       "            [-1., -1., -1.,  ..., -1., -1., -1.],\n",
       "            ...,\n",
       "            [-1., -1., -1.,  ..., -1., -1., -1.],\n",
       "            [-1., -1., -1.,  ..., -1., -1., -1.],\n",
       "            [-1., -1., -1.,  ..., -1., -1., -1.]]],\n",
       "  \n",
       "  \n",
       "          ...,\n",
       "  \n",
       "  \n",
       "          [[[-1., -1., -1.,  ..., -1., -1., -1.],\n",
       "            [-1., -1., -1.,  ..., -1., -1., -1.],\n",
       "            [-1., -1., -1.,  ..., -1., -1., -1.],\n",
       "            ...,\n",
       "            [-1., -1., -1.,  ..., -1., -1., -1.],\n",
       "            [-1., -1., -1.,  ..., -1., -1., -1.],\n",
       "            [-1., -1., -1.,  ..., -1., -1., -1.]]],\n",
       "  \n",
       "  \n",
       "          [[[-1., -1., -1.,  ..., -1., -1., -1.],\n",
       "            [-1., -1., -1.,  ..., -1., -1., -1.],\n",
       "            [-1., -1., -1.,  ..., -1., -1., -1.],\n",
       "            ...,\n",
       "            [-1., -1., -1.,  ..., -1., -1., -1.],\n",
       "            [-1., -1., -1.,  ..., -1., -1., -1.],\n",
       "            [-1., -1., -1.,  ..., -1., -1., -1.]]],\n",
       "  \n",
       "  \n",
       "          [[[-1., -1., -1.,  ..., -1., -1., -1.],\n",
       "            [-1., -1., -1.,  ..., -1., -1., -1.],\n",
       "            [-1., -1., -1.,  ..., -1., -1., -1.],\n",
       "            ...,\n",
       "            [-1., -1., -1.,  ..., -1., -1., -1.],\n",
       "            [-1., -1., -1.,  ..., -1., -1., -1.],\n",
       "            [-1., -1., -1.,  ..., -1., -1., -1.]]]]),\n",
       "  tensor([7, 2, 1, 0, 4, 1, 4, 9, 5, 9, 0, 6, 9, 0, 1, 5, 9, 7, 3, 4, 9, 6, 6, 5,\n",
       "          4, 0, 7, 4, 0, 1, 3, 1, 3, 4, 7, 2, 7, 1, 2, 1, 1, 7, 4, 2, 3, 5, 1, 2,\n",
       "          4, 4, 6, 3, 5, 5, 6, 0, 4, 1, 9, 5, 7, 8, 9, 3, 7, 4, 6, 4, 3, 0, 7, 0,\n",
       "          2, 9, 1, 7, 3, 2, 9, 7, 7, 6, 2, 7, 8, 4, 7, 3, 6, 1, 3, 6, 9, 3, 1, 4,\n",
       "          1, 7, 6, 9, 6, 0, 5, 4, 9, 9, 2, 1, 9, 4, 8, 7, 3, 9, 7, 4, 4, 4, 9, 2,\n",
       "          5, 4, 7, 6, 7, 9, 0, 5])))"
      ]
     },
     "execution_count": 19,
     "metadata": {},
     "output_type": "execute_result"
    }
   ],
   "source": [
    "examples = enumerate(test_loader)\n",
    "batch_idx, (example_data, example_targets) = next(examples)\n",
    "\n",
    "batch_idx, (example_data, example_targets)"
   ]
  },
  {
   "cell_type": "code",
   "execution_count": 32,
   "id": "6d459366-c405-4313-bd33-39ebb0596149",
   "metadata": {},
   "outputs": [
    {
     "data": {
      "text/plain": [
       "torch.Size([28, 28])"
      ]
     },
     "execution_count": 32,
     "metadata": {},
     "output_type": "execute_result"
    }
   ],
   "source": [
    "example_data[0][0].shape"
   ]
  },
  {
   "cell_type": "code",
   "execution_count": 20,
   "id": "f9b6d00a-b429-4d2b-b4b1-1125a4c9e471",
   "metadata": {},
   "outputs": [
    {
     "data": {
      "image/png": "[encoded data removed]",
      "text/plain": [
       "<Figure size 432x288 with 6 Axes>"
      ]
     },
     "metadata": {},
     "output_type": "display_data"
    }
   ],
   "source": [
    "fig = plt.figure()\n",
    "for i in range(6):\n",
    "    plt.subplot(2, 3, i + 1)\n",
    "    plt.tight_layout()\n",
    "    plt.imshow(example_data[i][0], cmap=\"gray\", interpolation=\"none\")\n",
    "    plt.title(\"Ground Truth: {}\".format(example_targets[i]))\n",
    "    plt.xticks([])\n",
    "    plt.yticks([])"
   ]
  },
  {
   "cell_type": "code",
   "execution_count": 21,
   "id": "8a6b5ceb-4b89-4879-a8b8-0a3935210050",
   "metadata": {},
   "outputs": [
    {
     "data": {
      "text/plain": [
       "torch.Size([28, 28])"
      ]
     },
     "execution_count": 21,
     "metadata": {},
     "output_type": "execute_result"
    }
   ],
   "source": [
    "example_data[0][0].shape"
   ]
  },
  {
   "cell_type": "markdown",
   "id": "46f2fe80-75b2-40ac-8d12-96621c2a92ff",
   "metadata": {},
   "source": [
    "### 构建模型\n",
    "\n",
    "通过全连接神经网络和卷积神经网络构建模型来熟悉Pytorch的模型构建方式\n",
    "\n",
    "相关知识点参考：\n",
    "- [PyTorch的nn.Linear详解](https://blog.csdn.net/qq_42079689/article/details/102873766)"
   ]
  },
  {
   "cell_type": "code",
   "execution_count": null,
   "id": "f0a75674-a3b3-4885-ac26-cb269448d72b",
   "metadata": {},
   "outputs": [],
   "source": []
  },
  {
   "cell_type": "code",
   "execution_count": null,
   "id": "ff72b507-00f2-4396-ab27-1215461335ed",
   "metadata": {},
   "outputs": [],
   "source": []
  },
  {
   "cell_type": "markdown",
   "id": "c69fa05a-9d73-42c3-869b-622d99b988c2",
   "metadata": {},
   "source": [
    "#### 全连接神经网络"
   ]
  },
  {
   "cell_type": "code",
   "execution_count": 34,
   "id": "1fb6b751-e223-45c8-a34b-a0319b45e54f",
   "metadata": {},
   "outputs": [],
   "source": [
    "class Net01(nn.Module):\n",
    "    \"\"\"\n",
    "    使用sequential构建网络，Sequential()函数的功能是将网络的层组合到一起\n",
    "    \"\"\"\n",
    "\n",
    "    def __init__(self, in_dim, n_hidden_1, n_hidden_2, out_dim):\n",
    "        super(Net01, self).__init__()\n",
    "        self.layer1 = nn.Sequential(\n",
    "            nn.Linear(in_dim, n_hidden_1), nn.BatchNorm1d(n_hidden_1)\n",
    "        )\n",
    "        self.layer2 = nn.Sequential(\n",
    "            nn.Linear(n_hidden_1, n_hidden_2), nn.BatchNorm1d(n_hidden_2)\n",
    "        )\n",
    "        self.layer3 = nn.Sequential(nn.Linear(n_hidden_2, out_dim))\n",
    "\n",
    "    def forward(self, x):\n",
    "        x = F.relu(self.layer1(x))\n",
    "        x = F.relu(self.layer2(x))\n",
    "        x = self.layer3(x)\n",
    "        return x"
   ]
  },
  {
   "cell_type": "code",
   "execution_count": 35,
   "id": "973dbf08-7adf-4151-9b6e-125854589227",
   "metadata": {},
   "outputs": [
    {
     "name": "stdout",
     "output_type": "stream",
     "text": [
      "cuda:0\n"
     ]
    }
   ],
   "source": [
    "# 检测是否有可用的GPU，有则使用，否则使用CPU\n",
    "device = torch.device(\"cuda:0\" if torch.cuda.is_available() else \"cpu\")\n",
    "print(device)\n",
    "# 实例化网络\n",
    "model = Net01(28 * 28, 300, 100, 10)\n",
    "model.to(device)\n",
    "\n",
    "# 定义损失函数和优化器\n",
    "criterion = nn.CrossEntropyLoss()\n",
    "optimizer = optim.SGD(model.parameters(), lr=lr, momentum=momentum)"
   ]
  },
  {
   "cell_type": "code",
   "execution_count": 43,
   "id": "74192230-eb75-4852-951d-e2df0e8ec801",
   "metadata": {
    "scrolled": true,
    "tags": []
   },
   "outputs": [
    {
     "data": {
      "text/plain": [
       "{'params': [Parameter containing:\n",
       "  tensor([[ 0.0221,  0.0186, -0.0016,  ..., -0.0014, -0.0198, -0.0271],\n",
       "          [ 0.0283, -0.0074, -0.0182,  ...,  0.0322,  0.0202, -0.0063],\n",
       "          [-0.0143, -0.0295, -0.0233,  ...,  0.0191, -0.0197, -0.0168],\n",
       "          ...,\n",
       "          [-0.0080,  0.0119,  0.0355,  ...,  0.0123,  0.0121,  0.0331],\n",
       "          [ 0.0107,  0.0025,  0.0268,  ..., -0.0027,  0.0285,  0.0058],\n",
       "          [-0.0002, -0.0048, -0.0310,  ...,  0.0157,  0.0222,  0.0042]],\n",
       "         device='cuda:0', requires_grad=True),\n",
       "  Parameter containing:\n",
       "  tensor([ 0.0276,  0.0162,  0.0080, -0.0228, -0.0232, -0.0254, -0.0020,  0.0018,\n",
       "           0.0240,  0.0353, -0.0262, -0.0096, -0.0109, -0.0110,  0.0288, -0.0037,\n",
       "           0.0051, -0.0282,  0.0239, -0.0218,  0.0022,  0.0342, -0.0332, -0.0191,\n",
       "          -0.0237,  0.0292, -0.0135, -0.0182, -0.0126,  0.0217, -0.0222,  0.0022,\n",
       "           0.0257,  0.0005,  0.0298, -0.0031, -0.0124, -0.0319,  0.0163, -0.0241,\n",
       "          -0.0260,  0.0226, -0.0224,  0.0015, -0.0283,  0.0022,  0.0223, -0.0141,\n",
       "          -0.0079, -0.0049,  0.0109, -0.0301, -0.0052, -0.0060,  0.0145,  0.0340,\n",
       "           0.0193,  0.0215, -0.0221,  0.0099, -0.0332,  0.0305,  0.0300, -0.0241,\n",
       "          -0.0298, -0.0271,  0.0356, -0.0192,  0.0265,  0.0288, -0.0132,  0.0295,\n",
       "           0.0193, -0.0222,  0.0297,  0.0001,  0.0003, -0.0302,  0.0075, -0.0276,\n",
       "          -0.0081,  0.0325,  0.0265,  0.0086, -0.0239,  0.0138, -0.0059, -0.0181,\n",
       "          -0.0299, -0.0341,  0.0171, -0.0032,  0.0071, -0.0056, -0.0266, -0.0210,\n",
       "           0.0043,  0.0099, -0.0107, -0.0219,  0.0262, -0.0136, -0.0106, -0.0249,\n",
       "           0.0072, -0.0249,  0.0284,  0.0212,  0.0054,  0.0315, -0.0028,  0.0136,\n",
       "           0.0209,  0.0228,  0.0284, -0.0281, -0.0199,  0.0075, -0.0237,  0.0105,\n",
       "          -0.0160,  0.0173, -0.0297,  0.0067,  0.0175, -0.0091, -0.0032,  0.0078,\n",
       "           0.0145, -0.0039,  0.0337,  0.0147,  0.0069,  0.0118,  0.0146,  0.0180,\n",
       "           0.0005,  0.0208,  0.0082, -0.0295, -0.0076,  0.0017, -0.0311,  0.0192,\n",
       "          -0.0247,  0.0166,  0.0164,  0.0008, -0.0341,  0.0072, -0.0208,  0.0303,\n",
       "          -0.0027, -0.0269,  0.0093, -0.0284, -0.0112,  0.0084, -0.0105,  0.0230,\n",
       "          -0.0045,  0.0299, -0.0206, -0.0085, -0.0289, -0.0084, -0.0048,  0.0320,\n",
       "           0.0340, -0.0272, -0.0146,  0.0119,  0.0144, -0.0106,  0.0235,  0.0200,\n",
       "           0.0266,  0.0348,  0.0069, -0.0126, -0.0077,  0.0352,  0.0105, -0.0259,\n",
       "           0.0181, -0.0015,  0.0198, -0.0211, -0.0144,  0.0128,  0.0009, -0.0139,\n",
       "          -0.0135, -0.0175,  0.0331,  0.0208, -0.0192, -0.0058, -0.0281,  0.0192,\n",
       "          -0.0284, -0.0289, -0.0175,  0.0065,  0.0285,  0.0113,  0.0289,  0.0053,\n",
       "          -0.0133,  0.0097,  0.0112,  0.0307, -0.0173, -0.0227,  0.0046, -0.0140,\n",
       "          -0.0100,  0.0322,  0.0350, -0.0078,  0.0193, -0.0072,  0.0214,  0.0315,\n",
       "           0.0302,  0.0004, -0.0287,  0.0226, -0.0078, -0.0131,  0.0050, -0.0097,\n",
       "           0.0251, -0.0333, -0.0334,  0.0166, -0.0284, -0.0120,  0.0190, -0.0223,\n",
       "           0.0083,  0.0315, -0.0329, -0.0234, -0.0173,  0.0257, -0.0039, -0.0102,\n",
       "           0.0215, -0.0131, -0.0342, -0.0320, -0.0094,  0.0127, -0.0316, -0.0004,\n",
       "          -0.0304, -0.0063,  0.0110, -0.0042,  0.0090, -0.0292,  0.0305, -0.0116,\n",
       "           0.0051,  0.0016, -0.0120, -0.0041, -0.0141, -0.0343, -0.0016,  0.0019,\n",
       "          -0.0016, -0.0221,  0.0066, -0.0221,  0.0075, -0.0228, -0.0001, -0.0331,\n",
       "           0.0152, -0.0135, -0.0260, -0.0342,  0.0324,  0.0067, -0.0299,  0.0029,\n",
       "           0.0068,  0.0025, -0.0294, -0.0330,  0.0242,  0.0092,  0.0069, -0.0253,\n",
       "          -0.0200, -0.0069,  0.0133, -0.0336], device='cuda:0',\n",
       "         requires_grad=True),\n",
       "  Parameter containing:\n",
       "  tensor([1., 1., 1., 1., 1., 1., 1., 1., 1., 1., 1., 1., 1., 1., 1., 1., 1., 1.,\n",
       "          1., 1., 1., 1., 1., 1., 1., 1., 1., 1., 1., 1., 1., 1., 1., 1., 1., 1.,\n",
       "          1., 1., 1., 1., 1., 1., 1., 1., 1., 1., 1., 1., 1., 1., 1., 1., 1., 1.,\n",
       "          1., 1., 1., 1., 1., 1., 1., 1., 1., 1., 1., 1., 1., 1., 1., 1., 1., 1.,\n",
       "          1., 1., 1., 1., 1., 1., 1., 1., 1., 1., 1., 1., 1., 1., 1., 1., 1., 1.,\n",
       "          1., 1., 1., 1., 1., 1., 1., 1., 1., 1., 1., 1., 1., 1., 1., 1., 1., 1.,\n",
       "          1., 1., 1., 1., 1., 1., 1., 1., 1., 1., 1., 1., 1., 1., 1., 1., 1., 1.,\n",
       "          1., 1., 1., 1., 1., 1., 1., 1., 1., 1., 1., 1., 1., 1., 1., 1., 1., 1.,\n",
       "          1., 1., 1., 1., 1., 1., 1., 1., 1., 1., 1., 1., 1., 1., 1., 1., 1., 1.,\n",
       "          1., 1., 1., 1., 1., 1., 1., 1., 1., 1., 1., 1., 1., 1., 1., 1., 1., 1.,\n",
       "          1., 1., 1., 1., 1., 1., 1., 1., 1., 1., 1., 1., 1., 1., 1., 1., 1., 1.,\n",
       "          1., 1., 1., 1., 1., 1., 1., 1., 1., 1., 1., 1., 1., 1., 1., 1., 1., 1.,\n",
       "          1., 1., 1., 1., 1., 1., 1., 1., 1., 1., 1., 1., 1., 1., 1., 1., 1., 1.,\n",
       "          1., 1., 1., 1., 1., 1., 1., 1., 1., 1., 1., 1., 1., 1., 1., 1., 1., 1.,\n",
       "          1., 1., 1., 1., 1., 1., 1., 1., 1., 1., 1., 1., 1., 1., 1., 1., 1., 1.,\n",
       "          1., 1., 1., 1., 1., 1., 1., 1., 1., 1., 1., 1., 1., 1., 1., 1., 1., 1.,\n",
       "          1., 1., 1., 1., 1., 1., 1., 1., 1., 1., 1., 1.], device='cuda:0',\n",
       "         requires_grad=True),\n",
       "  Parameter containing:\n",
       "  tensor([0., 0., 0., 0., 0., 0., 0., 0., 0., 0., 0., 0., 0., 0., 0., 0., 0., 0., 0., 0., 0., 0., 0., 0.,\n",
       "          0., 0., 0., 0., 0., 0., 0., 0., 0., 0., 0., 0., 0., 0., 0., 0., 0., 0., 0., 0., 0., 0., 0., 0.,\n",
       "          0., 0., 0., 0., 0., 0., 0., 0., 0., 0., 0., 0., 0., 0., 0., 0., 0., 0., 0., 0., 0., 0., 0., 0.,\n",
       "          0., 0., 0., 0., 0., 0., 0., 0., 0., 0., 0., 0., 0., 0., 0., 0., 0., 0., 0., 0., 0., 0., 0., 0.,\n",
       "          0., 0., 0., 0., 0., 0., 0., 0., 0., 0., 0., 0., 0., 0., 0., 0., 0., 0., 0., 0., 0., 0., 0., 0.,\n",
       "          0., 0., 0., 0., 0., 0., 0., 0., 0., 0., 0., 0., 0., 0., 0., 0., 0., 0., 0., 0., 0., 0., 0., 0.,\n",
       "          0., 0., 0., 0., 0., 0., 0., 0., 0., 0., 0., 0., 0., 0., 0., 0., 0., 0., 0., 0., 0., 0., 0., 0.,\n",
       "          0., 0., 0., 0., 0., 0., 0., 0., 0., 0., 0., 0., 0., 0., 0., 0., 0., 0., 0., 0., 0., 0., 0., 0.,\n",
       "          0., 0., 0., 0., 0., 0., 0., 0., 0., 0., 0., 0., 0., 0., 0., 0., 0., 0., 0., 0., 0., 0., 0., 0.,\n",
       "          0., 0., 0., 0., 0., 0., 0., 0., 0., 0., 0., 0., 0., 0., 0., 0., 0., 0., 0., 0., 0., 0., 0., 0.,\n",
       "          0., 0., 0., 0., 0., 0., 0., 0., 0., 0., 0., 0., 0., 0., 0., 0., 0., 0., 0., 0., 0., 0., 0., 0.,\n",
       "          0., 0., 0., 0., 0., 0., 0., 0., 0., 0., 0., 0., 0., 0., 0., 0., 0., 0., 0., 0., 0., 0., 0., 0.,\n",
       "          0., 0., 0., 0., 0., 0., 0., 0., 0., 0., 0., 0.], device='cuda:0',\n",
       "         requires_grad=True),\n",
       "  Parameter containing:\n",
       "  tensor([[-0.0350, -0.0025, -0.0471,  ...,  0.0189,  0.0195, -0.0040],\n",
       "          [ 0.0349, -0.0373,  0.0133,  ...,  0.0370, -0.0098, -0.0287],\n",
       "          [ 0.0198, -0.0408,  0.0510,  ...,  0.0333, -0.0021, -0.0437],\n",
       "          ...,\n",
       "          [ 0.0331,  0.0346, -0.0444,  ..., -0.0209,  0.0031,  0.0207],\n",
       "          [-0.0196,  0.0246,  0.0508,  ...,  0.0331, -0.0132,  0.0249],\n",
       "          [ 0.0224,  0.0479, -0.0344,  ..., -0.0317,  0.0560,  0.0022]],\n",
       "         device='cuda:0', requires_grad=True),\n",
       "  Parameter containing:\n",
       "  tensor([ 0.0247,  0.0185,  0.0264, -0.0306, -0.0464, -0.0251, -0.0170,  0.0368,\n",
       "          -0.0042,  0.0532, -0.0445, -0.0092,  0.0329,  0.0511,  0.0134,  0.0444,\n",
       "           0.0147, -0.0110,  0.0243, -0.0212,  0.0329, -0.0236, -0.0030, -0.0148,\n",
       "           0.0020,  0.0221,  0.0572, -0.0501, -0.0310,  0.0343,  0.0388, -0.0478,\n",
       "           0.0350,  0.0111, -0.0045,  0.0302,  0.0556, -0.0147, -0.0008, -0.0073,\n",
       "           0.0494,  0.0126, -0.0450, -0.0250, -0.0340, -0.0076,  0.0228,  0.0234,\n",
       "          -0.0411, -0.0526, -0.0355, -0.0215,  0.0393,  0.0235,  0.0204,  0.0326,\n",
       "           0.0420, -0.0086, -0.0019, -0.0408,  0.0340, -0.0498, -0.0476,  0.0491,\n",
       "          -0.0399, -0.0339,  0.0015,  0.0375,  0.0212, -0.0576,  0.0505, -0.0043,\n",
       "          -0.0239,  0.0141, -0.0396, -0.0110, -0.0486,  0.0499, -0.0035, -0.0248,\n",
       "          -0.0028, -0.0106,  0.0500,  0.0471, -0.0333,  0.0271,  0.0134, -0.0412,\n",
       "          -0.0156, -0.0542, -0.0520,  0.0063, -0.0465,  0.0398, -0.0378, -0.0562,\n",
       "          -0.0059, -0.0174,  0.0299,  0.0535], device='cuda:0',\n",
       "         requires_grad=True),\n",
       "  Parameter containing:\n",
       "  tensor([1., 1., 1., 1., 1., 1., 1., 1., 1., 1., 1., 1., 1., 1., 1., 1., 1., 1.,\n",
       "          1., 1., 1., 1., 1., 1., 1., 1., 1., 1., 1., 1., 1., 1., 1., 1., 1., 1.,\n",
       "          1., 1., 1., 1., 1., 1., 1., 1., 1., 1., 1., 1., 1., 1., 1., 1., 1., 1.,\n",
       "          1., 1., 1., 1., 1., 1., 1., 1., 1., 1., 1., 1., 1., 1., 1., 1., 1., 1.,\n",
       "          1., 1., 1., 1., 1., 1., 1., 1., 1., 1., 1., 1., 1., 1., 1., 1., 1., 1.,\n",
       "          1., 1., 1., 1., 1., 1., 1., 1., 1., 1.], device='cuda:0',\n",
       "         requires_grad=True),\n",
       "  Parameter containing:\n",
       "  tensor([0., 0., 0., 0., 0., 0., 0., 0., 0., 0., 0., 0., 0., 0., 0., 0., 0., 0., 0., 0., 0., 0., 0., 0.,\n",
       "          0., 0., 0., 0., 0., 0., 0., 0., 0., 0., 0., 0., 0., 0., 0., 0., 0., 0., 0., 0., 0., 0., 0., 0.,\n",
       "          0., 0., 0., 0., 0., 0., 0., 0., 0., 0., 0., 0., 0., 0., 0., 0., 0., 0., 0., 0., 0., 0., 0., 0.,\n",
       "          0., 0., 0., 0., 0., 0., 0., 0., 0., 0., 0., 0., 0., 0., 0., 0., 0., 0., 0., 0., 0., 0., 0., 0.,\n",
       "          0., 0., 0., 0.], device='cuda:0', requires_grad=True),\n",
       "  Parameter containing:\n",
       "  tensor([[ 8.5927e-02,  3.3530e-02,  9.9910e-02,  5.1945e-02, -8.0827e-03,\n",
       "           -5.8918e-02, -1.2642e-03,  8.7842e-02,  5.4661e-03,  9.6013e-02,\n",
       "            5.8849e-02, -9.9954e-02, -9.8924e-02, -4.7388e-02, -2.9765e-02,\n",
       "            1.9113e-02,  4.5820e-02,  4.7284e-02,  9.5073e-02, -8.9278e-03,\n",
       "           -9.1102e-02,  1.1712e-02,  3.8796e-02,  6.4398e-03, -2.6528e-02,\n",
       "           -1.6931e-02,  9.1411e-04,  1.6759e-02,  9.1182e-02, -9.9877e-02,\n",
       "            3.9113e-02,  8.3411e-02,  1.5728e-02,  9.7716e-02,  8.8533e-02,\n",
       "           -7.8098e-02,  5.7127e-02, -2.3788e-03,  2.9090e-03,  1.4469e-02,\n",
       "           -5.3395e-02, -7.9232e-03,  4.5785e-02,  7.5881e-02, -9.4626e-02,\n",
       "           -6.0954e-02,  5.4447e-02, -7.2478e-02,  2.8958e-04,  2.4499e-02,\n",
       "           -9.4635e-02, -6.7757e-02,  6.3246e-02, -9.6397e-02, -6.8552e-02,\n",
       "           -4.6035e-02, -1.6499e-02, -8.2847e-02,  9.9242e-02, -7.4198e-02,\n",
       "           -2.4248e-02,  2.5519e-02,  5.7017e-02, -5.0611e-02,  6.8663e-02,\n",
       "           -5.4431e-03, -7.6003e-02,  6.9080e-02, -6.6094e-02,  2.3692e-03,\n",
       "           -4.5311e-02,  5.2610e-02, -1.7925e-02, -4.2562e-02, -8.4436e-02,\n",
       "           -2.8422e-02,  8.0528e-02,  4.0971e-03, -4.1043e-02,  3.1416e-02,\n",
       "           -5.4309e-02,  7.1739e-02,  6.2366e-03, -2.8941e-02,  1.8269e-02,\n",
       "            5.7426e-02,  7.4996e-02, -8.4782e-02, -8.5603e-02, -6.3437e-02,\n",
       "           -3.2766e-02, -4.8926e-02, -3.5739e-02, -5.4491e-02, -6.6873e-02,\n",
       "            9.2010e-02,  2.4821e-02,  4.2641e-02,  2.3357e-02, -2.0416e-02],\n",
       "          [-9.3513e-02,  6.0839e-02, -6.1923e-02, -1.1611e-02,  2.9809e-02,\n",
       "           -7.0427e-02, -2.0640e-02, -3.3379e-02, -8.7970e-02,  1.7142e-03,\n",
       "            5.4331e-02, -8.7093e-02, -6.1281e-02, -9.1849e-02, -2.0619e-02,\n",
       "           -8.9250e-02, -6.5736e-02,  2.5053e-02, -9.0956e-02, -6.6496e-02,\n",
       "           -2.5574e-02,  2.1126e-02, -2.0185e-02, -6.0708e-02,  3.3140e-02,\n",
       "            7.3464e-02, -9.4442e-02, -7.1667e-02, -4.7004e-02, -9.3867e-02,\n",
       "            6.3102e-02,  7.6903e-02,  9.5954e-02,  3.9723e-02,  6.3836e-02,\n",
       "           -2.4874e-02,  3.1954e-02, -4.4403e-04,  7.5361e-02, -4.2248e-02,\n",
       "            6.5255e-03, -9.7096e-02, -3.1952e-02,  7.4796e-02, -9.3292e-02,\n",
       "            7.4090e-02,  5.9648e-02, -4.3460e-02,  5.5514e-02,  8.6285e-02,\n",
       "            5.5483e-02,  1.5990e-02, -9.4925e-02,  1.2591e-02,  3.3592e-02,\n",
       "            9.7087e-02, -9.2724e-02, -5.8137e-02, -8.5710e-02, -1.4461e-02,\n",
       "           -6.7536e-02, -6.6105e-02, -8.5332e-02,  4.4754e-03, -2.1889e-02,\n",
       "            5.3006e-02,  6.2618e-02, -6.7994e-02, -8.5455e-02,  9.9506e-02,\n",
       "            6.9847e-02,  7.7615e-02,  4.3949e-04,  9.8398e-02,  9.6863e-02,\n",
       "           -9.0475e-02,  6.0731e-02, -8.4762e-02, -9.3131e-02, -3.6057e-02,\n",
       "            9.0634e-02,  5.1567e-03,  5.5085e-02, -4.1077e-02, -4.6234e-02,\n",
       "           -5.4000e-02,  7.8747e-02, -3.8650e-02,  9.1691e-02,  3.4759e-02,\n",
       "           -1.0807e-02,  2.0779e-02, -3.9858e-02, -9.5518e-02, -4.4341e-02,\n",
       "           -3.1317e-02, -1.3496e-02, -6.3741e-03, -2.7844e-02,  6.8398e-02],\n",
       "          [-8.6919e-02, -3.7036e-02,  8.1075e-02,  7.1031e-02,  4.0959e-02,\n",
       "            8.9406e-02,  4.7816e-02, -1.7602e-02,  2.7838e-02, -5.8300e-02,\n",
       "           -3.6085e-02, -9.5525e-02,  2.3045e-02, -5.8106e-02, -1.4207e-02,\n",
       "           -5.1873e-02, -8.5192e-03,  6.9097e-02,  9.1307e-02, -3.2059e-02,\n",
       "            2.5270e-02, -5.6329e-02, -4.8435e-02, -9.3053e-02, -5.6901e-02,\n",
       "            8.9953e-02,  7.0607e-02, -9.5886e-02,  7.0759e-02,  1.9362e-02,\n",
       "            3.4982e-02, -8.6842e-02,  2.2634e-02,  2.8654e-02,  7.2866e-02,\n",
       "            7.1188e-03,  7.6517e-02,  6.7705e-02, -6.4121e-02, -6.3986e-02,\n",
       "            9.2951e-02,  1.9072e-02, -2.5699e-02,  8.5359e-02,  9.9198e-02,\n",
       "           -1.2241e-02,  1.7682e-02,  8.6769e-02,  1.8858e-02,  4.3917e-02,\n",
       "            8.1241e-05,  4.2598e-02,  3.2988e-02, -3.7924e-02, -5.9138e-02,\n",
       "           -6.5710e-02, -8.3590e-02,  7.4783e-02,  6.8150e-02, -4.2965e-02,\n",
       "            8.4761e-02,  4.4942e-02, -3.4062e-02, -8.8777e-02,  2.1101e-02,\n",
       "           -1.8596e-03,  9.9756e-02, -3.2370e-02,  4.4878e-03, -8.3642e-02,\n",
       "           -9.5879e-02,  2.5802e-02,  5.7971e-02,  7.1635e-02,  1.1067e-02,\n",
       "           -3.4185e-02,  8.7770e-02, -8.9270e-02,  8.2138e-02, -6.0562e-02,\n",
       "           -2.3817e-02,  4.6851e-02,  7.6351e-03, -7.3616e-02, -2.7279e-02,\n",
       "            4.6196e-02, -1.9896e-02,  8.7979e-02,  1.0820e-02,  6.7512e-02,\n",
       "           -3.6308e-02, -9.6835e-03,  4.0259e-02,  3.4940e-02,  8.6646e-02,\n",
       "           -6.4372e-02, -3.1970e-02, -3.3858e-02, -4.9627e-02, -9.2945e-02],\n",
       "          [ 9.8279e-02,  3.5350e-02, -2.7115e-02,  3.5579e-02,  9.1410e-02,\n",
       "           -2.7496e-02, -2.7707e-02, -5.7261e-02, -2.4851e-02, -9.7438e-02,\n",
       "           -8.3333e-02,  9.6341e-02,  9.0479e-02, -8.5049e-02, -6.0953e-02,\n",
       "            8.3632e-02, -5.4471e-02,  4.0953e-02, -6.0780e-02, -7.3191e-02,\n",
       "            5.6911e-02, -2.4156e-02,  2.8340e-02,  3.0246e-02, -8.7337e-02,\n",
       "            9.0959e-02, -1.1675e-02, -3.4563e-02,  8.1459e-03,  8.6887e-02,\n",
       "           -9.7334e-02,  3.9092e-02, -8.1067e-02,  2.8352e-02,  1.5712e-02,\n",
       "            5.0616e-02, -5.1465e-03,  9.2865e-02,  1.5940e-02, -6.2758e-02,\n",
       "           -5.3163e-02, -7.1601e-02, -2.0466e-02,  4.6999e-02, -2.5322e-02,\n",
       "           -3.2187e-02,  7.3507e-02, -3.9055e-02,  8.4526e-02, -5.4485e-02,\n",
       "            3.9486e-02,  1.8866e-02, -6.2413e-02,  1.1782e-02, -6.9520e-02,\n",
       "            8.7283e-02,  6.4235e-02, -8.0044e-02,  3.1263e-03, -2.7640e-02,\n",
       "           -3.8178e-02, -9.7667e-02, -2.2226e-02,  4.8926e-02, -7.3296e-02,\n",
       "           -7.2308e-02, -5.2275e-02,  6.3400e-02, -6.1667e-02,  5.0531e-02,\n",
       "           -1.5445e-02,  1.5368e-02,  3.9563e-02,  6.2216e-02, -8.6977e-02,\n",
       "           -4.9064e-04,  6.0067e-02, -6.8080e-02, -5.9654e-02,  8.7415e-02,\n",
       "            9.4245e-02,  8.7673e-02,  2.8233e-02, -2.9058e-02, -2.0720e-02,\n",
       "            1.0090e-02, -1.3980e-03, -7.6834e-02,  8.7313e-02, -3.8499e-02,\n",
       "            3.9446e-02, -1.9771e-02, -8.9849e-03,  7.1808e-02,  7.3999e-03,\n",
       "            3.6247e-02, -6.7168e-02,  5.0596e-03,  2.7471e-02, -2.5925e-02],\n",
       "          [ 5.9467e-02,  1.6845e-03,  1.2773e-02, -5.7569e-02,  4.6709e-02,\n",
       "           -8.0977e-02,  1.6245e-02,  1.0641e-02,  5.6289e-02, -7.2385e-02,\n",
       "           -4.0171e-02,  4.7973e-03, -3.8716e-02, -9.9335e-02,  7.1017e-02,\n",
       "            4.6083e-02,  4.6417e-02,  8.3547e-02,  8.9259e-02,  8.1165e-02,\n",
       "            2.4143e-02,  2.5467e-02, -5.1099e-02,  5.4972e-03,  2.9219e-02,\n",
       "            5.4294e-02,  9.3521e-02,  6.4850e-02,  8.3445e-03, -3.3832e-02,\n",
       "           -1.9835e-02, -1.1941e-02,  3.6266e-02,  6.2993e-02, -7.4179e-02,\n",
       "            3.8265e-02, -1.8929e-02, -4.1900e-02,  3.0657e-02,  6.9832e-02,\n",
       "           -9.5109e-02,  7.7999e-03,  3.0677e-02, -2.8862e-03, -4.3130e-02,\n",
       "            9.3589e-02,  8.8261e-02, -4.7065e-02,  7.7085e-02, -6.6453e-02,\n",
       "            2.0636e-03,  6.9022e-02,  6.9987e-02, -8.8453e-02,  3.6921e-02,\n",
       "           -3.1354e-02, -1.8715e-03,  7.0587e-02, -3.3421e-02,  3.4594e-02,\n",
       "            6.3590e-02,  6.7960e-03, -4.4899e-03,  7.9084e-02, -1.4043e-02,\n",
       "            8.9765e-02,  1.1437e-02, -5.6054e-02, -4.3626e-02, -3.2866e-02,\n",
       "            2.1538e-02, -1.4067e-06,  1.0602e-02,  2.9084e-02,  8.4208e-02,\n",
       "            7.1238e-02, -9.2026e-02, -1.9774e-02, -6.0669e-02,  7.1608e-02,\n",
       "            5.9828e-02,  5.4295e-02,  4.9923e-02,  2.6156e-02,  1.9012e-02,\n",
       "            8.9220e-02, -7.2200e-02,  6.0795e-02,  3.0517e-02,  4.5223e-02,\n",
       "           -2.5455e-02, -2.6913e-02,  3.3839e-02, -9.1902e-02,  1.9930e-02,\n",
       "            8.0710e-02, -1.3204e-02, -4.6931e-02,  2.4198e-02, -2.4143e-02],\n",
       "          [ 9.3961e-02, -5.1074e-02,  9.0325e-02, -8.9322e-02,  8.9320e-02,\n",
       "           -3.3290e-02,  4.4560e-02,  8.5256e-02,  6.8780e-02,  5.2443e-02,\n",
       "            1.6895e-03, -6.6007e-02,  8.8228e-02,  9.5488e-02,  5.0157e-02,\n",
       "           -5.8189e-02,  2.6729e-02,  5.2438e-02, -1.9033e-02,  9.7922e-02,\n",
       "            6.6571e-02,  7.4788e-02,  1.8940e-02,  9.7498e-02,  4.9456e-02,\n",
       "            5.1439e-03,  3.7367e-02, -8.4237e-02,  9.9647e-04,  8.1752e-02,\n",
       "           -1.7661e-04,  9.2083e-02,  3.5929e-02, -3.3553e-03,  6.3782e-02,\n",
       "            6.1465e-02, -2.9256e-02,  7.6336e-02, -6.1565e-02,  7.2291e-03,\n",
       "            2.0040e-03,  3.8800e-02,  2.3985e-02,  2.0166e-02, -4.4528e-02,\n",
       "           -1.5401e-02, -7.5298e-02,  8.8312e-02, -3.0046e-02,  9.4987e-02,\n",
       "           -4.6460e-02,  6.4146e-02,  1.4730e-02,  2.7521e-02,  7.0618e-02,\n",
       "            8.0870e-02,  5.5550e-03,  3.7180e-02, -1.8174e-03,  3.3080e-02,\n",
       "           -9.3916e-02,  1.7580e-02, -2.6618e-02, -1.2326e-02,  6.9574e-02,\n",
       "            2.0195e-02, -1.0734e-03, -3.6477e-02, -7.5767e-02,  2.8649e-03,\n",
       "           -6.8414e-02,  7.9044e-02,  8.7625e-02,  3.3834e-02, -6.2168e-02,\n",
       "           -5.2263e-02,  3.0136e-02, -3.3690e-02, -9.5300e-02, -6.8706e-02,\n",
       "           -6.3875e-02,  3.9131e-02,  3.7573e-02, -4.6210e-02, -6.9186e-02,\n",
       "           -8.4542e-02,  5.0115e-02,  2.4402e-02, -9.5191e-02, -1.0119e-02,\n",
       "            8.9574e-02,  9.6142e-02, -8.5881e-03,  9.0013e-02, -7.8142e-02,\n",
       "           -8.7932e-02,  3.0751e-04,  1.4556e-02, -7.8192e-02, -1.8998e-02],\n",
       "          [-7.1336e-02, -3.8629e-03,  3.4109e-02, -8.8414e-02,  9.2874e-02,\n",
       "           -4.9448e-02, -5.9869e-02,  5.7596e-02,  1.6931e-03,  2.8977e-02,\n",
       "            5.3771e-02, -6.6766e-02,  6.9403e-02,  8.5845e-02, -3.2155e-02,\n",
       "            1.1132e-02, -9.8312e-02,  9.9231e-02, -8.6244e-02, -7.4021e-02,\n",
       "           -5.8221e-02, -1.4512e-02,  4.9498e-02, -2.1980e-02, -2.3426e-02,\n",
       "            3.4125e-02,  9.4817e-02,  6.1403e-02, -3.0419e-02, -3.1273e-02,\n",
       "            2.9385e-02, -5.2108e-02, -9.0375e-02, -9.8524e-02, -9.2979e-02,\n",
       "            3.6426e-02, -8.2845e-02,  9.6154e-02, -4.1418e-02, -8.2687e-02,\n",
       "            4.7820e-02,  9.8351e-02,  1.0581e-03,  1.9334e-02,  2.0151e-03,\n",
       "           -4.3819e-02, -7.5399e-02, -7.3471e-02,  4.3094e-02,  9.5084e-02,\n",
       "            3.6452e-02, -1.1542e-03, -3.8312e-02, -9.9853e-02, -2.4349e-02,\n",
       "            2.9967e-02,  8.9892e-02,  5.7335e-02,  8.7875e-02,  2.7550e-02,\n",
       "           -6.6472e-02,  1.3466e-02, -5.9882e-02, -6.2640e-02,  5.8551e-02,\n",
       "           -9.9228e-03, -2.6556e-03,  1.3298e-02, -8.8634e-02, -2.5631e-02,\n",
       "            7.7474e-02,  4.8751e-02, -5.7232e-03, -4.7987e-02,  9.5754e-02,\n",
       "           -4.7596e-03,  5.1568e-02, -2.4951e-02,  3.5370e-02, -7.7830e-02,\n",
       "           -9.7602e-02, -3.9179e-02,  5.5043e-02,  1.4657e-02, -6.3060e-03,\n",
       "           -4.1091e-02,  8.1996e-02, -7.5020e-02, -9.2795e-02,  7.8758e-03,\n",
       "           -4.7254e-02, -8.3028e-02, -2.6334e-02, -6.9854e-02, -7.6269e-02,\n",
       "           -9.9263e-02,  2.0180e-02, -7.4544e-02, -7.0338e-02, -4.2527e-02],\n",
       "          [-7.6822e-02, -9.2018e-02,  6.6543e-02,  8.6923e-02,  1.5440e-02,\n",
       "            4.4920e-02,  6.8825e-02, -9.1522e-02,  6.0024e-03, -9.4349e-02,\n",
       "           -7.5685e-02,  2.8512e-02,  8.7850e-02, -8.5969e-02,  1.9876e-04,\n",
       "            5.1936e-02,  8.9047e-02,  9.2375e-03,  7.9991e-02,  1.1173e-03,\n",
       "           -5.9245e-02,  1.2643e-02, -2.4950e-02, -6.8965e-02,  8.8154e-02,\n",
       "            5.9420e-03,  4.6639e-02,  4.4224e-03,  9.7200e-02,  8.5697e-02,\n",
       "           -7.0656e-02, -8.2111e-02,  6.9555e-02, -8.3927e-02,  3.2206e-02,\n",
       "            7.4892e-02,  3.0231e-02, -3.1111e-02,  9.5879e-02,  6.9045e-02,\n",
       "            8.0733e-02, -9.6172e-02,  3.1577e-02, -2.1325e-03, -8.4836e-02,\n",
       "            4.9168e-02,  6.0831e-02,  6.8546e-02,  5.6782e-02, -4.4157e-02,\n",
       "            7.1071e-02,  8.9652e-02,  3.3898e-02, -5.2598e-02,  1.2194e-02,\n",
       "            1.4547e-02,  8.8419e-03, -3.1315e-02,  1.9336e-02,  6.9790e-02,\n",
       "           -7.7496e-02, -6.4580e-03,  5.7493e-02, -3.5680e-02, -4.7864e-02,\n",
       "            8.6583e-02, -7.0311e-02,  2.3168e-02, -7.8411e-02,  4.8475e-02,\n",
       "           -4.1769e-04, -7.9620e-02,  1.5189e-02, -4.7201e-02, -1.8307e-02,\n",
       "            1.8002e-02, -9.4678e-02, -5.4156e-02, -6.0631e-02, -8.8067e-02,\n",
       "           -4.3562e-02, -3.3362e-02,  9.1425e-02,  8.7866e-02, -3.1090e-02,\n",
       "           -7.0059e-02,  5.6872e-02, -2.4059e-02,  9.9302e-02, -2.8433e-03,\n",
       "           -4.5428e-02, -7.0290e-02, -1.0280e-02, -7.4790e-02,  6.9902e-02,\n",
       "            4.4277e-02,  9.6799e-02,  3.8109e-02,  9.3771e-02, -6.5294e-02],\n",
       "          [ 9.6483e-02,  1.2988e-02, -2.1498e-02,  3.1850e-02,  1.2082e-02,\n",
       "           -6.3140e-02,  6.1154e-02, -2.5501e-02, -1.5681e-02,  9.0817e-02,\n",
       "           -8.8991e-02, -1.9570e-02, -3.9503e-02,  5.8438e-02,  8.8142e-02,\n",
       "            1.7256e-02, -6.8838e-02,  2.2336e-02, -5.2372e-02, -6.1866e-02,\n",
       "           -8.5207e-03, -7.7628e-02,  6.1134e-03,  6.4448e-02,  4.8394e-02,\n",
       "            5.3946e-02, -3.0060e-02, -6.6784e-02,  1.2742e-02,  5.2377e-02,\n",
       "            2.3464e-02, -8.6646e-02,  2.6175e-02,  2.1914e-02,  7.9514e-02,\n",
       "           -3.4979e-02,  2.5513e-02,  5.0274e-02, -9.1858e-02, -7.6373e-02,\n",
       "           -7.4372e-02,  3.9728e-02, -9.4839e-02, -6.6927e-02,  9.3048e-02,\n",
       "           -9.7300e-02, -9.5458e-02, -1.3432e-02, -1.7984e-02, -1.4542e-03,\n",
       "            7.9702e-02, -9.3537e-02,  1.8749e-02,  6.4015e-02,  6.7948e-02,\n",
       "            4.4240e-03,  2.4003e-02, -7.2305e-02, -3.7856e-02, -8.1668e-02,\n",
       "            4.3485e-02, -8.7211e-02, -5.1377e-02,  2.3058e-02, -3.1102e-02,\n",
       "            9.7171e-02, -1.2263e-02,  6.3491e-02,  7.8822e-02,  3.3964e-02,\n",
       "            8.8681e-02,  6.3217e-02, -2.3313e-03,  6.3148e-03, -3.6593e-02,\n",
       "           -7.0017e-02,  8.4314e-02,  9.9005e-02,  4.8642e-02, -6.8948e-02,\n",
       "           -3.0998e-02, -2.4213e-02, -5.7212e-02,  5.5899e-02, -3.0584e-02,\n",
       "            7.8328e-02,  4.4667e-02, -1.3078e-02, -5.4181e-02,  5.2801e-02,\n",
       "           -5.8795e-02,  1.7208e-02,  3.7249e-02,  6.0097e-02,  2.1677e-02,\n",
       "            8.7685e-02,  2.8371e-02,  1.2226e-02,  8.9403e-02, -2.2466e-03],\n",
       "          [ 5.2794e-02, -4.3574e-02, -1.8632e-02, -3.6022e-02,  9.6894e-02,\n",
       "            1.1422e-02, -9.0587e-02, -2.5641e-03,  4.3724e-02, -8.4814e-02,\n",
       "            3.0541e-02, -3.2004e-02, -4.6797e-02,  8.7107e-02,  6.1645e-02,\n",
       "            5.4157e-02, -1.3987e-02, -1.3024e-03,  7.8856e-02, -6.9448e-02,\n",
       "            7.1298e-02, -9.3362e-02, -5.6652e-02,  5.4719e-02,  1.0372e-02,\n",
       "           -6.5045e-02,  2.2017e-03, -2.4846e-02,  5.6000e-02, -9.2103e-03,\n",
       "            3.7707e-02,  5.8119e-02, -2.5138e-02,  6.2541e-03,  3.3308e-02,\n",
       "           -1.1782e-02, -7.5735e-02,  5.6829e-02, -6.1620e-03, -8.3568e-02,\n",
       "            7.6301e-02, -2.8036e-03,  8.5556e-02,  1.3880e-02,  1.1809e-02,\n",
       "            7.3908e-03, -6.1736e-02, -9.2134e-02,  5.8760e-02,  2.4375e-03,\n",
       "           -3.5287e-02,  9.7786e-02, -2.4831e-02, -4.6226e-02, -2.3845e-02,\n",
       "           -4.6376e-02,  2.7874e-02,  2.4343e-02, -4.5481e-02, -5.7419e-02,\n",
       "            8.4300e-02, -4.3546e-02, -9.6671e-02,  9.4737e-02,  1.4961e-02,\n",
       "            5.6548e-02,  5.8774e-02, -1.8509e-02,  3.9177e-02,  7.7183e-02,\n",
       "           -4.3078e-02,  1.5998e-02, -8.1220e-02, -7.8737e-02, -1.2139e-02,\n",
       "           -9.6824e-02, -8.4057e-02,  1.7430e-02,  2.4614e-02, -6.4740e-02,\n",
       "            3.5170e-03, -6.4245e-02,  2.6211e-02, -1.5403e-02,  9.5158e-02,\n",
       "           -2.2462e-02, -2.8999e-02,  6.5665e-02,  2.4351e-02, -2.6898e-02,\n",
       "            2.6065e-02, -6.3654e-02,  8.4986e-02,  1.6288e-02, -3.3456e-02,\n",
       "            9.8428e-02, -7.8036e-02, -7.8791e-02, -9.1072e-02,  1.7767e-02]],\n",
       "         device='cuda:0', requires_grad=True),\n",
       "  Parameter containing:\n",
       "  tensor([-0.0426, -0.0413,  0.0625, -0.0167, -0.0982, -0.0910,  0.0296,  0.0895,\n",
       "          -0.0482, -0.0059], device='cuda:0', requires_grad=True)],\n",
       " 'lr': 0.01,\n",
       " 'momentum': 0.5,\n",
       " 'dampening': 0,\n",
       " 'weight_decay': 0,\n",
       " 'nesterov': False}"
      ]
     },
     "execution_count": 43,
     "metadata": {},
     "output_type": "execute_result"
    }
   ],
   "source": [
    "optimizer.param_groups[0]"
   ]
  },
  {
   "cell_type": "code",
   "execution_count": 53,
   "id": "4f4d178e-9be6-4254-9704-f834d450c4d0",
   "metadata": {
    "scrolled": true,
    "tags": []
   },
   "outputs": [
    {
     "name": "stdout",
     "output_type": "stream",
     "text": [
      "torch.Size([64, 1, 28, 28]) torch.Size([64, 1, 28, 28])\n",
      "torch.Size([64, 784])\n"
     ]
    }
   ],
   "source": [
    "for img, label in train_loader:\n",
    "        print(img.shape, img.size())\n",
    "        img = img.view(img.size(0), -1)\n",
    "        print(img.shape)\n",
    "        break"
   ]
  },
  {
   "cell_type": "code",
   "execution_count": 56,
   "id": "cc8229f7-a0e9-414e-ba0b-ab64d6fa6952",
   "metadata": {
    "scrolled": true,
    "tags": []
   },
   "outputs": [
    {
     "name": "stdout",
     "output_type": "stream",
     "text": [
      "epoch: 0, Train Loss: 0.2101, Train Acc: 0.9477, Test Loss: 0.1841, Test Acc: 0.9550\n",
      "epoch: 1, Train Loss: 0.2092, Train Acc: 0.9483, Test Loss: 0.1845, Test Acc: 0.9551\n",
      "epoch: 2, Train Loss: 0.2090, Train Acc: 0.9474, Test Loss: 0.1840, Test Acc: 0.9543\n",
      "epoch: 3, Train Loss: 0.2094, Train Acc: 0.9482, Test Loss: 0.1834, Test Acc: 0.9548\n",
      "epoch: 4, Train Loss: 0.2091, Train Acc: 0.9485, Test Loss: 0.1849, Test Acc: 0.9545\n",
      "epoch: 5, Train Loss: 0.2078, Train Acc: 0.9491, Test Loss: 0.1850, Test Acc: 0.9538\n",
      "epoch: 6, Train Loss: 0.2082, Train Acc: 0.9486, Test Loss: 0.1838, Test Acc: 0.9549\n",
      "epoch: 7, Train Loss: 0.2082, Train Acc: 0.9482, Test Loss: 0.1817, Test Acc: 0.9545\n",
      "epoch: 8, Train Loss: 0.2089, Train Acc: 0.9490, Test Loss: 0.1837, Test Acc: 0.9549\n",
      "epoch: 9, Train Loss: 0.2092, Train Acc: 0.9482, Test Loss: 0.1827, Test Acc: 0.9543\n",
      "epoch: 10, Train Loss: 0.2095, Train Acc: 0.9479, Test Loss: 0.1836, Test Acc: 0.9539\n",
      "epoch: 11, Train Loss: 0.2082, Train Acc: 0.9482, Test Loss: 0.1841, Test Acc: 0.9541\n",
      "epoch: 12, Train Loss: 0.2079, Train Acc: 0.9488, Test Loss: 0.1837, Test Acc: 0.9546\n",
      "epoch: 13, Train Loss: 0.2085, Train Acc: 0.9486, Test Loss: 0.1845, Test Acc: 0.9542\n",
      "epoch: 14, Train Loss: 0.2079, Train Acc: 0.9485, Test Loss: 0.1836, Test Acc: 0.9543\n",
      "epoch: 15, Train Loss: 0.2087, Train Acc: 0.9479, Test Loss: 0.1830, Test Acc: 0.9546\n",
      "epoch: 16, Train Loss: 0.2088, Train Acc: 0.9483, Test Loss: 0.1830, Test Acc: 0.9539\n",
      "epoch: 17, Train Loss: 0.2086, Train Acc: 0.9489, Test Loss: 0.1828, Test Acc: 0.9549\n",
      "epoch: 18, Train Loss: 0.2090, Train Acc: 0.9492, Test Loss: 0.1829, Test Acc: 0.9542\n",
      "epoch: 19, Train Loss: 0.2087, Train Acc: 0.9489, Test Loss: 0.1817, Test Acc: 0.9544\n"
     ]
    }
   ],
   "source": [
    "# 开始训练\n",
    "losses = []\n",
    "acces = []\n",
    "eval_losses = []\n",
    "eval_acces = []\n",
    "\n",
    "\n",
    "# num_epoches\n",
    "for epoch in range(num_epoches):\n",
    "    train_loss = 0\n",
    "    train_acc = 0\n",
    "    # 开启模型训练模式\n",
    "    model.train()\n",
    "    # 动态修改参数学习率\n",
    "    if epoch % 5 == 0:\n",
    "        optimizer.param_groups[0][\"lr\"] *= 0.1\n",
    "    for img, label in train_loader:\n",
    "        img = img.to(device)\n",
    "        label = label.to(device)\n",
    "        # 64 * 784\n",
    "        img = img.view(img.size(0), -1)\n",
    "        # 前向传播\n",
    "        out = model(img)\n",
    "        loss = criterion(out, label)\n",
    "        # print(out.shape, loss)\n",
    "        # 反向传播\n",
    "        # 手工把梯度初始化或清零\n",
    "        optimizer.zero_grad()\n",
    "        # 自动生成梯度\n",
    "        loss.backward()\n",
    "        # 执行优化器\n",
    "        optimizer.step()\n",
    "        # 记录误差\n",
    "        train_loss += loss.item()\n",
    "        # 计算分类的准确率\n",
    "        _, pred = out.max(1)\n",
    "        # print(out.shape, loss, pred)\n",
    "        num_correct = (pred == label).sum().item()\n",
    "        acc = num_correct / img.shape[0]\n",
    "        train_acc += acc\n",
    "\n",
    "    losses.append(train_loss / len(train_loader))\n",
    "    acces.append(train_acc / len(train_loader))\n",
    "    # 在测试集上检验效果\n",
    "    eval_loss = 0\n",
    "    eval_acc = 0\n",
    "    # 开启模型验证模式\n",
    "    model.eval()\n",
    "    for img, label in test_loader:\n",
    "        img = img.to(device)\n",
    "        label = label.to(device)\n",
    "        img = img.view(img.size(0), -1)\n",
    "        out = model(img)\n",
    "        loss = criterion(out, label)\n",
    "        # 记录误差\n",
    "        eval_loss += loss.item()\n",
    "        # 记录准确率\n",
    "        _, pred = out.max(1)\n",
    "        num_correct = (pred == label).sum().item()\n",
    "        acc = num_correct / img.shape[0]\n",
    "        eval_acc += acc\n",
    "\n",
    "    eval_losses.append(eval_loss / len(test_loader))\n",
    "    eval_acces.append(eval_acc / len(test_loader))\n",
    "    print(\n",
    "        \"epoch: {}, Train Loss: {:.4f}, Train Acc: {:.4f}, Test Loss: {:.4f}, Test Acc: {:.4f}\".format(\n",
    "            epoch,\n",
    "            train_loss / len(train_loader),\n",
    "            train_acc / len(train_loader),\n",
    "            eval_loss / len(test_loader),\n",
    "            eval_acc / len(test_loader),\n",
    "        )\n",
    "    )"
   ]
  },
  {
   "cell_type": "code",
   "execution_count": 15,
   "id": "1fc1fb17-ee4a-4f9c-beee-41b5b14e1a0a",
   "metadata": {},
   "outputs": [
    {
     "data": {
      "text/plain": [
       "<matplotlib.legend.Legend at 0x7fc1697aadd0>"
      ]
     },
     "execution_count": 15,
     "metadata": {},
     "output_type": "execute_result"
    },
    {
     "data": {
      "image/png": "[encoded data removed]",
      "text/plain": [
       "<Figure size 432x288 with 1 Axes>"
      ]
     },
     "metadata": {
      "needs_background": "light"
     },
     "output_type": "display_data"
    }
   ],
   "source": [
    "plt.title(\"train loss\")\n",
    "plt.plot(np.arange(len(losses)), losses)\n",
    "plt.legend([\"Train Loss\"], loc=\"upper right\")"
   ]
  },
  {
   "cell_type": "code",
   "execution_count": null,
   "id": "e08cda78-1838-446f-9077-0cfc1e431c99",
   "metadata": {},
   "outputs": [],
   "source": []
  },
  {
   "cell_type": "code",
   "execution_count": null,
   "id": "872c32b1-1a06-47bd-923e-1d320264d602",
   "metadata": {},
   "outputs": [],
   "source": []
  }
 ],
 "metadata": {
  "kernelspec": {
   "display_name": "Python 3 (ipykernel)",
   "language": "python",
   "name": "python3"
  },
  "language_info": {
   "codemirror_mode": {
    "name": "ipython",
    "version": 3
   },
   "file_extension": ".py",
   "mimetype": "text/x-python",
   "name": "python",
   "nbconvert_exporter": "python",
   "pygments_lexer": "ipython3",
   "version": "3.8.11"
  }
 },
 "nbformat": 4,
 "nbformat_minor": 5
}
