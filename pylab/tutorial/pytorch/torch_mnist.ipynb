{
 "cells": [
  {
   "cell_type": "markdown",
   "id": "6abbbe52-3dd5-4b4d-bbc6-2824e00f0d17",
   "metadata": {},
   "source": [
    "## Pytorch 手写字识别\n",
    "\n",
    "通过对`MNIST`手写字识别来熟悉`Pytorch`用法，参考：\n",
    "\n",
    "- [Pytorch神经网络工具箱](http://www.feiguyunai.com/index.php/2019/09/11/pytorch-char03/)\n",
    "- [nndl_note: 识别手写字](https://www.howie6879.cn/p/nndl_note-%E8%AF%86%E5%88%AB%E6%89%8B%E5%86%99%E5%AD%97/)\n",
    "\n",
    "流程图：\n",
    "\n",
    "![FCRQrO](https://gitee.com/howie6879/oss/raw/master/uPic/FCRQrO.jpg)\n",
    "\n",
    "> 👉 图来源自上述：Pytorch神经网络工具箱"
   ]
  },
  {
   "cell_type": "code",
   "execution_count": 1,
   "id": "30186173-be5b-4998-8ed6-5b23786407c2",
   "metadata": {},
   "outputs": [
    {
     "name": "stdout",
     "output_type": "stream",
     "text": [
      "Python implementation: CPython\n",
      "Python version       : 3.8.11\n",
      "IPython version      : 7.27.0\n",
      "\n",
      "numpy: 1.21.2\n",
      "torch: 1.8.2\n",
      "\n"
     ]
    }
   ],
   "source": [
    "%load_ext watermark\n",
    "%watermark -v -p numpy,torch"
   ]
  },
  {
   "cell_type": "code",
   "execution_count": 2,
   "id": "35874c77-0fb8-4807-ad69-e7cd7b9e6a71",
   "metadata": {},
   "outputs": [],
   "source": [
    "# 可视化模块\n",
    "import matplotlib.pyplot as plt\n",
    "import numpy as np\n",
    "import torch\n",
    "\n",
    "# 导入nn及优化器\n",
    "import torch.nn.functional as F\n",
    "import torch.optim as optim\n",
    "\n",
    "# 导入预处理模块\n",
    "import torchvision.transforms as transforms\n",
    "from torch import nn\n",
    "from torch.utils import data\n",
    "from torch.utils.data import DataLoader\n",
    "\n",
    "# 导入 pytorch 内置的 mnist 数据\n",
    "from torchvision.datasets import mnist\n",
    "\n",
    "%matplotlib inline"
   ]
  },
  {
   "cell_type": "code",
   "execution_count": null,
   "id": "4ceeb1d1-9cbc-4e4d-83e9-b80c081ea509",
   "metadata": {},
   "outputs": [],
   "source": []
  },
  {
   "cell_type": "markdown",
   "id": "e9fda58d-c54b-4c9e-9527-54ec7287526e",
   "metadata": {},
   "source": [
    "### 获取数据"
   ]
  },
  {
   "cell_type": "code",
   "execution_count": 3,
   "id": "375bd619-66c6-480e-a6b1-2a57fc70ad56",
   "metadata": {},
   "outputs": [],
   "source": [
    "# 定义一些超参数\n",
    "train_batch_size = 64\n",
    "test_batch_size = 128\n",
    "learning_rate = 0.01\n",
    "num_epoches = 10\n",
    "lr = 0.01\n",
    "momentum = 0.5"
   ]
  },
  {
   "cell_type": "code",
   "execution_count": 4,
   "id": "658b06d1-a246-451d-87ae-eef8f790a760",
   "metadata": {},
   "outputs": [
    {
     "name": "stdout",
     "output_type": "stream",
     "text": [
      "Downloading http://yann.lecun.com/exdb/mnist/train-images-idx3-ubyte.gz\n",
      "Downloading http://yann.lecun.com/exdb/mnist/train-images-idx3-ubyte.gz to ./data/MNIST/raw/train-images-idx3-ubyte.gz\n"
     ]
    },
    {
     "data": {
      "application/vnd.jupyter.widget-view+json": {
       "model_id": "b9d4d24965b041a2a39e017ff7fa6e13",
       "version_major": 2,
       "version_minor": 0
      },
      "text/plain": [
       "HBox(children=(FloatProgress(value=0.0, max=9912422.0), HTML(value='')))"
      ]
     },
     "metadata": {},
     "output_type": "display_data"
    },
    {
     "name": "stdout",
     "output_type": "stream",
     "text": [
      "\n",
      "Extracting ./data/MNIST/raw/train-images-idx3-ubyte.gz to ./data/MNIST/raw\n",
      "\n",
      "Downloading http://yann.lecun.com/exdb/mnist/train-labels-idx1-ubyte.gz\n",
      "Downloading http://yann.lecun.com/exdb/mnist/train-labels-idx1-ubyte.gz to ./data/MNIST/raw/train-labels-idx1-ubyte.gz\n"
     ]
    },
    {
     "data": {
      "application/vnd.jupyter.widget-view+json": {
       "model_id": "62dba7227aba4997b5501ac9498cdaf4",
       "version_major": 2,
       "version_minor": 0
      },
      "text/plain": [
       "HBox(children=(FloatProgress(value=0.0, max=28881.0), HTML(value='')))"
      ]
     },
     "metadata": {},
     "output_type": "display_data"
    },
    {
     "name": "stdout",
     "output_type": "stream",
     "text": [
      "\n",
      "Extracting ./data/MNIST/raw/train-labels-idx1-ubyte.gz to ./data/MNIST/raw\n",
      "\n",
      "Downloading http://yann.lecun.com/exdb/mnist/t10k-images-idx3-ubyte.gz\n",
      "Downloading http://yann.lecun.com/exdb/mnist/t10k-images-idx3-ubyte.gz to ./data/MNIST/raw/t10k-images-idx3-ubyte.gz\n"
     ]
    },
    {
     "data": {
      "application/vnd.jupyter.widget-view+json": {
       "model_id": "8328c25369154a52b23d80437770ad87",
       "version_major": 2,
       "version_minor": 0
      },
      "text/plain": [
       "HBox(children=(FloatProgress(value=0.0, max=1648877.0), HTML(value='')))"
      ]
     },
     "metadata": {},
     "output_type": "display_data"
    },
    {
     "name": "stdout",
     "output_type": "stream",
     "text": [
      "\n",
      "Extracting ./data/MNIST/raw/t10k-images-idx3-ubyte.gz to ./data/MNIST/raw\n",
      "\n",
      "Downloading http://yann.lecun.com/exdb/mnist/t10k-labels-idx1-ubyte.gz\n",
      "Downloading http://yann.lecun.com/exdb/mnist/t10k-labels-idx1-ubyte.gz to ./data/MNIST/raw/t10k-labels-idx1-ubyte.gz\n"
     ]
    },
    {
     "data": {
      "application/vnd.jupyter.widget-view+json": {
       "model_id": "cfa6d12f8e53486c84b3ec93ead2a151",
       "version_major": 2,
       "version_minor": 0
      },
      "text/plain": [
       "HBox(children=(FloatProgress(value=0.0, max=4542.0), HTML(value='')))"
      ]
     },
     "metadata": {},
     "output_type": "display_data"
    },
    {
     "name": "stdout",
     "output_type": "stream",
     "text": [
      "\n",
      "Extracting ./data/MNIST/raw/t10k-labels-idx1-ubyte.gz to ./data/MNIST/raw\n",
      "\n",
      "Processing...\n",
      "Done!\n"
     ]
    },
    {
     "name": "stderr",
     "output_type": "stream",
     "text": [
      "/home/howie/anaconda3/envs/gpu_env38/lib/python3.8/site-packages/torchvision/datasets/mnist.py:502: UserWarning: The given NumPy array is not writeable, and PyTorch does not support non-writeable tensors. This means you can write to the underlying (supposedly non-writeable) NumPy array using the tensor. You may want to copy the array to protect its data or make it writeable before converting it to a tensor. This type of warning will be suppressed for the rest of this program. (Triggered internally at  /opt/conda/conda-bld/pytorch_1627336325426/work/torch/csrc/utils/tensor_numpy.cpp:143.)\n",
      "  return torch.from_numpy(parsed.astype(m[2], copy=False)).view(*s)\n"
     ]
    }
   ],
   "source": [
    "# 定义预处理函数，这些预处理依次放在Compose函数中。\n",
    "transform = transforms.Compose(\n",
    "    [transforms.ToTensor(), transforms.Normalize([0.5], [0.5])]\n",
    ")\n",
    "# 下载数据，并对数据进行预处理\n",
    "train_dataset = mnist.MNIST(\"./data\", train=True, transform=transform, download=True)\n",
    "test_dataset = mnist.MNIST(\"./data\", train=False, transform=transform)\n",
    "# dataloader是一个可迭代对象，可以使用迭代器一样使用。\n",
    "train_loader = DataLoader(train_dataset, batch_size=train_batch_size, shuffle=True)\n",
    "test_loader = DataLoader(test_dataset, batch_size=test_batch_size, shuffle=False)"
   ]
  },
  {
   "cell_type": "code",
   "execution_count": null,
   "id": "54304078-ba01-4d38-8f2a-cd1bae6e8050",
   "metadata": {},
   "outputs": [],
   "source": []
  },
  {
   "cell_type": "markdown",
   "id": "d45e3059-7571-4c3c-b625-711aa6996c86",
   "metadata": {},
   "source": [
    "### utils.data 简介\n",
    "\n",
    "允许开发者自定义数据集"
   ]
  },
  {
   "cell_type": "code",
   "execution_count": 5,
   "id": "bc372c44-d96c-4d4f-b788-7f9352375d88",
   "metadata": {},
   "outputs": [],
   "source": [
    "# 继承Dataset\n",
    "class TestDataset(data.Dataset):\n",
    "    def __init__(self):\n",
    "        self.Data = np.asarray(\n",
    "            [[1, 2], [3, 4], [2, 1], [3, 4], [4, 5]]\n",
    "        )  # 一些由2维向量表示的数据集\n",
    "        self.Label = np.asarray([0, 1, 0, 1, 2])  # 这是数据集对应的标签\n",
    "\n",
    "    def __getitem__(self, index):\n",
    "        # 把numpy转换为Tensor\n",
    "        txt = torch.from_numpy(self.Data[index])\n",
    "        label = torch.tensor(self.Label[index])\n",
    "        return txt, label\n",
    "\n",
    "    def __len__(self):\n",
    "        return len(self.Data)"
   ]
  },
  {
   "cell_type": "code",
   "execution_count": 6,
   "id": "a6f18396-d289-4482-8162-fb080f4bd81f",
   "metadata": {},
   "outputs": [
    {
     "data": {
      "text/plain": [
       "<__main__.TestDataset at 0x7fc16f076110>"
      ]
     },
     "execution_count": 6,
     "metadata": {},
     "output_type": "execute_result"
    }
   ],
   "source": [
    "Test = TestDataset()\n",
    "Test"
   ]
  },
  {
   "cell_type": "code",
   "execution_count": 7,
   "id": "4d743886-f835-4e02-9060-ca8b0d64524e",
   "metadata": {},
   "outputs": [
    {
     "data": {
      "text/plain": [
       "(tensor([1, 2]), tensor(0))"
      ]
     },
     "execution_count": 7,
     "metadata": {},
     "output_type": "execute_result"
    }
   ],
   "source": [
    "Test[0]"
   ]
  },
  {
   "cell_type": "code",
   "execution_count": 8,
   "id": "7af72a2e-4d43-45ca-92b6-43f4e883a1d2",
   "metadata": {},
   "outputs": [
    {
     "name": "stdout",
     "output_type": "stream",
     "text": [
      "i: 0\n",
      "data: tensor([[1, 2],\n",
      "        [3, 4],\n",
      "        [2, 1]])\n",
      "Label: tensor([0, 1, 0])\n",
      "i: 1\n",
      "data: tensor([[3, 4],\n",
      "        [4, 5]])\n",
      "Label: tensor([1, 2])\n"
     ]
    }
   ],
   "source": [
    "# 以上数据以tuple返回，每次只返回一个样本\n",
    "# 如果要对 Dataset 做一些批量提取、随机化等操作\n",
    "# 此时可以引入 DataLoader\n",
    "\n",
    "test_loader_demo = data.DataLoader(Test, batch_size=3, shuffle=False, num_workers=2)\n",
    "for i, traindata in enumerate(test_loader_demo):\n",
    "    print(\"i:\", i)\n",
    "    Data, Label = traindata\n",
    "    print(\"data:\", Data)\n",
    "    print(\"Label:\", Label)"
   ]
  },
  {
   "cell_type": "code",
   "execution_count": null,
   "id": "4c7cb7e2-0d60-4acf-b49c-da649ad5111c",
   "metadata": {},
   "outputs": [],
   "source": []
  },
  {
   "cell_type": "markdown",
   "id": "48315748-3643-4691-ac0f-6ad62207a4dd",
   "metadata": {},
   "source": [
    "### 数据可视化"
   ]
  },
  {
   "cell_type": "code",
   "execution_count": 9,
   "id": "cdf6d9df-1507-49aa-8df6-5f38f6c32111",
   "metadata": {},
   "outputs": [
    {
     "data": {
      "image/png": "[encoded data removed]",
      "text/plain": [
       "<Figure size 432x288 with 6 Axes>"
      ]
     },
     "metadata": {},
     "output_type": "display_data"
    }
   ],
   "source": [
    "examples = enumerate(test_loader)\n",
    "batch_idx, (example_data, example_targets) = next(examples)\n",
    "\n",
    "fig = plt.figure()\n",
    "for i in range(6):\n",
    "    plt.subplot(2, 3, i + 1)\n",
    "    plt.tight_layout()\n",
    "    plt.imshow(example_data[i][0], cmap=\"gray\", interpolation=\"none\")\n",
    "    plt.title(\"Ground Truth: {}\".format(example_targets[i]))\n",
    "    plt.xticks([])\n",
    "    plt.yticks([])"
   ]
  },
  {
   "cell_type": "code",
   "execution_count": 10,
   "id": "8a6b5ceb-4b89-4879-a8b8-0a3935210050",
   "metadata": {},
   "outputs": [
    {
     "data": {
      "text/plain": [
       "torch.Size([28, 28])"
      ]
     },
     "execution_count": 10,
     "metadata": {},
     "output_type": "execute_result"
    }
   ],
   "source": [
    "example_data[0][0].shape"
   ]
  },
  {
   "cell_type": "markdown",
   "id": "46f2fe80-75b2-40ac-8d12-96621c2a92ff",
   "metadata": {},
   "source": [
    "### 构建模型\n",
    "\n",
    "通过全连接神经网络和卷积神经网络构建模型来熟悉Pytorch的模型构建方式\n",
    "\n",
    "相关知识点参考：\n",
    "- [PyTorch的nn.Linear详解](https://blog.csdn.net/qq_42079689/article/details/102873766)"
   ]
  },
  {
   "cell_type": "code",
   "execution_count": null,
   "id": "f0a75674-a3b3-4885-ac26-cb269448d72b",
   "metadata": {},
   "outputs": [],
   "source": []
  },
  {
   "cell_type": "markdown",
   "id": "c69fa05a-9d73-42c3-869b-622d99b988c2",
   "metadata": {},
   "source": [
    "#### 全连接神经网络"
   ]
  },
  {
   "cell_type": "code",
   "execution_count": 11,
   "id": "1fb6b751-e223-45c8-a34b-a0319b45e54f",
   "metadata": {},
   "outputs": [],
   "source": [
    "class Net01(nn.Module):\n",
    "    \"\"\"\n",
    "    使用sequential构建网络，Sequential()函数的功能是将网络的层组合到一起\n",
    "    \"\"\"\n",
    "\n",
    "    def __init__(self, in_dim, n_hidden_1, n_hidden_2, out_dim):\n",
    "        super(Net01, self).__init__()\n",
    "        self.layer1 = nn.Sequential(\n",
    "            nn.Linear(in_dim, n_hidden_1), nn.BatchNorm1d(n_hidden_1)\n",
    "        )\n",
    "        self.layer2 = nn.Sequential(\n",
    "            nn.Linear(n_hidden_1, n_hidden_2), nn.BatchNorm1d(n_hidden_2)\n",
    "        )\n",
    "        self.layer3 = nn.Sequential(nn.Linear(n_hidden_2, out_dim))\n",
    "\n",
    "    def forward(self, x):\n",
    "        x = F.relu(self.layer1(x))\n",
    "        x = F.relu(self.layer2(x))\n",
    "        x = self.layer3(x)\n",
    "        return x"
   ]
  },
  {
   "cell_type": "code",
   "execution_count": 12,
   "id": "973dbf08-7adf-4151-9b6e-125854589227",
   "metadata": {},
   "outputs": [],
   "source": [
    "# 检测是否有可用的GPU，有则使用，否则使用CPU\n",
    "device = torch.device(\"cuda:0\" if torch.cuda.is_available() else \"cpu\")\n",
    "# 实例化网络\n",
    "model = Net01(28 * 28, 300, 100, 10)\n",
    "model.to(device)\n",
    "\n",
    "# 定义损失函数和优化器\n",
    "criterion = nn.CrossEntropyLoss()\n",
    "optimizer = optim.SGD(model.parameters(), lr=lr, momentum=momentum)"
   ]
  },
  {
   "cell_type": "code",
   "execution_count": 13,
   "id": "4f4d178e-9be6-4254-9704-f834d450c4d0",
   "metadata": {},
   "outputs": [
    {
     "data": {
      "text/plain": [
       "784"
      ]
     },
     "execution_count": 13,
     "metadata": {},
     "output_type": "execute_result"
    }
   ],
   "source": [
    "28 * 28"
   ]
  },
  {
   "cell_type": "code",
   "execution_count": 14,
   "id": "cc8229f7-a0e9-414e-ba0b-ab64d6fa6952",
   "metadata": {
    "scrolled": true,
    "tags": []
   },
   "outputs": [
    {
     "name": "stdout",
     "output_type": "stream",
     "text": [
      "epoch: 0, Train Loss: 1.0454, Train Acc: 0.7802, Test Loss: 0.5583, Test Acc: 0.9033\n",
      "epoch: 1, Train Loss: 0.4837, Train Acc: 0.9019, Test Loss: 0.3470, Test Acc: 0.9283\n",
      "epoch: 2, Train Loss: 0.3476, Train Acc: 0.9213, Test Loss: 0.2681, Test Acc: 0.9390\n",
      "epoch: 3, Train Loss: 0.2824, Train Acc: 0.9332, Test Loss: 0.2265, Test Acc: 0.9468\n",
      "epoch: 4, Train Loss: 0.2413, Train Acc: 0.9413, Test Loss: 0.1950, Test Acc: 0.9524\n",
      "epoch: 5, Train Loss: 0.2215, Train Acc: 0.9467, Test Loss: 0.1937, Test Acc: 0.9520\n",
      "epoch: 6, Train Loss: 0.2172, Train Acc: 0.9464, Test Loss: 0.1900, Test Acc: 0.9539\n",
      "epoch: 7, Train Loss: 0.2162, Train Acc: 0.9468, Test Loss: 0.1881, Test Acc: 0.9534\n",
      "epoch: 8, Train Loss: 0.2132, Train Acc: 0.9486, Test Loss: 0.1860, Test Acc: 0.9544\n",
      "epoch: 9, Train Loss: 0.2096, Train Acc: 0.9484, Test Loss: 0.1832, Test Acc: 0.9551\n",
      "epoch: 10, Train Loss: 0.2086, Train Acc: 0.9492, Test Loss: 0.1812, Test Acc: 0.9542\n",
      "epoch: 11, Train Loss: 0.2088, Train Acc: 0.9490, Test Loss: 0.1824, Test Acc: 0.9538\n",
      "epoch: 12, Train Loss: 0.2078, Train Acc: 0.9491, Test Loss: 0.1839, Test Acc: 0.9543\n",
      "epoch: 13, Train Loss: 0.2072, Train Acc: 0.9497, Test Loss: 0.1835, Test Acc: 0.9534\n",
      "epoch: 14, Train Loss: 0.2069, Train Acc: 0.9499, Test Loss: 0.1826, Test Acc: 0.9545\n",
      "epoch: 15, Train Loss: 0.2070, Train Acc: 0.9496, Test Loss: 0.1822, Test Acc: 0.9544\n",
      "epoch: 16, Train Loss: 0.2076, Train Acc: 0.9496, Test Loss: 0.1836, Test Acc: 0.9545\n",
      "epoch: 17, Train Loss: 0.2070, Train Acc: 0.9496, Test Loss: 0.1819, Test Acc: 0.9543\n",
      "epoch: 18, Train Loss: 0.2073, Train Acc: 0.9496, Test Loss: 0.1818, Test Acc: 0.9535\n",
      "epoch: 19, Train Loss: 0.2083, Train Acc: 0.9487, Test Loss: 0.1821, Test Acc: 0.9537\n"
     ]
    }
   ],
   "source": [
    "# 开始训练\n",
    "losses = []\n",
    "acces = []\n",
    "eval_losses = []\n",
    "eval_acces = []\n",
    "\n",
    "\n",
    "# num_epoches\n",
    "for epoch in range(num_epoches):\n",
    "    train_loss = 0\n",
    "    train_acc = 0\n",
    "    model.train()\n",
    "    # 动态修改参数学习率\n",
    "    if epoch % 5 == 0:\n",
    "        optimizer.param_groups[0][\"lr\"] *= 0.1\n",
    "    for img, label in train_loader:\n",
    "        img = img.to(device)\n",
    "        label = label.to(device)\n",
    "        # 64 * 784\n",
    "        img = img.view(img.size(0), -1)\n",
    "        # 前向传播\n",
    "        out = model(img)\n",
    "        loss = criterion(out, label)\n",
    "        #         print(out.shape, loss)\n",
    "        # 反向传播\n",
    "        optimizer.zero_grad()\n",
    "        loss.backward()\n",
    "        optimizer.step()\n",
    "        # 记录误差\n",
    "        train_loss += loss.item()\n",
    "        # 计算分类的准确率\n",
    "        _, pred = out.max(1)\n",
    "        #         print(out.shape, loss, pred)\n",
    "        num_correct = (pred == label).sum().item()\n",
    "        acc = num_correct / img.shape[0]\n",
    "        train_acc += acc\n",
    "\n",
    "    losses.append(train_loss / len(train_loader))\n",
    "    acces.append(train_acc / len(train_loader))\n",
    "    # 在测试集上检验效果\n",
    "    eval_loss = 0\n",
    "    eval_acc = 0\n",
    "    # 将模型改为预测模式\n",
    "    model.eval()\n",
    "    for img, label in test_loader:\n",
    "        img = img.to(device)\n",
    "        label = label.to(device)\n",
    "        img = img.view(img.size(0), -1)\n",
    "        out = model(img)\n",
    "        loss = criterion(out, label)\n",
    "        # 记录误差\n",
    "        eval_loss += loss.item()\n",
    "        # 记录准确率\n",
    "        _, pred = out.max(1)\n",
    "        num_correct = (pred == label).sum().item()\n",
    "        acc = num_correct / img.shape[0]\n",
    "        eval_acc += acc\n",
    "\n",
    "    eval_losses.append(eval_loss / len(test_loader))\n",
    "    eval_acces.append(eval_acc / len(test_loader))\n",
    "    print(\n",
    "        \"epoch: {}, Train Loss: {:.4f}, Train Acc: {:.4f}, Test Loss: {:.4f}, Test Acc: {:.4f}\".format(\n",
    "            epoch,\n",
    "            train_loss / len(train_loader),\n",
    "            train_acc / len(train_loader),\n",
    "            eval_loss / len(test_loader),\n",
    "            eval_acc / len(test_loader),\n",
    "        )\n",
    "    )"
   ]
  },
  {
   "cell_type": "code",
   "execution_count": 15,
   "id": "1fc1fb17-ee4a-4f9c-beee-41b5b14e1a0a",
   "metadata": {},
   "outputs": [
    {
     "data": {
      "text/plain": [
       "<matplotlib.legend.Legend at 0x7fc1697aadd0>"
      ]
     },
     "execution_count": 15,
     "metadata": {},
     "output_type": "execute_result"
    },
    {
     "data": {
      "image/png": "[encoded data removed]",
      "text/plain": [
       "<Figure size 432x288 with 1 Axes>"
      ]
     },
     "metadata": {
      "needs_background": "light"
     },
     "output_type": "display_data"
    }
   ],
   "source": [
    "plt.title(\"train loss\")\n",
    "plt.plot(np.arange(len(losses)), losses)\n",
    "plt.legend([\"Train Loss\"], loc=\"upper right\")"
   ]
  },
  {
   "cell_type": "code",
   "execution_count": null,
   "id": "e08cda78-1838-446f-9077-0cfc1e431c99",
   "metadata": {},
   "outputs": [],
   "source": []
  },
  {
   "cell_type": "code",
   "execution_count": null,
   "id": "872c32b1-1a06-47bd-923e-1d320264d602",
   "metadata": {},
   "outputs": [],
   "source": []
  }
 ],
 "metadata": {
  "kernelspec": {
   "display_name": "Python 3 (ipykernel)",
   "language": "python",
   "name": "python3"
  },
  "language_info": {
   "codemirror_mode": {
    "name": "ipython",
    "version": 3
   },
   "file_extension": ".py",
   "mimetype": "text/x-python",
   "name": "python",
   "nbconvert_exporter": "python",
   "pygments_lexer": "ipython3",
   "version": "3.8.11"
  }
 },
 "nbformat": 4,
 "nbformat_minor": 5
}
