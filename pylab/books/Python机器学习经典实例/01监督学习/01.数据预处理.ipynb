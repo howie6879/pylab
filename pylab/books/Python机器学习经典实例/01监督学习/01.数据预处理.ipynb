{
 "cells": [
  {
   "cell_type": "code",
   "execution_count": 1,
   "metadata": {},
   "outputs": [],
   "source": [
    "import numpy as np\n",
    "\n",
    "from sklearn import preprocessing"
   ]
  },
  {
   "cell_type": "code",
   "execution_count": 2,
   "metadata": {},
   "outputs": [],
   "source": [
    "data = np.array([[3,  -1.5,  2,  -5.4], [0,    4,    -0.3,  2.1], [1,    3.3, -1.9, -4.3]])"
   ]
  },
  {
   "cell_type": "code",
   "execution_count": 3,
   "metadata": {},
   "outputs": [
    {
     "name": "stdout",
     "output_type": "stream",
     "text": [
      "\n",
      "Mean = [ 5.55111512e-17 -1.11022302e-16 -7.40148683e-17 -7.40148683e-17]\n",
      "Std deviation = [1. 1. 1. 1.]\n"
     ]
    }
   ],
   "source": [
    "# 均值移除（Mean removal）\n",
    "# 通常我们会把每个特征的平均值移除，以保证特征均值为0，标准差调整为1（即标准化处理）。这样做可以消除特征彼此间的偏差（bias）\n",
    "data_standardized = preprocessing.scale(data)\n",
    "\n",
    "print(\"\\nMean =\", data_standardized.mean(axis=0))\n",
    "print(\"Std deviation =\", data_standardized.std(axis=0))"
   ]
  },
  {
   "cell_type": "code",
   "execution_count": 4,
   "metadata": {},
   "outputs": [
    {
     "data": {
      "text/plain": [
       "array([[ 3. , -1.5,  2. , -5.4],\n",
       "       [ 0. ,  4. , -0.3,  2.1],\n",
       "       [ 1. ,  3.3, -1.9, -4.3]])"
      ]
     },
     "execution_count": 4,
     "metadata": {},
     "output_type": "execute_result"
    }
   ],
   "source": [
    "data"
   ]
  },
  {
   "cell_type": "code",
   "execution_count": 5,
   "metadata": {},
   "outputs": [
    {
     "data": {
      "text/plain": [
       "array([[ 1.33630621, -1.40451644,  1.29110641, -0.86687558],\n",
       "       [-1.06904497,  0.84543708, -0.14577008,  1.40111286],\n",
       "       [-0.26726124,  0.55907936, -1.14533633, -0.53423728]])"
      ]
     },
     "execution_count": 5,
     "metadata": {},
     "output_type": "execute_result"
    }
   ],
   "source": [
    "data_standardized"
   ]
  },
  {
   "cell_type": "code",
   "execution_count": null,
   "metadata": {},
   "outputs": [],
   "source": []
  }
 ],
 "metadata": {
  "kernelspec": {
   "display_name": "Python 3",
   "language": "python",
   "name": "python3"
  },
  "language_info": {
   "codemirror_mode": {
    "name": "ipython",
    "version": 3
   },
   "file_extension": ".py",
   "mimetype": "text/x-python",
   "name": "python",
   "nbconvert_exporter": "python",
   "pygments_lexer": "ipython3",
   "version": "3.6.7"
  }
 },
 "nbformat": 4,
 "nbformat_minor": 2
}
