{
 "cells": [
  {
   "cell_type": "code",
   "execution_count": 8,
   "metadata": {},
   "outputs": [],
   "source": [
    "import os\n",
    "\n",
    "import survey"
   ]
  },
  {
   "cell_type": "code",
   "execution_count": 9,
   "metadata": {},
   "outputs": [
    {
     "name": "stdout",
     "output_type": "stream",
     "text": [
      "Number of pregnancies 13593\n"
     ]
    }
   ],
   "source": [
    "# 习题1.3\n",
    "data_dir = os.getcwd()\n",
    "\n",
    "table = survey.Pregnancies()\n",
    "\n",
    "table.ReadRecords(data_dir)\n",
    "print('Number of pregnancies', len(table.records))"
   ]
  },
  {
   "cell_type": "code",
   "execution_count": 15,
   "metadata": {},
   "outputs": [],
   "source": [
    "\n",
    "firsts = survey.Pregnancies()\n",
    "others = survey.Pregnancies()\n",
    "\n",
    "for record in table.records:\n",
    "    if record.outcome != 1:\n",
    "        continue\n",
    "    if record.birthord == 1:\n",
    "        firsts.AddRecord(record)\n",
    "    else:\n",
    "        others.AddRecord(record)"
   ]
  },
  {
   "cell_type": "code",
   "execution_count": 17,
   "metadata": {},
   "outputs": [
    {
     "data": {
      "text/plain": [
       "4413"
      ]
     },
     "execution_count": 17,
     "metadata": {},
     "output_type": "execute_result"
    }
   ],
   "source": [
    "len(firsts.records)"
   ]
  },
  {
   "cell_type": "code",
   "execution_count": 19,
   "metadata": {},
   "outputs": [],
   "source": [
    "def Mean(t):\n",
    "    \"\"\"Computes the mean of a sequence of numbers.\n",
    "\n",
    "    Args:\n",
    "        t: sequence of numbers\n",
    "\n",
    "    Returns:\n",
    "        float\n",
    "    \"\"\"\n",
    "    return float(sum(t)) / len(t)\n",
    "\n",
    "def Process(table):\n",
    "    \"\"\"Runs analysis on the given table.\n",
    "    \n",
    "    Args:\n",
    "        table: table object\n",
    "    \"\"\"\n",
    "    # 怀孕周期 prglength\n",
    "    table.lengths = [p.prglength for p in table.records]\n",
    "    table.n = len(table.lengths)\n",
    "    table.mu = Mean(table.lengths)\n",
    "\n",
    "def ProcessTables(*tables):\n",
    "    \"\"\"Processes a list of tables\n",
    "    \n",
    "    Args:\n",
    "        tables: gathered argument tuple of Tuples\n",
    "    \"\"\"\n",
    "    for table in tables:\n",
    "        Process(table)"
   ]
  },
  {
   "cell_type": "code",
   "execution_count": 20,
   "metadata": {},
   "outputs": [],
   "source": [
    "def Summarize(table, firsts, others):\n",
    "    \"\"\"Prints summary statistics for first babies and others.\n",
    "    \n",
    "    Returns:\n",
    "        tuple of Tables\n",
    "    \"\"\"\n",
    "    ProcessTables(firsts, others)\n",
    "        \n",
    "    print('Number of first babies', firsts.n)\n",
    "    print('Number of others', others.n)\n",
    "\n",
    "    mu1, mu2 = firsts.mu, others.mu\n",
    "\n",
    "    print('Mean gestation in weeks:' )\n",
    "    print('First babies', mu1 )\n",
    "    print('Others', mu2)\n",
    "    \n",
    "    print('Difference in days', (mu1 - mu2) * 7.0)"
   ]
  },
  {
   "cell_type": "code",
   "execution_count": 22,
   "metadata": {},
   "outputs": [
    {
     "name": "stdout",
     "output_type": "stream",
     "text": [
      "Number of first babies 4413\n",
      "Number of others 4735\n",
      "Mean gestation in weeks:\n",
      "First babies 38.60095173351461\n",
      "Others 38.52291446673706\n",
      "Difference in days 0.5462608674428466\n"
     ]
    }
   ],
   "source": [
    "Summarize(table, firsts, others)"
   ]
  },
  {
   "cell_type": "code",
   "execution_count": 23,
   "metadata": {},
   "outputs": [
    {
     "data": {
      "text/plain": [
       "13.11026081862832"
      ]
     },
     "execution_count": 23,
     "metadata": {},
     "output_type": "execute_result"
    }
   ],
   "source": [
    "0.5462608674428466 * 24"
   ]
  }
 ],
 "metadata": {
  "kernelspec": {
   "display_name": "Python 3",
   "language": "python",
   "name": "python3"
  },
  "language_info": {
   "codemirror_mode": {
    "name": "ipython",
    "version": 3
   },
   "file_extension": ".py",
   "mimetype": "text/x-python",
   "name": "python",
   "nbconvert_exporter": "python",
   "pygments_lexer": "ipython3",
   "version": "3.6.7"
  },
  "toc-showmarkdowntxt": false
 },
 "nbformat": 4,
 "nbformat_minor": 2
}
