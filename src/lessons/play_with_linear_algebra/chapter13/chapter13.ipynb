{
 "cells": [
  {
   "cell_type": "markdown",
   "id": "e7dc3000-7fbe-45fa-86d3-66785b288f3f",
   "metadata": {},
   "source": [
    "# 特征值与特征向量\n",
    "\n",
    "## 概念\n",
    "\n",
    "特征值与特征向量也是方阵的属性，描述方阵的`特征`，对于一个矩阵：\n",
    "\n",
    "$$\n",
    "A=\\left(\\begin{array}{cc}\n",
    "4 & -2 \\\\\n",
    "1 & 1\n",
    "\\end{array}\\right)\n",
    "$$\n",
    "\n",
    "可以理解成一组表示二维空间的基\n",
    "可以表示为这个基所对应的坐标系相应的坐标转换矩阵\n",
    "\n",
    "[矩阵乘法的5种视角](https://blog.csdn.net/m0_37870649/article/details/118140060)\n",
    "\n",
    "$$\n",
    "\\begin{array}{l}\n",
    "A=\\left(\\begin{array}{cc}\n",
    "4 & -2 \\\\\n",
    "1 & 1\n",
    "\\end{array}\\right) \\\\\n",
    "A \\vec{u}=\\lambda \\vec{u} \\\\\n",
    "\\lambda \\text { 称为A的特征值(eigenvalue) } \\\\\n",
    "\\vec{u} \\text { 称为A对应于 } \\lambda \\text { 的特征向量(eigenvector). }\n",
    "\\end{array}\n",
    "$$\n",
    "\n",
    "求解特征值和特征向量：$A \\vec{u}=\\lambda \\vec{u}$，由于零向量肯定满足，称为**平凡解**，所以特征向量不考虑零向量，但是$A \\vec{u}=0$不平凡。\n",
    "\n",
    "$$\n",
    "\\text { 求解特征值和特征向量 } \\quad A \\vec{u}=\\lambda \\vec{u} \\quad \\operatorname{det}(A-\\lambda I)=0\n",
    "$$\n",
    "\n",
    "## 性质\n",
    "\n",
    "<img style=\"margin-left:25%\" src=\"https://gitee.com/howie6879/oss/raw/master/uPic/Qm8jHV.png\" width=\"50%\">"
   ]
  },
  {
   "cell_type": "code",
   "execution_count": null,
   "id": "bb99ca43-11d9-450d-acd0-a46f7ffab9c7",
   "metadata": {},
   "outputs": [],
   "source": []
  }
 ],
 "metadata": {
  "kernelspec": {
   "display_name": "Python 3 (ipykernel)",
   "language": "python",
   "name": "python3"
  },
  "language_info": {
   "codemirror_mode": {
    "name": "ipython",
    "version": 3
   },
   "file_extension": ".py",
   "mimetype": "text/x-python",
   "name": "python",
   "nbconvert_exporter": "python",
   "pygments_lexer": "ipython3",
   "version": "3.7.12"
  },
  "toc-autonumbering": false
 },
 "nbformat": 4,
 "nbformat_minor": 5
}
