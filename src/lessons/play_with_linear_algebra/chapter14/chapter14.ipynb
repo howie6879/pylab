{
 "cells": [
  {
   "cell_type": "markdown",
   "id": "2f88f196-74d8-4166-8987-1bae943c1cae",
   "metadata": {},
   "source": [
    "# 对称矩阵与矩阵的SVD分解"
   ]
  }
 ],
 "metadata": {
  "kernelspec": {
   "display_name": "Python 3 (ipykernel)",
   "language": "python",
   "name": "python3"
  },
  "language_info": {
   "codemirror_mode": {
    "name": "ipython",
    "version": 3
   },
   "file_extension": ".py",
   "mimetype": "text/x-python",
   "name": "python",
   "nbconvert_exporter": "python",
   "pygments_lexer": "ipython3",
   "version": "3.7.12"
  }
 },
 "nbformat": 4,
 "nbformat_minor": 5
}
