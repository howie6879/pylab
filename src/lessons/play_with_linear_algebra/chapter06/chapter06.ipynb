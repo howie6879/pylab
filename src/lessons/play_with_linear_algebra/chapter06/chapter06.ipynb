{
 "cells": [
  {
   "cell_type": "markdown",
   "id": "a76798ba-2b54-4724-bb07-8b76dbf9932d",
   "metadata": {},
   "source": [
    "# 线性系统\n",
    "\n",
    "> 有n个未知数，都是一次项\n",
    "\n",
    "怎么解线性系统：消元法：\n",
    "- 高斯消元法\n",
    "- 高斯-约旦消元法"
   ]
  },
  {
   "cell_type": "code",
   "execution_count": 1,
   "id": "eb7632e6-d3d2-4e1e-a368-8eec50704d0b",
   "metadata": {},
   "outputs": [],
   "source": [
    "from src.linear_system import LinearSystem\n",
    "from src.matrix import Matrix\n",
    "from src.vector import Vector"
   ]
  },
  {
   "cell_type": "code",
   "execution_count": 2,
   "id": "c8b9ee1b-1815-4233-b4e4-8e51f36094fc",
   "metadata": {},
   "outputs": [
    {
     "name": "stdout",
     "output_type": "stream",
     "text": [
      "1.0 0.0 6.29126380620922e-16 | -0.9999999999999991\n",
      "0.0 1.0 -2.220446049250313e-16 | -2.0000000000000004\n",
      "0.0 0.0 0.9999999999999999 | 2.999999999999999\n"
     ]
    }
   ],
   "source": [
    "A = Matrix([[1, 2, 4], [3, 7, 2], [2, 3, 3]])\n",
    "b = Vector([7, -11, 1])\n",
    "ls = LinearSystem(A, b)\n",
    "ls.gauss_jordan_elimination()\n",
    "ls.fancy_print()"
   ]
  },
  {
   "cell_type": "code",
   "execution_count": 5,
   "id": "1adf7ba0-4350-48ec-a6fe-7fe4aa95764d",
   "metadata": {},
   "outputs": [
    {
     "data": {
      "text/plain": [
       "[8, 7, 6, 5, 4, 3, 2, 1, 0]"
      ]
     },
     "execution_count": 5,
     "metadata": {},
     "output_type": "execute_result"
    }
   ],
   "source": [
    "list(range(9 - 1, -1, -1))"
   ]
  },
  {
   "cell_type": "markdown",
   "id": "ef118139-a3ee-46a7-a2f2-25da5139e7ea",
   "metadata": {},
   "source": [
    "## 线性方程组\n",
    "\n",
    "首先判断是否有解，标准是：行最简形式A非零行<行最简形式Ab非零行则无解，反之根据如下情况判别：\n",
    "\n",
    "<img style=\"margin-left:25%\" src=\"https://gitee.com/howie6879/oss/raw/master/uPic/jvWQsE.png\" width=\"50%\">"
   ]
  },
  {
   "cell_type": "markdown",
   "id": "dc93c77d-af72-4af2-a736-de55e5bc44f4",
   "metadata": {},
   "source": [
    "## 齐次线性方程组\n",
    "\n",
    "齐次线性方程组指的是常数项全部为零的线性方程组，如果m<n(行数小于列数，即未知数的数量大于所给方程组数），则齐次线性方程组有非零解，否则为全零解。"
   ]
  },
  {
   "cell_type": "code",
   "execution_count": null,
   "id": "e4971d3a-2ed2-4529-af1d-ede28337f061",
   "metadata": {},
   "outputs": [],
   "source": []
  }
 ],
 "metadata": {
  "kernelspec": {
   "display_name": "Python 3 (ipykernel)",
   "language": "python",
   "name": "python3"
  },
  "language_info": {
   "codemirror_mode": {
    "name": "ipython",
    "version": 3
   },
   "file_extension": ".py",
   "mimetype": "text/x-python",
   "name": "python",
   "nbconvert_exporter": "python",
   "pygments_lexer": "ipython3",
   "version": "3.7.12"
  }
 },
 "nbformat": 4,
 "nbformat_minor": 5
}
