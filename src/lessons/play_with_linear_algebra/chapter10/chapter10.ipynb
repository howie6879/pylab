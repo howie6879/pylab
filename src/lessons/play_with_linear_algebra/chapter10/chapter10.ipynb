{
 "cells": [
  {
   "cell_type": "markdown",
   "id": "923fddcb-fb70-4d42-a61e-d25089f5e9d4",
   "metadata": {},
   "source": [
    "# 正交性，标准正交矩阵和投影\n",
    "\n",
    "## 正交基和标准正交基\n",
    "\n",
    "对于：\n",
    "\n",
    "$$\n",
    "\\vec{u} \\cdot \\vec{v}=u_{1} \\cdot v_{1}+u_{2} \\cdot v_{2}+\\ldots+u_{n} \\cdot v_{n}=\\|\\vec{u}\\| \\cdot\\|\\vec{v}\\| \\cdot \\cos \\theta\n",
    "$$\n",
    "\n",
    "如果$\\vec{u} \\cdot \\vec{v} = 0$，两个向量互相垂直，称两个向量正交。\n",
    "\n",
    "- 正交向量组：一组向量两两正交，**正交非零向量组一定线性无关**\n",
    "- 正交基：如果一个空间的一组基两两正交，则称这组基为一组正交基\n",
    "- 标准正交基：如果一个空间的一组正交基，模均为1，则称这组基是一组标准正交基\n",
    "\n",
    "## 一维投影\n",
    "\n",
    "如果给定一个空间的一组基，怎么进一步求出空间的标准正交基。\n",
    "\n",
    "首先回顾一下计算向量对应的标准单位向量：\n",
    "\n",
    "$$\n",
    "\\hat{u}=\\frac{1}{\\|\\vec{u}\\|} \\cdot \\vec{u}=\\left(\\frac{u_{1}}{|| \\vec{u} \\|}, \\frac{u_{2}}{|| \\vec{u} \\|}, \\ldots, \\frac{u_{n}}{|| \\bar{u}||}\\right)\n",
    "$$\n",
    "\n",
    "以一维投影角度出发：\n",
    "\n",
    "<img style=\"margin-left:25%\" src=\"https://gitee.com/howie6879/oss/raw/master/uPic/AyQ4kr.png\" width=\"50%\">\n",
    "\n",
    "## 高维投影和Gram-Schmidt过程\n",
    "\n",
    "<img style=\"margin-left:25%\" src=\"https://gitee.com/howie6879/oss/raw/master/uPic/riK1jK.png\" width=\"50%\">"
   ]
  },
  {
   "cell_type": "code",
   "execution_count": 3,
   "id": "115e20e8-0b41-4ef5-98c1-c90cb3ff19e2",
   "metadata": {},
   "outputs": [],
   "source": [
    "from src.gram_schmidt_process import gram_schmidt_process\n",
    "from src.vector import Vector"
   ]
  },
  {
   "cell_type": "code",
   "execution_count": 4,
   "id": "ff3d9267-8316-42cb-a12e-8ba6f900a247",
   "metadata": {},
   "outputs": [
    {
     "name": "stdout",
     "output_type": "stream",
     "text": [
      "(2, 1)\n",
      "(-0.19999999999999996, 0.4)\n",
      "(0.8944271909999159, 0.4472135954999579)\n",
      "(-0.44721359549995787, 0.894427190999916)\n",
      "1.1102230246251565e-16\n"
     ]
    }
   ],
   "source": [
    "basis1 = [Vector([2, 1]), Vector([1, 1])]\n",
    "res1 = gram_schmidt_process(basis1)\n",
    "for row in res1:\n",
    "    print(row)\n",
    "\n",
    "res1 = [row / row.norm() for row in res1]\n",
    "for row in res1:\n",
    "    print(row)\n",
    "print(res1[0].dot(res1[1]))"
   ]
  },
  {
   "cell_type": "markdown",
   "id": "db564589-986d-48c5-88b0-81cd5bd64bda",
   "metadata": {},
   "source": [
    "## 标准正交矩阵\n",
    "\n",
    "### 定义\n",
    "\n",
    "一组$n$维标准正交基：$\\vec{v}_{1}, \\vec{v}_{2}, \\vec{v}_{3}, \\ldots, \\vec{v}_{n}$，按照列的形式排成一个$n$阶方阵$Q$，称$Q$为标准正交矩阵。\n",
    "\n",
    "### 性质\n",
    "\n",
    "<img style=\"margin-left:25%\" src=\"https://gitee.com/howie6879/oss/raw/master/uPic/eAbQqN.png\" width=\"50%\">\n",
    "\n",
    "- 各列线性无关\n",
    "- $Q^{-1} = Q^{T}$\n",
    "- $Q^{T} \\cdot Q=I$\n",
    "\n",
    "证明如下：\n",
    "\n",
    "$$\n",
    "Q^{T} \\cdot Q=\\left(\\begin{array}{c}\n",
    "\\vec{v}_{1} \\\\\n",
    "\\vec{v}_{2} \\\\\n",
    "\\ldots \\\\\n",
    "\\vec{v}_{n}\n",
    "\\end{array}\\right)\\left(\\begin{array}{llll}\n",
    "\\vec{v}_{1} & \\vec{v}_{2} & \\ldots & \\vec{v}_{n}\n",
    "\\end{array}\\right)=\\left(\\begin{array}{cccc}\n",
    "\\vec{v}_{1} \\cdot \\vec{v}_{1} & \\vec{v}_{1} \\cdot \\vec{v}_{2} & \\ldots & \\vec{v}_{1} \\cdot \\vec{v}_{n} \\\\\n",
    "\\vec{v}_{2} \\cdot \\vec{v}_{1} & \\vec{v}_{2} \\cdot \\vec{v}_{2} & \\ldots & \\vec{v}_{2} \\cdot \\vec{v}_{n} \\\\\n",
    "\\ldots & \\ldots & & \\ldots \\\\\n",
    "\\vec{v}_{n} \\cdot \\vec{v}_{1} & \\vec{v}_{n} \\cdot \\vec{v}_{2} & \\ldots & \\vec{v}_{n} \\cdot \\vec{v}_{n}\n",
    "\\end{array}\\right)\n",
    "$$\n"
   ]
  },
  {
   "cell_type": "markdown",
   "id": "af969db4-366c-4526-bfa0-c8670d3699d8",
   "metadata": {},
   "source": [
    "## 矩阵的QR分解\n",
    "\n",
    "$A=Q R$，其中：\n",
    "- $Q$：标准正交矩阵\n",
    "- $R$：上三角矩阵"
   ]
  },
  {
   "cell_type": "code",
   "execution_count": null,
   "id": "10c6dfc8-6a79-4f5a-aa0a-86e27afe6618",
   "metadata": {},
   "outputs": [],
   "source": []
  }
 ],
 "metadata": {
  "kernelspec": {
   "display_name": "Python 3 (ipykernel)",
   "language": "python",
   "name": "python3"
  },
  "language_info": {
   "codemirror_mode": {
    "name": "ipython",
    "version": 3
   },
   "file_extension": ".py",
   "mimetype": "text/x-python",
   "name": "python",
   "nbconvert_exporter": "python",
   "pygments_lexer": "ipython3",
   "version": "3.7.12"
  }
 },
 "nbformat": 4,
 "nbformat_minor": 5
}
