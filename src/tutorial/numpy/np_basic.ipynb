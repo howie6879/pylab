{
 "cells": [
  {
   "cell_type": "markdown",
   "id": "2585c19b-3324-4925-849c-14fe1a0995c3",
   "metadata": {},
   "source": [
    "## NumPy 使用记录\n",
    "\n",
    "NumPy提供了两种基本的对象：\n",
    "- ndarray（N-dimensional array object）：存储单一数据类型的多维数组，快速和节省空间的多维数组，提供数组化的算术运算和高级的广播功能\n",
    "- ufunc（universal function object）：能够对数组进行处理的函数\n",
    "\n",
    "资料：\n",
    "- [官网](https://numpy.org/)\n",
    "- [中文教程](https://www.numpy.org.cn/user/setting-up.html#%E4%BB%80%E4%B9%88%E6%98%AF-numpy)\n",
    "- [NumPy基础](http://www.feiguyunai.com/index.php/2020/11/24/python-dl-baseon-pytorch-01/)\n",
    "\n",
    "知识点：\n",
    "- 如何生成NumPy数组\n",
    "- 如何存取元素\n",
    "- NumPy的算术运算\n",
    "- 数组变形\n",
    "- 批量处理\n",
    "- NumPy的通用函数\n",
    "- NumPy的广播机制"
   ]
  },
  {
   "cell_type": "code",
   "execution_count": 2,
   "id": "916e72b5-2292-4901-83cf-e79a211c4a16",
   "metadata": {},
   "outputs": [],
   "source": [
    "import numpy as np"
   ]
  },
  {
   "cell_type": "markdown",
   "id": "df4f5a47-0c5f-431c-bbe7-6fab924e4adc",
   "metadata": {},
   "source": [
    "### 创建数组\n",
    "\n",
    "- 已有数据转化\n",
    "- 自动生成-random\n",
    "- 特殊矩阵：创建特定形状的多维数组\n",
    "- 利用 arange、linspace 函数生成数组"
   ]
  },
  {
   "cell_type": "markdown",
   "id": "e7d419d3-d58a-46df-a3db-b277ed3985ba",
   "metadata": {},
   "source": [
    "#### 已有数据转化"
   ]
  },
  {
   "cell_type": "code",
   "execution_count": 8,
   "id": "dea129f1-4393-437a-bc9d-98e786b1751f",
   "metadata": {},
   "outputs": [
    {
     "data": {
      "text/plain": [
       "(array([3.14, 2.17, 0.  , 1.  , 2.  ]), numpy.ndarray)"
      ]
     },
     "execution_count": 8,
     "metadata": {},
     "output_type": "execute_result"
    }
   ],
   "source": [
    "lst1 = [3.14, 2.17, 0, 1, 2]\n",
    "nd1 = np.array(lst1)\n",
    "nd1, type(nd1)"
   ]
  },
  {
   "cell_type": "code",
   "execution_count": 7,
   "id": "ee66297f-5667-4402-9255-cdc07f7d9937",
   "metadata": {},
   "outputs": [
    {
     "data": {
      "text/plain": [
       "(array([[3.14, 2.17, 0.  , 1.  , 2.  ],\n",
       "        [1.  , 2.  , 3.  , 4.  , 5.  ]]),\n",
       " numpy.ndarray)"
      ]
     },
     "execution_count": 7,
     "metadata": {},
     "output_type": "execute_result"
    }
   ],
   "source": [
    "lst2 = [[3.14, 2.17, 0, 1, 2], [1, 2, 3, 4, 5]]\n",
    "nd2 = np.array(lst2)\n",
    "nd2, type(nd2)"
   ]
  },
  {
   "cell_type": "markdown",
   "id": "114e9f8f-dae8-4c73-aa45-34600bfe5b50",
   "metadata": {},
   "source": [
    "#### 自动生成-random"
   ]
  },
  {
   "cell_type": "code",
   "execution_count": 9,
   "id": "5c905ef0-a966-4e63-ba6e-7ee7612c8ee4",
   "metadata": {},
   "outputs": [
    {
     "data": {
      "text/plain": [
       "(array([[0.66659304, 0.5423808 , 0.84951372],\n",
       "        [0.26298347, 0.42253167, 0.65971227],\n",
       "        [0.3453606 , 0.5414275 , 0.18585181]]),\n",
       " (3, 3))"
      ]
     },
     "execution_count": 9,
     "metadata": {},
     "output_type": "execute_result"
    }
   ],
   "source": [
    "nd3 = np.random.random([3, 3])\n",
    "nd3, nd3.shape"
   ]
  },
  {
   "cell_type": "code",
   "execution_count": 16,
   "id": "d089f3a9-fcbc-43e3-9713-7dce504b51cf",
   "metadata": {},
   "outputs": [
    {
     "name": "stdout",
     "output_type": "stream",
     "text": [
      "[[-1.0856306   0.99734545  0.2829785 ]\n",
      " [-1.50629471 -0.57860025  1.65143654]]\n",
      "随机打乱后数据:\n",
      "[[-1.50629471 -0.57860025  1.65143654]\n",
      " [-1.0856306   0.99734545  0.2829785 ]]\n",
      "<class 'numpy.ndarray'>\n"
     ]
    }
   ],
   "source": [
    "np.random.seed(123)\n",
    "nd4 = np.random.randn(2, 3)\n",
    "print(nd4)\n",
    "np.random.shuffle(nd4)\n",
    "print(\"随机打乱后数据:\")\n",
    "print(nd4)\n",
    "print(type(nd4))"
   ]
  },
  {
   "cell_type": "markdown",
   "id": "1f3feb06-4222-4f06-8323-5d3371f5ec68",
   "metadata": {},
   "source": [
    "#### 特殊矩阵"
   ]
  },
  {
   "cell_type": "code",
   "execution_count": 17,
   "id": "97927b7b-7ee7-4d6c-a1ac-d7772d117664",
   "metadata": {},
   "outputs": [
    {
     "name": "stdout",
     "output_type": "stream",
     "text": [
      "[[0. 0. 0.]\n",
      " [0. 0. 0.]\n",
      " [0. 0. 0.]]\n",
      "[[1. 1. 1.]\n",
      " [1. 1. 1.]\n",
      " [1. 1. 1.]]\n",
      "[[1. 0. 0.]\n",
      " [0. 1. 0.]\n",
      " [0. 0. 1.]]\n",
      "[[1 0 0]\n",
      " [0 2 0]\n",
      " [0 0 3]]\n"
     ]
    }
   ],
   "source": [
    "# 生成全是 0 的 3x3 矩阵\n",
    "nd5 = np.zeros([3, 3])\n",
    "# 生成与nd5形状一样的全0矩阵\n",
    "# np.zeros_like(nd5)\n",
    "# 生成全是 1 的 3x3 矩阵\n",
    "nd6 = np.ones([3, 3])\n",
    "# 生成 3 阶的单位矩阵\n",
    "nd7 = np.eye(3)\n",
    "# 生成 3 阶对角矩阵\n",
    "nd8 = np.diag([1, 2, 3])\n",
    "\n",
    "print(nd5)\n",
    "print(nd6)\n",
    "print(nd7)\n",
    "print(nd8)"
   ]
  },
  {
   "cell_type": "markdown",
   "id": "52eb1bdb-4e53-452d-b1a5-8e8c95d5623c",
   "metadata": {},
   "source": [
    "#### arange、linspace 函数"
   ]
  },
  {
   "cell_type": "code",
   "execution_count": 18,
   "id": "461b1ef6-579b-4c81-b570-a021d3b4815e",
   "metadata": {},
   "outputs": [
    {
     "data": {
      "text/plain": [
       "array([1. , 1.5, 2. , 2.5, 3. , 3.5])"
      ]
     },
     "execution_count": 18,
     "metadata": {},
     "output_type": "execute_result"
    }
   ],
   "source": [
    "np.arange(1, 4, 0.5)"
   ]
  },
  {
   "cell_type": "code",
   "execution_count": 19,
   "id": "acd9ae7e-c159-46b9-b86e-8be08ef48e4c",
   "metadata": {},
   "outputs": [
    {
     "data": {
      "text/plain": [
       "array([9, 8, 7, 6, 5, 4, 3, 2, 1, 0])"
      ]
     },
     "execution_count": 19,
     "metadata": {},
     "output_type": "execute_result"
    }
   ],
   "source": [
    "np.arange(9, -1, -1)"
   ]
  },
  {
   "cell_type": "code",
   "execution_count": 20,
   "id": "1714f885-18eb-49ab-b996-c7c29e8a8a4c",
   "metadata": {},
   "outputs": [
    {
     "data": {
      "text/plain": [
       "array([0.        , 0.11111111, 0.22222222, 0.33333333, 0.44444444,\n",
       "       0.55555556, 0.66666667, 0.77777778, 0.88888889, 1.        ])"
      ]
     },
     "execution_count": 20,
     "metadata": {},
     "output_type": "execute_result"
    }
   ],
   "source": [
    "np.linspace(0, 1, 10)"
   ]
  },
  {
   "cell_type": "markdown",
   "id": "d7959c8c-69f8-4a93-be62-3011904a2ff3",
   "metadata": {},
   "source": [
    "### 获取数据"
   ]
  },
  {
   "cell_type": "code",
   "execution_count": 28,
   "id": "40077ba8-e532-4688-914b-30cb7ff858a5",
   "metadata": {},
   "outputs": [
    {
     "data": {
      "text/plain": [
       "array([0, 1, 2, 3, 4, 5, 6, 7, 8, 9])"
      ]
     },
     "execution_count": 28,
     "metadata": {},
     "output_type": "execute_result"
    }
   ],
   "source": [
    "np.random.seed(2019)\n",
    "nd11 = np.arange(0, 10, 1)\n",
    "nd11"
   ]
  },
  {
   "cell_type": "code",
   "execution_count": 29,
   "id": "2ae0e223-84e4-4012-8767-b6573d7a9a48",
   "metadata": {},
   "outputs": [
    {
     "data": {
      "text/plain": [
       "3"
      ]
     },
     "execution_count": 29,
     "metadata": {},
     "output_type": "execute_result"
    }
   ],
   "source": [
    "# 获取指定位置的数据，获取第4个元素\n",
    "nd11[3]"
   ]
  },
  {
   "cell_type": "code",
   "execution_count": 30,
   "id": "183ddb98-bf05-4bb8-bb66-b23a7e90aba6",
   "metadata": {},
   "outputs": [
    {
     "data": {
      "text/plain": [
       "array([3, 4, 5])"
      ]
     },
     "execution_count": 30,
     "metadata": {},
     "output_type": "execute_result"
    }
   ],
   "source": [
    "# 截取一段数据\n",
    "nd11[3:6]"
   ]
  },
  {
   "cell_type": "code",
   "execution_count": 31,
   "id": "71b5afeb-e585-4347-930b-32ed507cd3df",
   "metadata": {},
   "outputs": [
    {
     "data": {
      "text/plain": [
       "array([1, 3, 5])"
      ]
     },
     "execution_count": 31,
     "metadata": {},
     "output_type": "execute_result"
    }
   ],
   "source": [
    "# 截取固定间隔数据\n",
    "nd11[1:6:2]"
   ]
  },
  {
   "cell_type": "code",
   "execution_count": 32,
   "id": "2f54592b-74bd-495f-b580-90d7917511ce",
   "metadata": {},
   "outputs": [
    {
     "data": {
      "text/plain": [
       "array([9, 7, 5, 3, 1])"
      ]
     },
     "execution_count": 32,
     "metadata": {},
     "output_type": "execute_result"
    }
   ],
   "source": [
    "# 倒序取数\n",
    "nd11[::-2]"
   ]
  },
  {
   "cell_type": "code",
   "execution_count": 33,
   "id": "262cffe5-b37c-4ba8-ad37-cfbd61d666d4",
   "metadata": {},
   "outputs": [
    {
     "data": {
      "text/plain": [
       "array([[ 0,  1,  2,  3,  4],\n",
       "       [ 5,  6,  7,  8,  9],\n",
       "       [10, 11, 12, 13, 14],\n",
       "       [15, 16, 17, 18, 19],\n",
       "       [20, 21, 22, 23, 24]])"
      ]
     },
     "execution_count": 33,
     "metadata": {},
     "output_type": "execute_result"
    }
   ],
   "source": [
    "# 截取一个多维数组的一个区域内数据\n",
    "nd12 = np.arange(25).reshape([5, 5])\n",
    "nd12"
   ]
  },
  {
   "cell_type": "code",
   "execution_count": 34,
   "id": "792b7b43-5aef-4167-a90d-764ff9a3f9f1",
   "metadata": {},
   "outputs": [
    {
     "data": {
      "text/plain": [
       "array([[ 6,  7],\n",
       "       [11, 12]])"
      ]
     },
     "execution_count": 34,
     "metadata": {},
     "output_type": "execute_result"
    }
   ],
   "source": [
    "nd12[1:3, 1:3]"
   ]
  },
  {
   "cell_type": "code",
   "execution_count": 35,
   "id": "f052194f-dcce-48bf-a10c-dec0567c304e",
   "metadata": {},
   "outputs": [
    {
     "data": {
      "text/plain": [
       "array([4, 5, 6, 7, 8, 9])"
      ]
     },
     "execution_count": 35,
     "metadata": {},
     "output_type": "execute_result"
    }
   ],
   "source": [
    "# 截取一个多维数组中，数值在一个值域之内的数据\n",
    "nd12[(nd12 > 3) & (nd12 < 10)]"
   ]
  },
  {
   "cell_type": "code",
   "execution_count": 36,
   "id": "9f56368a-e40a-4362-b089-1d1f8e372c8e",
   "metadata": {},
   "outputs": [
    {
     "data": {
      "text/plain": [
       "array([[ 5,  6,  7,  8,  9],\n",
       "       [10, 11, 12, 13, 14]])"
      ]
     },
     "execution_count": 36,
     "metadata": {},
     "output_type": "execute_result"
    }
   ],
   "source": [
    "# 截取多维数组中，指定的行,如读取第2,3行\n",
    "nd12[[1, 2]]"
   ]
  },
  {
   "cell_type": "code",
   "execution_count": 38,
   "id": "14e35750-5326-4877-9514-babf0631a312",
   "metadata": {},
   "outputs": [
    {
     "data": {
      "text/plain": [
       "array([[ 1,  2],\n",
       "       [ 6,  7],\n",
       "       [11, 12],\n",
       "       [16, 17],\n",
       "       [21, 22]])"
      ]
     },
     "execution_count": 38,
     "metadata": {},
     "output_type": "execute_result"
    }
   ],
   "source": [
    "# 截取多维数组中，指定的列,如读取第2,3列\n",
    "nd12[:, 1:3]"
   ]
  },
  {
   "cell_type": "code",
   "execution_count": 39,
   "id": "24876b11-0758-423f-b13e-665cfc0c87eb",
   "metadata": {},
   "outputs": [
    {
     "data": {
      "text/plain": [
       "array([ 1.,  2.,  3.,  4.,  5.,  6.,  7.,  8.,  9., 10., 11., 12., 13.,\n",
       "       14., 15., 16., 17., 18., 19., 20., 21., 22., 23., 24.])"
      ]
     },
     "execution_count": 39,
     "metadata": {},
     "output_type": "execute_result"
    }
   ],
   "source": [
    "a = np.arange(1, 25, dtype=float)\n",
    "a"
   ]
  },
  {
   "cell_type": "code",
   "execution_count": 41,
   "id": "410e61a9-773c-4957-812e-07fd1e9968a9",
   "metadata": {},
   "outputs": [],
   "source": [
    "c1 = np.random.choice(a, size=(3, 4))  # size指定输出数组形状\n",
    "c2 = np.random.choice(a, size=(3, 4), replace=False)  # replace缺省为True，即可重复抽取"
   ]
  },
  {
   "cell_type": "markdown",
   "id": "b0ac30ff-78c9-4b60-94f8-bfbf1902858c",
   "metadata": {},
   "source": [
    "### NumPy的算术运算\n",
    "- 对应元素相乘\n",
    "- 点积运算"
   ]
  },
  {
   "cell_type": "code",
   "execution_count": 44,
   "id": "589a77d4-cfb5-4970-9037-79eacecd206c",
   "metadata": {},
   "outputs": [],
   "source": [
    "A = np.array([[1, 2], [-1, 4]])\n",
    "B = np.array([[2, 0], [3, 4]])"
   ]
  },
  {
   "cell_type": "code",
   "execution_count": 45,
   "id": "63610b0b-6209-49ba-84af-13e3bfc40d6e",
   "metadata": {},
   "outputs": [
    {
     "data": {
      "text/plain": [
       "(array([[ 1,  2],\n",
       "        [-1,  4]]),\n",
       " array([[2, 0],\n",
       "        [3, 4]]))"
      ]
     },
     "execution_count": 45,
     "metadata": {},
     "output_type": "execute_result"
    }
   ],
   "source": [
    "A, B"
   ]
  },
  {
   "cell_type": "code",
   "execution_count": 47,
   "id": "d97c3af0-292f-4ac2-ae6c-83134e7e2dbc",
   "metadata": {},
   "outputs": [
    {
     "data": {
      "text/plain": [
       "(array([[ 2,  0],\n",
       "        [-3, 16]]),\n",
       " array([[ 2,  0],\n",
       "        [-3, 16]]))"
      ]
     },
     "execution_count": 47,
     "metadata": {},
     "output_type": "execute_result"
    }
   ],
   "source": [
    "A * B, np.multiply(A, B)"
   ]
  },
  {
   "cell_type": "code",
   "execution_count": 48,
   "id": "1c7fa4a7-553f-41e3-971b-2b51288841b5",
   "metadata": {},
   "outputs": [
    {
     "data": {
      "text/plain": [
       "array([[ 8,  8],\n",
       "       [10, 16]])"
      ]
     },
     "execution_count": 48,
     "metadata": {},
     "output_type": "execute_result"
    }
   ],
   "source": [
    "# 1*2 + 2*3,  1*0 + 2*4\n",
    "# -1*2 + 4*3, -1*0 + 4*4\n",
    "np.dot(A, B)"
   ]
  },
  {
   "cell_type": "markdown",
   "id": "3978a36c-ad79-4233-b6fb-9ceacfb06301",
   "metadata": {},
   "source": [
    "### 数组变形\n",
    "\n",
    "数据变形是常见的操作，常见方法如下：\n",
    "- reshape：重新修改向量维度，不改变自身\n",
    "- resize：重新修改向量维度，改变自身\n",
    "- T：转置\n",
    "- ravel：多维数组变成一维数组，返回的是视图\n",
    "- flatten：多维数组变成一维数组，返回的是拷贝\n",
    "- squeeze：对维数为1的维度降维\n",
    "- transpose：对高维矩阵进行轴兑换"
   ]
  },
  {
   "cell_type": "markdown",
   "id": "6d13596f-b8f9-4cc4-9d14-7e8b6ae59f4f",
   "metadata": {},
   "source": [
    "#### reshape"
   ]
  },
  {
   "cell_type": "code",
   "execution_count": 49,
   "id": "74eea2f4-ca83-4b41-b879-31ec0796a334",
   "metadata": {},
   "outputs": [
    {
     "data": {
      "text/plain": [
       "array([0, 1, 2, 3, 4, 5, 6, 7, 8, 9])"
      ]
     },
     "execution_count": 49,
     "metadata": {},
     "output_type": "execute_result"
    }
   ],
   "source": [
    "arr = np.arange(10)\n",
    "arr"
   ]
  },
  {
   "cell_type": "code",
   "execution_count": 50,
   "id": "80dc857d-6035-4f89-8b5b-52342220f45d",
   "metadata": {},
   "outputs": [
    {
     "data": {
      "text/plain": [
       "(array([[0, 1, 2, 3, 4],\n",
       "        [5, 6, 7, 8, 9]]),\n",
       " array([0, 1, 2, 3, 4, 5, 6, 7, 8, 9]))"
      ]
     },
     "execution_count": 50,
     "metadata": {},
     "output_type": "execute_result"
    }
   ],
   "source": [
    "arr.reshape(2, 5), arr"
   ]
  },
  {
   "cell_type": "code",
   "execution_count": 51,
   "id": "53e7067e-5267-47aa-8192-f4f4f6b7278f",
   "metadata": {},
   "outputs": [
    {
     "data": {
      "text/plain": [
       "array([[0, 1],\n",
       "       [2, 3],\n",
       "       [4, 5],\n",
       "       [6, 7],\n",
       "       [8, 9]])"
      ]
     },
     "execution_count": 51,
     "metadata": {},
     "output_type": "execute_result"
    }
   ],
   "source": [
    "# 仅仅指定行数\n",
    "arr.reshape(5, -1)"
   ]
  },
  {
   "cell_type": "code",
   "execution_count": 52,
   "id": "6421839e-14b9-4029-abfb-e03648c3c677",
   "metadata": {},
   "outputs": [
    {
     "data": {
      "text/plain": [
       "array([[0, 1, 2, 3, 4],\n",
       "       [5, 6, 7, 8, 9]])"
      ]
     },
     "execution_count": 52,
     "metadata": {},
     "output_type": "execute_result"
    }
   ],
   "source": [
    "# 仅仅制定列数\n",
    "arr.reshape(-1, 5)"
   ]
  },
  {
   "cell_type": "markdown",
   "id": "66a95e05-827d-49d0-802e-2e3c829a6c48",
   "metadata": {},
   "source": [
    "#### resize"
   ]
  },
  {
   "cell_type": "code",
   "execution_count": 54,
   "id": "2e0c3c58-fb4d-41cf-be72-04b7e47a90b7",
   "metadata": {},
   "outputs": [
    {
     "data": {
      "text/plain": [
       "array([0, 1, 2, 3, 4, 5, 6, 7, 8, 9])"
      ]
     },
     "execution_count": 54,
     "metadata": {},
     "output_type": "execute_result"
    }
   ],
   "source": [
    "arr = np.arange(10)\n",
    "arr"
   ]
  },
  {
   "cell_type": "code",
   "execution_count": 56,
   "id": "99a7b8d9-0c30-4709-9c64-d1343751d85d",
   "metadata": {},
   "outputs": [
    {
     "data": {
      "text/plain": [
       "array([[0, 1, 2, 3, 4],\n",
       "       [5, 6, 7, 8, 9]])"
      ]
     },
     "execution_count": 56,
     "metadata": {},
     "output_type": "execute_result"
    }
   ],
   "source": [
    "arr.resize(2, 5)\n",
    "arr"
   ]
  },
  {
   "cell_type": "markdown",
   "id": "f4d5f273-b2d5-4ab4-94ab-84b4b67c17f0",
   "metadata": {},
   "source": [
    "#### T"
   ]
  },
  {
   "cell_type": "code",
   "execution_count": 57,
   "id": "4e180889-1f9c-423f-bb66-6257c3496b54",
   "metadata": {},
   "outputs": [
    {
     "data": {
      "text/plain": [
       "array([[ 0,  1,  2,  3],\n",
       "       [ 4,  5,  6,  7],\n",
       "       [ 8,  9, 10, 11]])"
      ]
     },
     "execution_count": 57,
     "metadata": {},
     "output_type": "execute_result"
    }
   ],
   "source": [
    "arr = np.arange(12).reshape(3, 4)\n",
    "arr"
   ]
  },
  {
   "cell_type": "code",
   "execution_count": 58,
   "id": "270454a5-9669-4954-9729-708463066383",
   "metadata": {},
   "outputs": [
    {
     "data": {
      "text/plain": [
       "array([[ 0,  4,  8],\n",
       "       [ 1,  5,  9],\n",
       "       [ 2,  6, 10],\n",
       "       [ 3,  7, 11]])"
      ]
     },
     "execution_count": 58,
     "metadata": {},
     "output_type": "execute_result"
    }
   ],
   "source": [
    "arr.T"
   ]
  },
  {
   "cell_type": "markdown",
   "id": "17ac6ff9-6a2b-457c-a0c4-fd3226a609e5",
   "metadata": {},
   "source": [
    "#### ravel"
   ]
  },
  {
   "cell_type": "code",
   "execution_count": 61,
   "id": "2bd0f341-67f7-46ef-ac76-6a4007985b92",
   "metadata": {},
   "outputs": [
    {
     "data": {
      "text/plain": [
       "array([[0, 1, 2],\n",
       "       [3, 4, 5]])"
      ]
     },
     "execution_count": 61,
     "metadata": {},
     "output_type": "execute_result"
    }
   ],
   "source": [
    "arr = np.arange(6).reshape(2, -1)\n",
    "arr"
   ]
  },
  {
   "cell_type": "code",
   "execution_count": 62,
   "id": "33bbe5a5-3561-4079-9cc1-9d81fb46f218",
   "metadata": {},
   "outputs": [
    {
     "name": "stdout",
     "output_type": "stream",
     "text": [
      "按照列优先，展平\n",
      "[0 3 1 4 2 5]\n",
      "按照行优先，展平\n",
      "[0 1 2 3 4 5]\n"
     ]
    }
   ],
   "source": [
    "# 按照列优先，展平\n",
    "print(\"按照列优先，展平\")\n",
    "print(arr.ravel(\"F\"))\n",
    "# 按照行优先，展平\n",
    "print(\"按照行优先，展平\")\n",
    "print(arr.ravel())"
   ]
  },
  {
   "cell_type": "code",
   "execution_count": 63,
   "id": "a9dc6068-b58b-4283-99d8-c1c41019b3fa",
   "metadata": {},
   "outputs": [
    {
     "data": {
      "text/plain": [
       "array([[0, 1, 2],\n",
       "       [3, 4, 5]])"
      ]
     },
     "execution_count": 63,
     "metadata": {},
     "output_type": "execute_result"
    }
   ],
   "source": [
    "arr"
   ]
  },
  {
   "cell_type": "markdown",
   "id": "73b13d9f-eb11-4998-b6ab-cb7d1786e88c",
   "metadata": {},
   "source": [
    "#### flatten"
   ]
  },
  {
   "cell_type": "code",
   "execution_count": 70,
   "id": "5024b3ff-7d91-43e5-8c74-a21b03a254df",
   "metadata": {},
   "outputs": [
    {
     "data": {
      "text/plain": [
       "array([[1., 4., 6., 8.],\n",
       "       [2., 2., 4., 5.],\n",
       "       [3., 8., 1., 4.]])"
      ]
     },
     "execution_count": 70,
     "metadata": {},
     "output_type": "execute_result"
    }
   ],
   "source": [
    "arr = np.floor(10 * np.random.random((3, 4)))\n",
    "arr"
   ]
  },
  {
   "cell_type": "code",
   "execution_count": 71,
   "id": "44956d67-c5e4-41e0-8f17-4979dde1e935",
   "metadata": {},
   "outputs": [
    {
     "data": {
      "text/plain": [
       "array([1., 4., 6., 8., 2., 2., 4., 5., 3., 8., 1., 4.])"
      ]
     },
     "execution_count": 71,
     "metadata": {},
     "output_type": "execute_result"
    }
   ],
   "source": [
    "arr.flatten()"
   ]
  },
  {
   "cell_type": "code",
   "execution_count": 72,
   "id": "64990825-429e-4ee8-b2fd-a19d877f1e55",
   "metadata": {},
   "outputs": [
    {
     "data": {
      "text/plain": [
       "array([[1., 4., 6., 8.],\n",
       "       [2., 2., 4., 5.],\n",
       "       [3., 8., 1., 4.]])"
      ]
     },
     "execution_count": 72,
     "metadata": {},
     "output_type": "execute_result"
    }
   ],
   "source": [
    "arr"
   ]
  },
  {
   "cell_type": "markdown",
   "id": "a72f5831-fc33-4d3d-8503-2cbbd8cc413f",
   "metadata": {},
   "source": [
    "#### squeeze"
   ]
  },
  {
   "cell_type": "code",
   "execution_count": 74,
   "id": "1190f401-284b-49a0-8427-0e0d56747488",
   "metadata": {},
   "outputs": [
    {
     "data": {
      "text/plain": [
       "array([[0],\n",
       "       [1],\n",
       "       [2]])"
      ]
     },
     "execution_count": 74,
     "metadata": {},
     "output_type": "execute_result"
    }
   ],
   "source": [
    "arr = np.arange(3).reshape(3, 1)\n",
    "arr"
   ]
  },
  {
   "cell_type": "code",
   "execution_count": 75,
   "id": "53f512fb-a9a0-4f0f-a24f-55aa9d0ccbe9",
   "metadata": {},
   "outputs": [
    {
     "data": {
      "text/plain": [
       "((3, 1), (3,))"
      ]
     },
     "execution_count": 75,
     "metadata": {},
     "output_type": "execute_result"
    }
   ],
   "source": [
    "arr.shape, arr.squeeze().shape"
   ]
  },
  {
   "cell_type": "code",
   "execution_count": 77,
   "id": "2c9effe4-8167-48ad-ac21-733050d956f8",
   "metadata": {},
   "outputs": [
    {
     "data": {
      "text/plain": [
       "array([0, 1, 2])"
      ]
     },
     "execution_count": 77,
     "metadata": {},
     "output_type": "execute_result"
    }
   ],
   "source": [
    "arr.squeeze()"
   ]
  },
  {
   "cell_type": "code",
   "execution_count": 78,
   "id": "230d35e1-f7b2-42e0-82aa-874f6f5d25f1",
   "metadata": {},
   "outputs": [
    {
     "data": {
      "text/plain": [
       "array([[[[0],\n",
       "         [1]]],\n",
       "\n",
       "\n",
       "       [[[2],\n",
       "         [3]]],\n",
       "\n",
       "\n",
       "       [[[4],\n",
       "         [5]]]])"
      ]
     },
     "execution_count": 78,
     "metadata": {},
     "output_type": "execute_result"
    }
   ],
   "source": [
    "arr1 = np.arange(6).reshape(3, 1, 2, 1)\n",
    "arr1"
   ]
  },
  {
   "cell_type": "markdown",
   "id": "25c9975e-d812-499e-ba76-3dd5ff55b812",
   "metadata": {},
   "source": [
    "#### transpose"
   ]
  },
  {
   "cell_type": "code",
   "execution_count": 79,
   "id": "d70d986e-5580-4489-83f8-5d674e112e30",
   "metadata": {},
   "outputs": [
    {
     "data": {
      "text/plain": [
       "array([[[ 0,  1,  2,  3],\n",
       "        [ 4,  5,  6,  7],\n",
       "        [ 8,  9, 10, 11]],\n",
       "\n",
       "       [[12, 13, 14, 15],\n",
       "        [16, 17, 18, 19],\n",
       "        [20, 21, 22, 23]]])"
      ]
     },
     "execution_count": 79,
     "metadata": {},
     "output_type": "execute_result"
    }
   ],
   "source": [
    "arr2 = np.arange(24).reshape(2, 3, 4)\n",
    "arr2"
   ]
  },
  {
   "cell_type": "code",
   "execution_count": 80,
   "id": "7d674335-9010-4771-901b-3a180438c8da",
   "metadata": {},
   "outputs": [
    {
     "name": "stdout",
     "output_type": "stream",
     "text": [
      "(2, 3, 4)\n",
      "(3, 4, 2)\n"
     ]
    }
   ],
   "source": [
    "print(arr2.shape)  # (2, 3, 4)\n",
    "print(arr2.transpose(1, 2, 0).shape)  # (3, 4, 2)"
   ]
  },
  {
   "cell_type": "markdown",
   "id": "96481045-b905-456d-a870-2d6e393a24fd",
   "metadata": {},
   "source": [
    "### 合并数组\n",
    "\n",
    "常见方法如下：\n",
    "- append：内存占用大\n",
    "- concatenate：无内存问题\n",
    "- stack：沿着新的轴加入一系列数组\n",
    "- hstack：堆栈数组垂直顺序（行）\n",
    "- vstack：堆栈数组垂直顺序（列）\n",
    "- dstack：堆栈数组顺序深入（沿第三维）\n",
    "- vsplit：将数组分解成垂直的多个子数组的列表\n",
    "\n",
    "Tips：\n",
    "- append、concatnate以及stack都有一个 axis 参数，用于控制数组合并是按行还是按列\n",
    "- 对于append和concatnate，待合并的数组必须有相同的行数或列数(满足一个即可)\n",
    "- stack、hstack、dstack待合并的数组必须具有相同的形状( shape)"
   ]
  },
  {
   "cell_type": "markdown",
   "id": "2e963542-ca3e-4838-a828-a58e44d280e9",
   "metadata": {},
   "source": [
    "#### append"
   ]
  },
  {
   "cell_type": "code",
   "execution_count": 82,
   "id": "e3791e78-3c36-4e0a-aa86-06d756e76979",
   "metadata": {},
   "outputs": [
    {
     "data": {
      "text/plain": [
       "array([1, 2, 3, 4, 5, 6])"
      ]
     },
     "execution_count": 82,
     "metadata": {},
     "output_type": "execute_result"
    }
   ],
   "source": [
    "a = np.array([1, 2, 3])\n",
    "b = np.array([4, 5, 6])\n",
    "np.append(a, b)"
   ]
  },
  {
   "cell_type": "code",
   "execution_count": 85,
   "id": "d399a831-dee5-497d-aa68-7da4baf684b9",
   "metadata": {},
   "outputs": [
    {
     "data": {
      "text/plain": [
       "(array([[0, 1],\n",
       "        [2, 3],\n",
       "        [0, 1],\n",
       "        [2, 3]]),\n",
       " (4, 2))"
      ]
     },
     "execution_count": 85,
     "metadata": {},
     "output_type": "execute_result"
    }
   ],
   "source": [
    "a = np.arange(4).reshape(2, 2)\n",
    "b = np.arange(4).reshape(2, 2)\n",
    "# 按行合并\n",
    "c = np.append(a, b, axis=0)\n",
    "c, c.shape"
   ]
  },
  {
   "cell_type": "markdown",
   "id": "500c4efd-744c-4c3b-ba2a-43c48dff6dc0",
   "metadata": {},
   "source": [
    "#### concatenate"
   ]
  },
  {
   "cell_type": "code",
   "execution_count": 86,
   "id": "6c701ec7-4c3f-46ac-a2bb-f7c661c86ac0",
   "metadata": {},
   "outputs": [
    {
     "data": {
      "text/plain": [
       "(array([[1, 2],\n",
       "        [3, 4]]),\n",
       " array([[5, 6]]))"
      ]
     },
     "execution_count": 86,
     "metadata": {},
     "output_type": "execute_result"
    }
   ],
   "source": [
    "a = np.array([[1, 2], [3, 4]])\n",
    "b = np.array([[5, 6]])\n",
    "\n",
    "a, b"
   ]
  },
  {
   "cell_type": "code",
   "execution_count": 88,
   "id": "f2a0b1df-da44-4b87-91ca-a40adb73956e",
   "metadata": {},
   "outputs": [
    {
     "data": {
      "text/plain": [
       "array([[1, 2],\n",
       "       [3, 4],\n",
       "       [5, 6]])"
      ]
     },
     "execution_count": 88,
     "metadata": {},
     "output_type": "execute_result"
    }
   ],
   "source": [
    "np.concatenate((a, b), axis=0)"
   ]
  },
  {
   "cell_type": "code",
   "execution_count": 91,
   "id": "bf2cb3e8-e91d-44fc-a912-7803decefbb6",
   "metadata": {},
   "outputs": [
    {
     "data": {
      "text/plain": [
       "array([[1, 2, 5],\n",
       "       [3, 4, 6]])"
      ]
     },
     "execution_count": 91,
     "metadata": {},
     "output_type": "execute_result"
    }
   ],
   "source": [
    "np.concatenate((a, b.T), axis=1)"
   ]
  },
  {
   "cell_type": "markdown",
   "id": "b15d2395-b527-4a4e-86f4-65c6b6b648df",
   "metadata": {},
   "source": [
    "#### stack"
   ]
  },
  {
   "cell_type": "code",
   "execution_count": 93,
   "id": "5c4a175f-1f9e-4b51-b64e-beeaa73c770c",
   "metadata": {},
   "outputs": [],
   "source": [
    "a = np.array([[1, 2], [3, 4]])\n",
    "b = np.array([[5, 6], [7, 8]])"
   ]
  },
  {
   "cell_type": "code",
   "execution_count": 94,
   "id": "c969800d-7294-4215-bfad-19274cccb899",
   "metadata": {},
   "outputs": [
    {
     "data": {
      "text/plain": [
       "array([[[1, 2],\n",
       "        [3, 4]],\n",
       "\n",
       "       [[5, 6],\n",
       "        [7, 8]]])"
      ]
     },
     "execution_count": 94,
     "metadata": {},
     "output_type": "execute_result"
    }
   ],
   "source": [
    "np.stack((a, b), axis=0)"
   ]
  },
  {
   "cell_type": "markdown",
   "id": "5bb4eb74-500a-4fc2-a0b3-9eb32ae3746d",
   "metadata": {},
   "source": [
    "### 批量处理"
   ]
  },
  {
   "cell_type": "code",
   "execution_count": 97,
   "id": "3d32584b-42f1-4712-80ce-9a20a6c8031a",
   "metadata": {},
   "outputs": [
    {
     "data": {
      "text/plain": [
       "(array([[[-0.80484663,  0.46612872, -1.44621236],\n",
       "         [ 0.34344202, -0.58146471, -0.76437708]],\n",
       " \n",
       "        [[-1.59127599, -2.23895823, -1.57461994],\n",
       "         [-0.32137786, -1.44977613, -0.48431752]],\n",
       " \n",
       "        [[ 0.08909971, -0.31362951,  0.78813146],\n",
       "         [ 0.07407304, -0.18889816,  0.20179455]],\n",
       " \n",
       "        ...,\n",
       " \n",
       "        [[ 0.84928721, -0.17633295, -0.43681772],\n",
       "         [ 2.05665088, -0.02074646, -0.39053659]],\n",
       " \n",
       "        [[ 1.5283772 ,  1.38182411,  0.47649531],\n",
       "         [-1.46963801, -1.43336609,  0.83442668]],\n",
       " \n",
       "        [[ 1.05076296, -1.35789818,  1.38286485],\n",
       "         [ 0.06700552, -0.71558284,  0.53213593]]]),\n",
       " (10000, 2, 3))"
      ]
     },
     "execution_count": 97,
     "metadata": {},
     "output_type": "execute_result"
    }
   ],
   "source": [
    "# 生成10000个形状为2X3的矩阵\n",
    "data_train = np.random.randn(10000, 2, 3)\n",
    "# 这是一个3维矩阵，第一个维度为样本数，后两个是数据形状\n",
    "data_train, data_train.shape"
   ]
  },
  {
   "cell_type": "code",
   "execution_count": 98,
   "id": "9d9e7f94-4213-410b-a0a4-8ee347082630",
   "metadata": {},
   "outputs": [],
   "source": [
    "# 打乱这10000条数据\n",
    "np.random.shuffle(data_train)"
   ]
  },
  {
   "cell_type": "code",
   "execution_count": 100,
   "id": "99b3bce5-42bd-40be-8688-fa9ebb7e15c0",
   "metadata": {
    "scrolled": true,
    "tags": []
   },
   "outputs": [
    {
     "name": "stdout",
     "output_type": "stream",
     "text": [
      "第0批次,该批次的数据之和:11.273504677796081\n",
      "第100批次,该批次的数据之和:-5.226160888260223\n",
      "第200批次,该批次的数据之和:10.602853421213297\n",
      "第300批次,该批次的数据之和:4.026118443824856\n",
      "第400批次,该批次的数据之和:-8.196296068151259\n",
      "第500批次,该批次的数据之和:-6.476705949778854\n",
      "第600批次,该批次的数据之和:20.987047115756788\n",
      "第700批次,该批次的数据之和:5.519237338533823\n",
      "第800批次,该批次的数据之和:10.064035414333969\n",
      "第900批次,该批次的数据之和:-9.944819140000984\n",
      "第1000批次,该批次的数据之和:-29.111349371564597\n",
      "第1100批次,该批次的数据之和:40.62334623278004\n",
      "第1200批次,该批次的数据之和:-0.5900452726959688\n",
      "第1300批次,该批次的数据之和:-1.9742702077281358\n",
      "第1400批次,该批次的数据之和:18.862547008513676\n",
      "第1500批次,该批次的数据之和:22.050906840794212\n",
      "第1600批次,该批次的数据之和:-31.820597174786165\n",
      "第1700批次,该批次的数据之和:41.56568652544743\n",
      "第1800批次,该批次的数据之和:19.155735997391698\n",
      "第1900批次,该批次的数据之和:-15.041967098176732\n",
      "第2000批次,该批次的数据之和:-18.90938545905068\n",
      "第2100批次,该批次的数据之和:-19.003711493240793\n",
      "第2200批次,该批次的数据之和:12.967925181883913\n",
      "第2300批次,该批次的数据之和:12.810269973436714\n",
      "第2400批次,该批次的数据之和:-10.655663171721592\n",
      "第2500批次,该批次的数据之和:-1.3709593004051435\n",
      "第2600批次,该批次的数据之和:0.2081671431976595\n",
      "第2700批次,该批次的数据之和:-6.706685020389507\n",
      "第2800批次,该批次的数据之和:-20.90838193159038\n",
      "第2900批次,该批次的数据之和:-22.432738923663006\n",
      "第3000批次,该批次的数据之和:-6.9160941891687155\n",
      "第3100批次,该批次的数据之和:0.062286992228536064\n",
      "第3200批次,该批次的数据之和:35.766683221901935\n",
      "第3300批次,该批次的数据之和:-18.176844633756247\n",
      "第3400批次,该批次的数据之和:-24.98519773469262\n",
      "第3500批次,该批次的数据之和:32.31944718954451\n",
      "第3600批次,该批次的数据之和:-7.396573272456596\n",
      "第3700批次,该批次的数据之和:-4.019700205349858\n",
      "第3800批次,该批次的数据之和:25.51192869197517\n",
      "第3900批次,该批次的数据之和:38.153799079986946\n",
      "第4000批次,该批次的数据之和:10.162235548127217\n",
      "第4100批次,该批次的数据之和:-1.5273075942846424\n",
      "第4200批次,该批次的数据之和:31.020237071700613\n",
      "第4300批次,该批次的数据之和:16.226697550573125\n",
      "第4400批次,该批次的数据之和:44.00043004285828\n",
      "第4500批次,该批次的数据之和:-40.470042227310046\n",
      "第4600批次,该批次的数据之和:-2.202304463401287\n",
      "第4700批次,该批次的数据之和:-5.193538587306168\n",
      "第4800批次,该批次的数据之和:-35.01095403239617\n",
      "第4900批次,该批次的数据之和:-11.176284389242578\n",
      "第5000批次,该批次的数据之和:32.17764842893061\n",
      "第5100批次,该批次的数据之和:-44.12481593764344\n",
      "第5200批次,该批次的数据之和:11.939570958325668\n",
      "第5300批次,该批次的数据之和:23.666816569078534\n",
      "第5400批次,该批次的数据之和:-31.7867296387831\n",
      "第5500批次,该批次的数据之和:-13.486233749964889\n",
      "第5600批次,该批次的数据之和:-58.16003637967917\n",
      "第5700批次,该批次的数据之和:13.165944009645857\n",
      "第5800批次,该批次的数据之和:12.434095980083672\n",
      "第5900批次,该批次的数据之和:37.94711338155824\n",
      "第6000批次,该批次的数据之和:7.970799526926477\n",
      "第6100批次,该批次的数据之和:45.992682145586365\n",
      "第6200批次,该批次的数据之和:-29.834477465138775\n",
      "第6300批次,该批次的数据之和:34.444033831211854\n",
      "第6400批次,该批次的数据之和:4.030497619065693\n",
      "第6500批次,该批次的数据之和:-11.153934604895381\n",
      "第6600批次,该批次的数据之和:24.03536184271122\n",
      "第6700批次,该批次的数据之和:-18.3996948439169\n",
      "第6800批次,该批次的数据之和:54.875958137674296\n",
      "第6900批次,该批次的数据之和:-46.91251387609287\n",
      "第7000批次,该批次的数据之和:-17.51232865501126\n",
      "第7100批次,该批次的数据之和:-15.534429589733065\n",
      "第7200批次,该批次的数据之和:-1.3208797162336783\n",
      "第7300批次,该批次的数据之和:-35.316289545113605\n",
      "第7400批次,该批次的数据之和:-37.4256223632014\n",
      "第7500批次,该批次的数据之和:-23.725594863186114\n",
      "第7600批次,该批次的数据之和:5.409644475950606\n",
      "第7700批次,该批次的数据之和:7.0406228170212355\n",
      "第7800批次,该批次的数据之和:5.761754380434391\n",
      "第7900批次,该批次的数据之和:-2.617485869975132\n",
      "第8000批次,该批次的数据之和:-21.901553537356975\n",
      "第8100批次,该批次的数据之和:-41.06634150838073\n",
      "第8200批次,该批次的数据之和:21.414122728575887\n",
      "第8300批次,该批次的数据之和:8.663100532800849\n",
      "第8400批次,该批次的数据之和:-14.660678913463052\n",
      "第8500批次,该批次的数据之和:-0.6921417744933738\n",
      "第8600批次,该批次的数据之和:-24.660794815168558\n",
      "第8700批次,该批次的数据之和:-34.73240908928652\n",
      "第8800批次,该批次的数据之和:-15.969510088964967\n",
      "第8900批次,该批次的数据之和:11.699998993207576\n",
      "第9000批次,该批次的数据之和:37.92443123926752\n",
      "第9100批次,该批次的数据之和:3.871118556221676\n",
      "第9200批次,该批次的数据之和:-19.092447947911463\n",
      "第9300批次,该批次的数据之和:47.095677076874125\n",
      "第9400批次,该批次的数据之和:-18.398119438349628\n",
      "第9500批次,该批次的数据之和:1.8437466473925817\n",
      "第9600批次,该批次的数据之和:-17.677427723677347\n",
      "第9700批次,该批次的数据之和:-22.72468859722734\n",
      "第9800批次,该批次的数据之和:38.36994993577437\n",
      "第9900批次,该批次的数据之和:-22.553073304554353\n"
     ]
    }
   ],
   "source": [
    "# 定义批量大小\n",
    "batch_size = 100\n",
    "# 进行批处理\n",
    "for i in range(0, len(data_train), batch_size):\n",
    "    x_batch_sum = np.sum(data_train[i : i + batch_size])\n",
    "    print(\"第{}批次,该批次的数据之和:{}\".format(i, x_batch_sum))"
   ]
  },
  {
   "cell_type": "markdown",
   "id": "7c3d62ac-b205-47fc-9d16-3a27ee1a2544",
   "metadata": {},
   "source": [
    "### 通用函数"
   ]
  },
  {
   "cell_type": "markdown",
   "id": "a49aeddb-0ba5-4621-9fbd-c30b58918e4e",
   "metadata": {},
   "source": [
    "#### math与numpy函数的性能比较"
   ]
  },
  {
   "cell_type": "code",
   "execution_count": 103,
   "id": "fa86c11f-97e4-42d1-9c2c-51a0d7078a5d",
   "metadata": {},
   "outputs": [
    {
     "name": "stdout",
     "output_type": "stream",
     "text": [
      "math.sin: 0.12942218780517578\n",
      "numpy.sin: 0.009285211563110352\n"
     ]
    }
   ],
   "source": [
    "import math\n",
    "import time\n",
    "\n",
    "import numpy as np\n",
    "\n",
    "x = [i * 0.001 for i in np.arange(1000000)]\n",
    "start = time.time()\n",
    "for i, t in enumerate(x):\n",
    "    x[i] = math.sin(t)\n",
    "print(\"math.sin:\", time.time() - start)\n",
    "\n",
    "x = [i * 0.001 for i in np.arange(1000000)]\n",
    "x = np.array(x)\n",
    "start = time.time()\n",
    "np.sin(x)\n",
    "print(\"numpy.sin:\", time.time() - start)"
   ]
  },
  {
   "cell_type": "markdown",
   "id": "6c3b0b90-9515-4734-887d-076788b4ad4c",
   "metadata": {},
   "source": [
    "### 广播机制"
   ]
  },
  {
   "cell_type": "code",
   "execution_count": 104,
   "id": "98cd2978-023a-40b7-bfc2-8e91aa6f7151",
   "metadata": {},
   "outputs": [],
   "source": [
    "A = np.arange(0, 40, 10).reshape(4, 1)\n",
    "# 一维向量\n",
    "B = np.arange(0, 3)"
   ]
  },
  {
   "cell_type": "code",
   "execution_count": 105,
   "id": "36ed6280-9c54-4d41-9d99-96bdea675c90",
   "metadata": {},
   "outputs": [
    {
     "data": {
      "text/plain": [
       "(array([[ 0],\n",
       "        [10],\n",
       "        [20],\n",
       "        [30]]),\n",
       " array([0, 1, 2]))"
      ]
     },
     "execution_count": 105,
     "metadata": {},
     "output_type": "execute_result"
    }
   ],
   "source": [
    "A, B"
   ]
  },
  {
   "cell_type": "code",
   "execution_count": 108,
   "id": "bb8d08f1-52a3-45ec-935c-9bf5215c0af5",
   "metadata": {},
   "outputs": [
    {
     "data": {
      "text/plain": [
       "array([[ 0,  1,  2],\n",
       "       [10, 11, 12],\n",
       "       [20, 21, 22],\n",
       "       [30, 31, 32]])"
      ]
     },
     "execution_count": 108,
     "metadata": {},
     "output_type": "execute_result"
    }
   ],
   "source": [
    "A + B"
   ]
  },
  {
   "cell_type": "code",
   "execution_count": null,
   "id": "c97683c5-bb79-46c7-a430-758f3f9be6db",
   "metadata": {},
   "outputs": [],
   "source": []
  }
 ],
 "metadata": {
  "kernelspec": {
   "display_name": "Python 3 (ipykernel)",
   "language": "python",
   "name": "python3"
  },
  "language_info": {
   "codemirror_mode": {
    "name": "ipython",
    "version": 3
   },
   "file_extension": ".py",
   "mimetype": "text/x-python",
   "name": "python",
   "nbconvert_exporter": "python",
   "pygments_lexer": "ipython3",
   "version": "3.7.12"
  }
 },
 "nbformat": 4,
 "nbformat_minor": 5
}
