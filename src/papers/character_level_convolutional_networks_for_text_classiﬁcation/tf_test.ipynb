{
 "cells": [
  {
   "cell_type": "code",
   "execution_count": 29,
   "metadata": {},
   "outputs": [],
   "source": [
    "import tensorflow as tf\n",
    "\n",
    "from math import sqrt\n",
    "\n",
    "try:\n",
    "    tf.contrib.eager.enable_eager_execution()\n",
    "except ValueError:\n",
    "    pass  # enable_eager_execution errors after its first call"
   ]
  },
  {
   "cell_type": "code",
   "execution_count": 30,
   "metadata": {},
   "outputs": [
    {
     "name": "stdout",
     "output_type": "stream",
     "text": [
      "tf.Tensor(b'Hello, world!', shape=(), dtype=string)\n",
      "<class 'tensorflow.python.framework.ops.EagerTensor'>\n",
      "b'Hello, world!'\n",
      "<class 'bytes'>\n"
     ]
    }
   ],
   "source": [
    "tensor = tf.constant('Hello, world!')\n",
    "print(tensor)\n",
    "print(type(tensor))\n",
    "tensor_value = tensor.numpy()\n",
    "print(tensor_value)\n",
    "print(type(tensor_value))"
   ]
  },
  {
   "cell_type": "code",
   "execution_count": 31,
   "metadata": {},
   "outputs": [],
   "source": [
    "cl = [256, 7, 3]\n",
    "stdv = 1 / sqrt(cl[0] * cl[1])\n",
    "W = tf.Variable(tf.random_uniform([7, 69, 1, 256], minval=-stdv, maxval=stdv), dtype='float32', name='W')\n",
    "W = W.numpy()"
   ]
  },
  {
   "cell_type": "code",
   "execution_count": 32,
   "metadata": {},
   "outputs": [
    {
     "data": {
      "text/plain": [
       "(7, 69, 1, 256)"
      ]
     },
     "execution_count": 32,
     "metadata": {},
     "output_type": "execute_result"
    }
   ],
   "source": [
    "W.shape"
   ]
  },
  {
   "cell_type": "code",
   "execution_count": 34,
   "metadata": {},
   "outputs": [
    {
     "data": {
      "text/plain": [
       "array([[[-0.01329625, -0.02075823, -0.01688867, ...,  0.01085667,\n",
       "          0.02011919,  0.00861265]],\n",
       "\n",
       "       [[ 0.00668623, -0.00011059,  0.01303988, ...,  0.00939691,\n",
       "         -0.02094685,  0.02237237]],\n",
       "\n",
       "       [[-0.01806926,  0.00563697,  0.00037693, ..., -0.02295386,\n",
       "          0.01061822, -0.00096934]],\n",
       "\n",
       "       ...,\n",
       "\n",
       "       [[-0.00118052, -0.00791057, -0.01977578, ...,  0.01149489,\n",
       "          0.01577958,  0.01678179]],\n",
       "\n",
       "       [[-0.00562945, -0.0021513 ,  0.02042801, ..., -0.00728504,\n",
       "          0.01520394, -0.01632841]],\n",
       "\n",
       "       [[-0.00122328,  0.00469836,  0.01094379, ..., -0.00810773,\n",
       "         -0.00190229, -0.0232883 ]]], dtype=float32)"
      ]
     },
     "execution_count": 34,
     "metadata": {},
     "output_type": "execute_result"
    }
   ],
   "source": [
    "W[0]"
   ]
  },
  {
   "cell_type": "code",
   "execution_count": 6,
   "metadata": {},
   "outputs": [
    {
     "data": {
      "text/plain": [
       "array([[ 0.49164343, -0.7574632 ,  0.25555873, -0.39000797,  0.96162915,\n",
       "        -0.22404861,  0.5087216 ,  0.99826884, -0.9389212 , -0.4840939 ,\n",
       "        -0.31122875,  0.9244697 , -0.01815057, -0.7254896 , -0.9322963 ,\n",
       "         0.41646457,  0.89918995, -0.85320497,  0.00272608, -0.9200599 ,\n",
       "        -0.3416283 , -0.47995162,  0.8807969 , -0.779202  ,  0.7091472 ,\n",
       "        -0.7360158 , -0.497818  ,  0.8114648 , -0.91600156,  0.33176112,\n",
       "        -0.03045964,  0.21153712,  0.03069711,  0.9941683 ,  0.2846625 ,\n",
       "         0.19968319,  0.5673795 ,  0.32327724,  0.17766356, -0.00604391,\n",
       "         0.9949267 ,  0.9875195 , -0.32566047, -0.9980433 ,  0.09389997,\n",
       "        -0.7172923 ,  0.45769787,  0.2391243 ,  0.14528155,  0.81573796,\n",
       "        -0.12964797, -0.17782259,  0.7347727 , -0.54326963, -0.23226643,\n",
       "         0.25948143, -0.8931663 ,  0.37890077, -0.91854477,  0.2839532 ,\n",
       "         0.07348061, -0.31273222, -0.3222077 ,  0.42702532, -0.3251412 ,\n",
       "        -0.13216686, -0.780602  ,  0.44163036,  0.297971  ,  0.21807122,\n",
       "         0.17197299,  0.9540622 ,  0.25663114, -0.03226876,  0.66627073,\n",
       "        -0.44618368,  0.5898864 , -0.8073733 , -0.9594064 ,  0.7935245 ,\n",
       "        -0.5125737 ,  0.282804  , -0.01667023,  0.8249769 , -0.5427582 ,\n",
       "        -0.9960847 , -0.35377645,  0.5215409 ,  0.5080209 ,  0.6314156 ,\n",
       "        -0.95329547,  0.19692421, -0.35428786, -0.9625883 ,  0.957392  ,\n",
       "         0.52875304,  0.7997737 ,  0.16255093, -0.56758976,  0.1318183 ,\n",
       "        -0.4602313 , -0.18748689,  0.8762367 , -0.83217263,  0.10915232,\n",
       "        -0.5217962 ,  0.20675969,  0.7526343 ,  0.12896204, -0.6059246 ,\n",
       "         0.50829506,  0.39175153,  0.12568688, -0.26011848, -0.7315767 ,\n",
       "        -0.8478601 ,  0.63316584,  0.2814808 , -0.20758748,  0.43467808,\n",
       "        -0.94169354, -0.90714574,  0.26147413, -0.18486595, -0.21475434,\n",
       "         0.7017007 ,  0.07143331, -0.32117248, -0.8217387 , -0.06148911,\n",
       "         0.3352914 ,  0.7029841 , -0.09260702,  0.14092255,  0.6165376 ,\n",
       "         0.31060123,  0.48447728,  0.79112816, -0.9875281 , -0.42892694,\n",
       "        -0.7400825 , -0.92294264,  0.78408957, -0.5389464 ,  0.4956119 ,\n",
       "        -0.05466866, -0.36768055,  0.5597694 ,  0.39931178, -0.29753923,\n",
       "         0.32630992,  0.32113433,  0.24940228,  0.16637754,  0.38120914,\n",
       "        -0.45677376, -0.6995747 ,  0.07243919,  0.84372616, -0.24629235,\n",
       "         0.37590122,  0.20771265,  0.7881069 , -0.9098165 ,  0.44372463,\n",
       "        -0.2973919 ,  0.31980157,  0.8465059 , -0.68715763, -0.40451717,\n",
       "        -0.56076765,  0.5024762 , -0.23262691, -0.69219613, -0.9265566 ,\n",
       "        -0.5574436 , -0.5450616 , -0.72079873,  0.0180459 ,  0.04850101,\n",
       "         0.32752156, -0.05843306,  0.42745066, -0.50895715, -0.4961574 ,\n",
       "        -0.14018035, -0.00347924, -0.03362894,  0.5759182 ,  0.94665766,\n",
       "         0.40421057, -0.9683995 , -0.47478938,  0.54238844,  0.29698253,\n",
       "        -0.9120321 , -0.6764891 , -0.0930829 , -0.6970732 ,  0.7949991 ,\n",
       "         0.75903153,  0.26770115,  0.8104074 ,  0.23191833, -0.3782475 ,\n",
       "        -0.7271316 , -0.2539823 , -0.4417143 , -0.9814403 ,  0.4372046 ,\n",
       "         0.48087668, -0.19915962, -0.7060151 ,  0.23049092,  0.50855756,\n",
       "         0.40384412,  0.9951234 ,  0.09846544, -0.04702568,  0.26091814,\n",
       "         0.024261  , -0.93399906, -0.36621094,  0.22317696, -0.74907804,\n",
       "         0.75934887, -0.5107777 ,  0.52721906, -0.9905627 , -0.3846116 ,\n",
       "         0.2000258 ,  0.63696885, -0.5329478 , -0.97856617, -0.35483932,\n",
       "         0.7983427 ,  0.12074399, -0.78669286, -0.37524843,  0.4545555 ,\n",
       "         0.26439905,  0.4727075 , -0.36801004, -0.2077682 , -0.9011893 ,\n",
       "         0.18381572,  0.15602326,  0.73428535, -0.41468644, -0.46513677,\n",
       "        -0.860337  , -0.80419874, -0.34695458, -0.0755744 ,  0.7313962 ,\n",
       "        -0.7234733 ]], dtype=float32)"
      ]
     },
     "execution_count": 6,
     "metadata": {},
     "output_type": "execute_result"
    }
   ],
   "source": [
    "W[0][0]"
   ]
  },
  {
   "cell_type": "code",
   "execution_count": 7,
   "metadata": {},
   "outputs": [],
   "source": [
    "import numpy as np"
   ]
  },
  {
   "cell_type": "code",
   "execution_count": 8,
   "metadata": {},
   "outputs": [
    {
     "data": {
      "text/plain": [
       "array([[1, 2],\n",
       "       [3, 4]])"
      ]
     },
     "execution_count": 8,
     "metadata": {},
     "output_type": "execute_result"
    }
   ],
   "source": [
    "x = np.array([[1,2],[3,4]])\n",
    "x"
   ]
  },
  {
   "cell_type": "code",
   "execution_count": 10,
   "metadata": {},
   "outputs": [
    {
     "data": {
      "text/plain": [
       "array([[1, 3],\n",
       "       [2, 4]])"
      ]
     },
     "execution_count": 10,
     "metadata": {},
     "output_type": "execute_result"
    }
   ],
   "source": [
    "x.transpose([1, 0])"
   ]
  },
  {
   "cell_type": "code",
   "execution_count": 14,
   "metadata": {},
   "outputs": [
    {
     "data": {
      "text/plain": [
       "(array([[[ 1,  2,  3,  4],\n",
       "         [ 5,  6,  7,  8],\n",
       "         [ 5,  6,  7,  8]],\n",
       " \n",
       "        [[ 9, 12, 13, 14],\n",
       "         [15, 16, 17, 18],\n",
       "         [ 5,  6,  7,  8]]]), (2, 3, 4))"
      ]
     },
     "execution_count": 14,
     "metadata": {},
     "output_type": "execute_result"
    }
   ],
   "source": [
    "x = [[[1,2,3,4],[5,6,7,8],[5,6,7,8]],[[9,12,13,14],[15,16,17,18],[5,6,7,8]]]\n",
    "\n",
    "x = np.array(x)\n",
    "x, x.shape"
   ]
  },
  {
   "cell_type": "code",
   "execution_count": 18,
   "metadata": {},
   "outputs": [
    {
     "data": {
      "text/plain": [
       "array([[[ 1,  2,  3,  4],\n",
       "        [ 5,  6,  7,  8],\n",
       "        [ 5,  6,  7,  8]],\n",
       "\n",
       "       [[ 9, 12, 13, 14],\n",
       "        [15, 16, 17, 18],\n",
       "        [ 5,  6,  7,  8]]])"
      ]
     },
     "execution_count": 18,
     "metadata": {},
     "output_type": "execute_result"
    }
   ],
   "source": [
    "# 高与行转置\n",
    "x.transpose([1, 0, 2])\n",
    "x"
   ]
  },
  {
   "cell_type": "code",
   "execution_count": 16,
   "metadata": {},
   "outputs": [
    {
     "data": {
      "text/plain": [
       "(2, 3, 4)"
      ]
     },
     "execution_count": 16,
     "metadata": {},
     "output_type": "execute_result"
    }
   ],
   "source": [
    "x.shape"
   ]
  },
  {
   "cell_type": "code",
   "execution_count": 19,
   "metadata": {},
   "outputs": [
    {
     "data": {
      "text/plain": [
       "array([[[ 1,  2,  3,  4],\n",
       "        [ 5,  6,  7,  8],\n",
       "        [ 5,  6,  7,  8]],\n",
       "\n",
       "       [[ 9, 12, 13, 14],\n",
       "        [15, 16, 17, 18],\n",
       "        [ 5,  6,  7,  8]]])"
      ]
     },
     "execution_count": 19,
     "metadata": {},
     "output_type": "execute_result"
    }
   ],
   "source": [
    "x"
   ]
  },
  {
   "cell_type": "code",
   "execution_count": 20,
   "metadata": {},
   "outputs": [
    {
     "data": {
      "text/plain": [
       "<tf.Tensor: id=22, shape=(3, 2, 4), dtype=int64, numpy=\n",
       "array([[[ 1,  2,  3,  4],\n",
       "        [ 9, 12, 13, 14]],\n",
       "\n",
       "       [[ 5,  6,  7,  8],\n",
       "        [15, 16, 17, 18]],\n",
       "\n",
       "       [[ 5,  6,  7,  8],\n",
       "        [ 5,  6,  7,  8]]])>"
      ]
     },
     "execution_count": 20,
     "metadata": {},
     "output_type": "execute_result"
    }
   ],
   "source": [
    "tf.transpose(x, perm=[1, 0, 2])"
   ]
  },
  {
   "cell_type": "code",
   "execution_count": 21,
   "metadata": {},
   "outputs": [
    {
     "data": {
      "text/plain": [
       "<tf.Tensor: id=26, shape=(2, 4, 3), dtype=int64, numpy=\n",
       "array([[[ 1,  5,  5],\n",
       "        [ 2,  6,  6],\n",
       "        [ 3,  7,  7],\n",
       "        [ 4,  8,  8]],\n",
       "\n",
       "       [[ 9, 15,  5],\n",
       "        [12, 16,  6],\n",
       "        [13, 17,  7],\n",
       "        [14, 18,  8]]])>"
      ]
     },
     "execution_count": 21,
     "metadata": {},
     "output_type": "execute_result"
    }
   ],
   "source": [
    "tf.transpose(x, perm=[0, 2, 1])"
   ]
  },
  {
   "cell_type": "code",
   "execution_count": 23,
   "metadata": {},
   "outputs": [
    {
     "data": {
      "text/plain": [
       "(array([[[[ 1,  2,  3,  4],\n",
       "          [ 5,  6,  7,  8],\n",
       "          [ 5,  6,  7,  8]],\n",
       " \n",
       "         [[ 9, 12, 13, 14],\n",
       "          [15, 16, 17, 18],\n",
       "          [ 5,  6,  7,  8]]],\n",
       " \n",
       " \n",
       "        [[[ 1,  2,  3,  4],\n",
       "          [ 5,  6,  7,  8],\n",
       "          [ 5,  6,  7,  8]],\n",
       " \n",
       "         [[ 9, 12, 13, 14],\n",
       "          [15, 16, 17, 18],\n",
       "          [ 5,  6,  7,  8]]],\n",
       " \n",
       " \n",
       "        [[[ 1,  2,  3,  4],\n",
       "          [ 5,  6,  7,  8],\n",
       "          [ 5,  6,  7,  8]],\n",
       " \n",
       "         [[ 9, 12, 13, 14],\n",
       "          [15, 16, 17, 18],\n",
       "          [ 5,  6,  7,  8]]]]), (3, 2, 3, 4))"
      ]
     },
     "execution_count": 23,
     "metadata": {},
     "output_type": "execute_result"
    }
   ],
   "source": [
    "y = np.array([x, x, x])\n",
    "y, y.shape"
   ]
  },
  {
   "cell_type": "code",
   "execution_count": 25,
   "metadata": {},
   "outputs": [],
   "source": [
    "y = tf.transpose(y, [0, 1, 3, 2])"
   ]
  },
  {
   "cell_type": "code",
   "execution_count": 26,
   "metadata": {},
   "outputs": [
    {
     "data": {
      "text/plain": [
       "TensorShape([Dimension(3), Dimension(2), Dimension(4), Dimension(3)])"
      ]
     },
     "execution_count": 26,
     "metadata": {},
     "output_type": "execute_result"
    }
   ],
   "source": [
    "y.shape"
   ]
  },
  {
   "cell_type": "code",
   "execution_count": 27,
   "metadata": {},
   "outputs": [
    {
     "data": {
      "text/plain": [
       "<tf.Tensor: id=32, shape=(3, 2, 4, 3), dtype=int64, numpy=\n",
       "array([[[[ 1,  5,  5],\n",
       "         [ 2,  6,  6],\n",
       "         [ 3,  7,  7],\n",
       "         [ 4,  8,  8]],\n",
       "\n",
       "        [[ 9, 15,  5],\n",
       "         [12, 16,  6],\n",
       "         [13, 17,  7],\n",
       "         [14, 18,  8]]],\n",
       "\n",
       "\n",
       "       [[[ 1,  5,  5],\n",
       "         [ 2,  6,  6],\n",
       "         [ 3,  7,  7],\n",
       "         [ 4,  8,  8]],\n",
       "\n",
       "        [[ 9, 15,  5],\n",
       "         [12, 16,  6],\n",
       "         [13, 17,  7],\n",
       "         [14, 18,  8]]],\n",
       "\n",
       "\n",
       "       [[[ 1,  5,  5],\n",
       "         [ 2,  6,  6],\n",
       "         [ 3,  7,  7],\n",
       "         [ 4,  8,  8]],\n",
       "\n",
       "        [[ 9, 15,  5],\n",
       "         [12, 16,  6],\n",
       "         [13, 17,  7],\n",
       "         [14, 18,  8]]]])>"
      ]
     },
     "execution_count": 27,
     "metadata": {},
     "output_type": "execute_result"
    }
   ],
   "source": [
    "y"
   ]
  },
  {
   "cell_type": "code",
   "execution_count": 35,
   "metadata": {},
   "outputs": [
    {
     "data": {
      "text/plain": [
       "array([[[[0.30799896, 0.82316893, 0.7636575 ],\n",
       "         [0.6583027 , 0.15469258, 0.71651363]],\n",
       "\n",
       "        [[0.11923435, 0.38333213, 0.42696455],\n",
       "         [0.853428  , 0.1045616 , 0.84162444]],\n",
       "\n",
       "        [[0.7853397 , 0.15419328, 0.7083064 ],\n",
       "         [0.06169184, 0.13647841, 0.655387  ]],\n",
       "\n",
       "        [[0.46386954, 0.3069218 , 0.88832426],\n",
       "         [0.46349984, 0.5227203 , 0.18267062]]],\n",
       "\n",
       "\n",
       "       [[[0.53514373, 0.44081578, 0.2121148 ],\n",
       "         [0.6443269 , 0.7175072 , 0.11466067]],\n",
       "\n",
       "        [[0.518557  , 0.37938312, 0.4196383 ],\n",
       "         [0.02403331, 0.5753795 , 0.5665819 ]],\n",
       "\n",
       "        [[0.9579694 , 0.8800726 , 0.65177256],\n",
       "         [0.01282637, 0.43720058, 0.9960695 ]],\n",
       "\n",
       "        [[0.17853965, 0.91726494, 0.7515126 ],\n",
       "         [0.53085244, 0.8674848 , 0.41722327]]],\n",
       "\n",
       "\n",
       "       [[[0.9125486 , 0.12552531, 0.9561104 ],\n",
       "         [0.5558525 , 0.7146968 , 0.27074197]],\n",
       "\n",
       "        [[0.11567192, 0.29358128, 0.65297204],\n",
       "         [0.87951785, 0.7711498 , 0.01380999]],\n",
       "\n",
       "        [[0.6780239 , 0.12091808, 0.6321545 ],\n",
       "         [0.6490284 , 0.03081324, 0.7262296 ]],\n",
       "\n",
       "        [[0.4796246 , 0.30960965, 0.9897681 ],\n",
       "         [0.6352647 , 0.2165916 , 0.31081483]]],\n",
       "\n",
       "\n",
       "       [[[0.46675783, 0.68663174, 0.3276588 ],\n",
       "         [0.9604959 , 0.67881584, 0.33957472]],\n",
       "\n",
       "        [[0.986568  , 0.65451443, 0.0045836 ],\n",
       "         [0.14254873, 0.5170185 , 0.696606  ]],\n",
       "\n",
       "        [[0.09379529, 0.4018698 , 0.7486294 ],\n",
       "         [0.47377694, 0.21607146, 0.9311101 ]],\n",
       "\n",
       "        [[0.9368024 , 0.7959923 , 0.82824796],\n",
       "         [0.41237977, 0.63543487, 0.59132564]]]], dtype=float32)"
      ]
     },
     "execution_count": 35,
     "metadata": {},
     "output_type": "execute_result"
    }
   ],
   "source": [
    "filter_data = tf.Variable( np.random.rand(4, 4, 2, 3), dtype = np.float32)\n",
    "filter_data.numpy()"
   ]
  },
  {
   "cell_type": "code",
   "execution_count": 36,
   "metadata": {},
   "outputs": [
    {
     "data": {
      "text/plain": [
       "8704"
      ]
     },
     "execution_count": 36,
     "metadata": {},
     "output_type": "execute_result"
    }
   ],
   "source": [
    "x = tf.Variable( np.random.rand(128, 34, 256, 1), dtype = np.float32)\n",
    "vec_dim = x.get_shape()[1].value * x.get_shape()[2].value\n",
    "vec_dim"
   ]
  },
  {
   "cell_type": "code",
   "execution_count": 37,
   "metadata": {},
   "outputs": [],
   "source": [
    "x = tf.reshape(x, [-1, vec_dim])"
   ]
  },
  {
   "cell_type": "code",
   "execution_count": 44,
   "metadata": {},
   "outputs": [
    {
     "data": {
      "text/plain": [
       "<tf.Tensor: id=73, shape=(128, 8704), dtype=float32, numpy=\n",
       "array([[0.26091298, 0.02395225, 0.08215548, ..., 0.6024838 , 0.8969037 ,\n",
       "        0.0055272 ],\n",
       "       [0.8848222 , 0.65228057, 0.76696676, ..., 0.60426486, 0.81016   ,\n",
       "        0.9583514 ],\n",
       "       [0.48387542, 0.53225696, 0.26299882, ..., 0.8052586 , 0.5187682 ,\n",
       "        0.10895912],\n",
       "       ...,\n",
       "       [0.8247141 , 0.79134506, 0.28942916, ..., 0.1947049 , 0.72582   ,\n",
       "        0.6570907 ],\n",
       "       [0.50457525, 0.9717265 , 0.41672745, ..., 0.07750852, 0.55426055,\n",
       "        0.344219  ],\n",
       "       [0.09515209, 0.35281268, 0.00765212, ..., 0.92056334, 0.26688537,\n",
       "        0.8610988 ]], dtype=float32)>"
      ]
     },
     "execution_count": 44,
     "metadata": {},
     "output_type": "execute_result"
    }
   ],
   "source": [
    "x"
   ]
  },
  {
   "cell_type": "code",
   "execution_count": 40,
   "metadata": {},
   "outputs": [
    {
     "data": {
      "text/plain": [
       "TensorShape([Dimension(128), Dimension(8704)])"
      ]
     },
     "execution_count": 40,
     "metadata": {},
     "output_type": "execute_result"
    }
   ],
   "source": [
    "x.shape"
   ]
  },
  {
   "cell_type": "code",
   "execution_count": 41,
   "metadata": {},
   "outputs": [
    {
     "data": {
      "text/plain": [
       "<tf.Variable 'Variable:0' shape=(9,) dtype=int32, numpy=array([1, 2, 3, 4, 5, 6, 7, 8, 9], dtype=int32)>"
      ]
     },
     "execution_count": 41,
     "metadata": {},
     "output_type": "execute_result"
    }
   ],
   "source": [
    "a = tf.Variable([1, 2, 3, 4, 5, 6, 7, 8, 9])\n",
    "a"
   ]
  },
  {
   "cell_type": "code",
   "execution_count": 45,
   "metadata": {},
   "outputs": [],
   "source": [
    "b = tf.Variable(tf.random_uniform(shape=[cl[0]], minval=-stdv, maxval=stdv),\n",
    "                                name='b')"
   ]
  },
  {
   "cell_type": "code",
   "execution_count": 47,
   "metadata": {},
   "outputs": [
    {
     "data": {
      "text/plain": [
       "TensorShape([Dimension(256)])"
      ]
     },
     "execution_count": 47,
     "metadata": {},
     "output_type": "execute_result"
    }
   ],
   "source": [
    "b.shape"
   ]
  },
  {
   "cell_type": "code",
   "execution_count": 48,
   "metadata": {},
   "outputs": [
    {
     "data": {
      "text/plain": [
       "[8704, 1024, 1024]"
      ]
     },
     "execution_count": 48,
     "metadata": {},
     "output_type": "execute_result"
    }
   ],
   "source": [
    "fully_layers=[1024, 1024]\n",
    "weights = [vec_dim] + list(fully_layers)\n",
    "weights"
   ]
  },
  {
   "cell_type": "code",
   "execution_count": 74,
   "metadata": {},
   "outputs": [],
   "source": [
    "stdv = 1 / sqrt(weights[0])\n",
    "fl = 1024\n",
    "W = tf.Variable(tf.random_uniform([weights[0], fl], minval=-stdv, maxval=stdv), dtype='float32',\n",
    "                                name='W')\n",
    "b = tf.Variable(tf.random_uniform(shape=[fl], minval=-stdv, maxval=stdv), dtype='float32', name='b')"
   ]
  },
  {
   "cell_type": "code",
   "execution_count": 75,
   "metadata": {},
   "outputs": [
    {
     "data": {
      "text/plain": [
       "8704"
      ]
     },
     "execution_count": 75,
     "metadata": {},
     "output_type": "execute_result"
    }
   ],
   "source": [
    "len(W.numpy())"
   ]
  },
  {
   "cell_type": "code",
   "execution_count": 76,
   "metadata": {},
   "outputs": [
    {
     "data": {
      "text/plain": [
       "<tf.Variable 'Variable:0' shape=(128, 8704) dtype=float32, numpy=\n",
       "array([[0.2901108 , 0.83291554, 0.6619928 , ..., 0.09755427, 0.91522104,\n",
       "        0.4779632 ],\n",
       "       [0.37430683, 0.31983247, 0.07438554, ..., 0.51613784, 0.68596303,\n",
       "        0.37781325],\n",
       "       [0.27670228, 0.5220767 , 0.5729016 , ..., 0.9040989 , 0.19318445,\n",
       "        0.12245632],\n",
       "       ...,\n",
       "       [0.16640432, 0.68992054, 0.751674  , ..., 0.28412947, 0.6025982 ,\n",
       "        0.76797074],\n",
       "       [0.26716244, 0.04463526, 0.04058908, ..., 0.29468137, 0.65247977,\n",
       "        0.42201507],\n",
       "       [0.49368113, 0.46398333, 0.4197654 , ..., 0.10489789, 0.295936  ,\n",
       "        0.00209406]], dtype=float32)>"
      ]
     },
     "execution_count": 76,
     "metadata": {},
     "output_type": "execute_result"
    }
   ],
   "source": [
    "X = tf.Variable( np.random.rand(128, 8704), dtype = np.float32)\n",
    "X"
   ]
  },
  {
   "cell_type": "code",
   "execution_count": 77,
   "metadata": {},
   "outputs": [],
   "source": [
    "x = tf.nn.xw_plus_b(X, W, b)"
   ]
  },
  {
   "cell_type": "code",
   "execution_count": 78,
   "metadata": {},
   "outputs": [
    {
     "data": {
      "text/plain": [
       "<tf.Tensor: id=275, shape=(128, 1024), dtype=float32, numpy=\n",
       "array([[ 0.13036233, -0.06408401, -0.551159  , ..., -0.21135771,\n",
       "         0.3154488 , -0.00207749],\n",
       "       [ 0.20575093, -0.19009405, -0.32586235, ..., -0.4198727 ,\n",
       "         0.32316473,  0.28090763],\n",
       "       [ 0.29095927, -0.25047466, -0.33680832, ..., -0.50708663,\n",
       "         0.24769714,  0.22998542],\n",
       "       ...,\n",
       "       [ 0.30271298, -0.2856101 , -0.8030951 , ..., -0.47145957,\n",
       "         0.37966487, -0.06391963],\n",
       "       [ 0.26938105, -0.36993653, -0.36297214, ..., -0.4588333 ,\n",
       "         0.7534444 , -0.00255142],\n",
       "       [ 0.2885882 , -0.6012203 , -0.7255537 , ..., -0.5013625 ,\n",
       "         0.6659295 ,  0.37876338]], dtype=float32)>"
      ]
     },
     "execution_count": 78,
     "metadata": {},
     "output_type": "execute_result"
    }
   ],
   "source": [
    "x"
   ]
  },
  {
   "cell_type": "code",
   "execution_count": 62,
   "metadata": {},
   "outputs": [
    {
     "data": {
      "text/plain": [
       "<tf.Variable 'b:0' shape=(1024,) dtype=float32, numpy=\n",
       "array([ 0.00465211,  0.00034995, -0.00761652, ...,  0.0064838 ,\n",
       "        0.00998234,  0.0100738 ], dtype=float32)>"
      ]
     },
     "execution_count": 62,
     "metadata": {},
     "output_type": "execute_result"
    }
   ],
   "source": [
    "b"
   ]
  },
  {
   "cell_type": "code",
   "execution_count": 63,
   "metadata": {},
   "outputs": [
    {
     "data": {
      "text/plain": [
       "array([[ 58,  64],\n",
       "       [139, 154]])"
      ]
     },
     "execution_count": 63,
     "metadata": {},
     "output_type": "execute_result"
    }
   ],
   "source": [
    "\n",
    "x1=[[1, 2, 3],[4, 5, 6]]\n",
    "w1=[[ 7,  8],[ 9, 10],[11, 12]]\n",
    "\n",
    "np.dot(x1,w1)\n"
   ]
  },
  {
   "cell_type": "code",
   "execution_count": 69,
   "metadata": {},
   "outputs": [
    {
     "data": {
      "text/plain": [
       "<tf.Tensor: id=194, shape=(2, 2), dtype=int32, numpy=\n",
       "array([[ 59,  65],\n",
       "       [140, 155]], dtype=int32)>"
      ]
     },
     "execution_count": 69,
     "metadata": {},
     "output_type": "execute_result"
    }
   ],
   "source": [
    "import tensorflow as tf\n",
    "x=[[1, 2, 3],[4, 5, 6]]\n",
    "w=[[ 7,  8],[ 9, 10],[11, 12]]\n",
    "b=[[3,3],[3,3]]\n",
    "result=tf.nn.xw_plus_b(x,w,[1,1])\n",
    "result"
   ]
  },
  {
   "cell_type": "code",
   "execution_count": 82,
   "metadata": {},
   "outputs": [],
   "source": [
    "stdv = 1 / sqrt(weights[1])\n",
    "fl = 1024\n",
    "W = tf.Variable(tf.random_uniform([weights[1], fl], minval=-stdv, maxval=stdv), dtype='float32',\n",
    "                                name='W')\n",
    "b = tf.Variable(tf.random_uniform(shape=[fl], minval=-stdv, maxval=stdv), dtype='float32', name='b')"
   ]
  },
  {
   "cell_type": "code",
   "execution_count": 72,
   "metadata": {},
   "outputs": [
    {
     "data": {
      "text/plain": [
       "<tf.Variable 'b:0' shape=(1024,) dtype=float32, numpy=\n",
       "array([-0.01755464, -0.02979476,  0.02828516, ..., -0.01914884,\n",
       "       -0.01361658,  0.02022907], dtype=float32)>"
      ]
     },
     "execution_count": 72,
     "metadata": {},
     "output_type": "execute_result"
    }
   ],
   "source": [
    "b"
   ]
  },
  {
   "cell_type": "code",
   "execution_count": 80,
   "metadata": {},
   "outputs": [
    {
     "data": {
      "text/plain": [
       "<tf.Tensor: id=275, shape=(128, 1024), dtype=float32, numpy=\n",
       "array([[ 0.13036233, -0.06408401, -0.551159  , ..., -0.21135771,\n",
       "         0.3154488 , -0.00207749],\n",
       "       [ 0.20575093, -0.19009405, -0.32586235, ..., -0.4198727 ,\n",
       "         0.32316473,  0.28090763],\n",
       "       [ 0.29095927, -0.25047466, -0.33680832, ..., -0.50708663,\n",
       "         0.24769714,  0.22998542],\n",
       "       ...,\n",
       "       [ 0.30271298, -0.2856101 , -0.8030951 , ..., -0.47145957,\n",
       "         0.37966487, -0.06391963],\n",
       "       [ 0.26938105, -0.36993653, -0.36297214, ..., -0.4588333 ,\n",
       "         0.7534444 , -0.00255142],\n",
       "       [ 0.2885882 , -0.6012203 , -0.7255537 , ..., -0.5013625 ,\n",
       "         0.6659295 ,  0.37876338]], dtype=float32)>"
      ]
     },
     "execution_count": 80,
     "metadata": {},
     "output_type": "execute_result"
    }
   ],
   "source": [
    "x"
   ]
  },
  {
   "cell_type": "code",
   "execution_count": 83,
   "metadata": {},
   "outputs": [],
   "source": [
    "x = tf.nn.xw_plus_b(x, W, b)"
   ]
  },
  {
   "cell_type": "code",
   "execution_count": 84,
   "metadata": {},
   "outputs": [
    {
     "data": {
      "text/plain": [
       "<tf.Tensor: id=313, shape=(128, 1024), dtype=float32, numpy=\n",
       "array([[-0.09975816,  0.2893965 , -0.02795241, ...,  0.19764054,\n",
       "         0.05368655, -0.00926338],\n",
       "       [-0.11563069,  0.35026807, -0.12495884, ..., -0.06432645,\n",
       "         0.24929076, -0.07218348],\n",
       "       [-0.1152805 ,  0.27792373, -0.09132429, ...,  0.0041832 ,\n",
       "        -0.00885827, -0.02416847],\n",
       "       ...,\n",
       "       [-0.21786502,  0.46398368, -0.0934715 , ...,  0.04117008,\n",
       "         0.02778594,  0.0232548 ],\n",
       "       [-0.10884545,  0.4512498 , -0.08760331, ...,  0.23547985,\n",
       "         0.07294088, -0.09993291],\n",
       "       [-0.10058627,  0.3406928 ,  0.12559593, ...,  0.09196529,\n",
       "         0.07933102, -0.04062647]], dtype=float32)>"
      ]
     },
     "execution_count": 84,
     "metadata": {},
     "output_type": "execute_result"
    }
   ],
   "source": [
    "x"
   ]
  },
  {
   "cell_type": "code",
   "execution_count": 86,
   "metadata": {},
   "outputs": [],
   "source": [
    "x = tf.nn.dropout(x, 0.9)"
   ]
  },
  {
   "cell_type": "code",
   "execution_count": 87,
   "metadata": {},
   "outputs": [
    {
     "data": {
      "text/plain": [
       "<tf.Tensor: id=327, shape=(128, 1024), dtype=float32, numpy=\n",
       "array([[-0.11084241,  0.32155168, -0.03105824, ...,  0.2196006 ,\n",
       "         0.        , -0.01029265],\n",
       "       [-0.12847856,  0.38918674, -0.13884316, ..., -0.07147384,\n",
       "         0.27698976, -0.08020387],\n",
       "       [-0.12808944,  0.30880415, -0.        , ...,  0.004648  ,\n",
       "        -0.00984252, -0.02685385],\n",
       "       ...,\n",
       "       [-0.24207225,  0.51553744, -0.10385722, ...,  0.04574453,\n",
       "         0.03087327,  0.02583867],\n",
       "       [-0.12093939,  0.50138867, -0.09733701, ...,  0.26164427,\n",
       "         0.08104543, -0.11103657],\n",
       "       [-0.        ,  0.37854755,  0.13955103, ...,  0.10218365,\n",
       "         0.08814558, -0.04514053]], dtype=float32)>"
      ]
     },
     "execution_count": 87,
     "metadata": {},
     "output_type": "execute_result"
    }
   ],
   "source": [
    "x"
   ]
  },
  {
   "cell_type": "code",
   "execution_count": 90,
   "metadata": {},
   "outputs": [],
   "source": [
    "num_of_classes= 4\n",
    "stdv = 1 / sqrt(weights[-1])\n",
    "# 输出层\n",
    "W = tf.Variable(tf.random_uniform([weights[-1], num_of_classes], minval=-stdv, maxval=stdv),\n",
    "                            dtype='float32',\n",
    "                            name='W')\n",
    "b = tf.Variable(tf.random_uniform(shape=[num_of_classes], minval=-stdv, maxval=stdv), name='b')\n",
    "\n",
    "p_y_given_x = tf.nn.xw_plus_b(x, W, b, name=\"scores\")\n",
    "predictions = tf.argmax(p_y_given_x, 1)"
   ]
  },
  {
   "cell_type": "code",
   "execution_count": 93,
   "metadata": {},
   "outputs": [
    {
     "data": {
      "text/plain": [
       "TensorShape([Dimension(128), Dimension(4)])"
      ]
     },
     "execution_count": 93,
     "metadata": {},
     "output_type": "execute_result"
    }
   ],
   "source": [
    "p_y_given_x.shape"
   ]
  },
  {
   "cell_type": "code",
   "execution_count": 94,
   "metadata": {},
   "outputs": [
    {
     "data": {
      "text/plain": [
       "<tf.Tensor: id=362, shape=(128,), dtype=int64, numpy=\n",
       "array([0, 0, 1, 3, 3, 3, 3, 3, 2, 3, 3, 3, 3, 3, 3, 3, 1, 3, 3, 3, 3, 0,\n",
       "       3, 0, 0, 3, 3, 3, 3, 3, 3, 3, 3, 3, 3, 3, 3, 3, 3, 3, 0, 3, 1, 3,\n",
       "       0, 3, 3, 3, 3, 0, 0, 3, 0, 3, 0, 3, 3, 3, 0, 0, 3, 0, 0, 0, 3, 3,\n",
       "       3, 3, 2, 0, 0, 0, 3, 0, 3, 3, 3, 3, 3, 3, 2, 3, 3, 3, 3, 0, 0, 3,\n",
       "       3, 3, 3, 0, 3, 3, 3, 3, 3, 3, 0, 3, 3, 3, 3, 3, 3, 3, 3, 3, 3, 3,\n",
       "       3, 3, 3, 3, 3, 3, 3, 3, 3, 3, 3, 3, 3, 0, 0, 0, 0, 3])>"
      ]
     },
     "execution_count": 94,
     "metadata": {},
     "output_type": "execute_result"
    }
   ],
   "source": [
    "predictions"
   ]
  },
  {
   "cell_type": "code",
   "execution_count": null,
   "metadata": {},
   "outputs": [],
   "source": []
  }
 ],
 "metadata": {
  "kernelspec": {
   "display_name": "Python 3",
   "language": "python",
   "name": "python3"
  },
  "language_info": {
   "codemirror_mode": {
    "name": "ipython",
    "version": 3
   },
   "file_extension": ".py",
   "mimetype": "text/x-python",
   "name": "python",
   "nbconvert_exporter": "python",
   "pygments_lexer": "ipython3",
   "version": "3.6.7"
  }
 },
 "nbformat": 4,
 "nbformat_minor": 2
}
